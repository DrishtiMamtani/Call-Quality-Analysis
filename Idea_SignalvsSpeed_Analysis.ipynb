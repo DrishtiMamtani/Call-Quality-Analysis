{
 "cells": [
  {
   "cell_type": "code",
   "execution_count": 1,
   "metadata": {},
   "outputs": [],
   "source": [
    "import pandas as pd \n",
    "import numpy as np\n",
    "from sklearn import preprocessing\n",
    "data=pd.read_csv(\"final_data.csv\")\n",
    "#final_data is the final pre processed data"
   ]
  },
  {
   "cell_type": "code",
   "execution_count": 2,
   "metadata": {},
   "outputs": [
    {
     "data": {
      "text/html": [
       "<div>\n",
       "<style scoped>\n",
       "    .dataframe tbody tr th:only-of-type {\n",
       "        vertical-align: middle;\n",
       "    }\n",
       "\n",
       "    .dataframe tbody tr th {\n",
       "        vertical-align: top;\n",
       "    }\n",
       "\n",
       "    .dataframe thead th {\n",
       "        text-align: right;\n",
       "    }\n",
       "</style>\n",
       "<table border=\"1\" class=\"dataframe\">\n",
       "  <thead>\n",
       "    <tr style=\"text-align: right;\">\n",
       "      <th></th>\n",
       "      <th>Operator</th>\n",
       "      <th>In Out Travelling</th>\n",
       "      <th>Network Type</th>\n",
       "      <th>Rating</th>\n",
       "      <th>Call Drop Category</th>\n",
       "      <th>Latitude</th>\n",
       "      <th>Longitude</th>\n",
       "      <th>State Name</th>\n",
       "      <th>Average Data Speed Download</th>\n",
       "      <th>Average Data Speed Upload</th>\n",
       "      <th>Population</th>\n",
       "      <th>Literacy Rate</th>\n",
       "      <th>Rainfall</th>\n",
       "      <th>Area of the state</th>\n",
       "      <th>Average_Signal</th>\n",
       "    </tr>\n",
       "  </thead>\n",
       "  <tbody>\n",
       "    <tr>\n",
       "      <th>0</th>\n",
       "      <td>Airtel</td>\n",
       "      <td>Indoor</td>\n",
       "      <td>4G</td>\n",
       "      <td>3</td>\n",
       "      <td>Satisfactory</td>\n",
       "      <td>0.196228</td>\n",
       "      <td>0.325356</td>\n",
       "      <td>Karnataka</td>\n",
       "      <td>0.271480</td>\n",
       "      <td>0.197512</td>\n",
       "      <td>2</td>\n",
       "      <td>7</td>\n",
       "      <td>3</td>\n",
       "      <td>0.504087</td>\n",
       "      <td>0.476721</td>\n",
       "    </tr>\n",
       "    <tr>\n",
       "      <th>1</th>\n",
       "      <td>Vodafone</td>\n",
       "      <td>Indoor</td>\n",
       "      <td>4G</td>\n",
       "      <td>1</td>\n",
       "      <td>Call Dropped</td>\n",
       "      <td>0.632907</td>\n",
       "      <td>0.135432</td>\n",
       "      <td>Gujarat</td>\n",
       "      <td>0.211519</td>\n",
       "      <td>0.370879</td>\n",
       "      <td>2</td>\n",
       "      <td>8</td>\n",
       "      <td>2</td>\n",
       "      <td>0.518040</td>\n",
       "      <td>0.477252</td>\n",
       "    </tr>\n",
       "    <tr>\n",
       "      <th>2</th>\n",
       "      <td>Airtel</td>\n",
       "      <td>Indoor</td>\n",
       "      <td>3G</td>\n",
       "      <td>1</td>\n",
       "      <td>Call Dropped</td>\n",
       "      <td>0.127093</td>\n",
       "      <td>0.290671</td>\n",
       "      <td>Tamil Nadu</td>\n",
       "      <td>0.036321</td>\n",
       "      <td>0.062303</td>\n",
       "      <td>2</td>\n",
       "      <td>8</td>\n",
       "      <td>2</td>\n",
       "      <td>0.300607</td>\n",
       "      <td>0.478454</td>\n",
       "    </tr>\n",
       "    <tr>\n",
       "      <th>3</th>\n",
       "      <td>Airtel</td>\n",
       "      <td>Indoor</td>\n",
       "      <td>4G</td>\n",
       "      <td>3</td>\n",
       "      <td>Satisfactory</td>\n",
       "      <td>0.580181</td>\n",
       "      <td>0.155327</td>\n",
       "      <td>Gujarat</td>\n",
       "      <td>0.175517</td>\n",
       "      <td>0.191200</td>\n",
       "      <td>2</td>\n",
       "      <td>8</td>\n",
       "      <td>2</td>\n",
       "      <td>0.518040</td>\n",
       "      <td>0.477699</td>\n",
       "    </tr>\n",
       "    <tr>\n",
       "      <th>4</th>\n",
       "      <td>Airtel</td>\n",
       "      <td>Travelling</td>\n",
       "      <td>4G</td>\n",
       "      <td>3</td>\n",
       "      <td>Satisfactory</td>\n",
       "      <td>0.425737</td>\n",
       "      <td>0.180503</td>\n",
       "      <td>Maharashtra</td>\n",
       "      <td>0.333021</td>\n",
       "      <td>0.395612</td>\n",
       "      <td>4</td>\n",
       "      <td>8</td>\n",
       "      <td>4</td>\n",
       "      <td>0.886194</td>\n",
       "      <td>0.476859</td>\n",
       "    </tr>\n",
       "  </tbody>\n",
       "</table>\n",
       "</div>"
      ],
      "text/plain": [
       "   Operator In Out Travelling Network Type  Rating Call Drop Category  \\\n",
       "0    Airtel            Indoor           4G       3       Satisfactory   \n",
       "1  Vodafone            Indoor           4G       1       Call Dropped   \n",
       "2    Airtel            Indoor           3G       1       Call Dropped   \n",
       "3    Airtel            Indoor           4G       3       Satisfactory   \n",
       "4    Airtel        Travelling           4G       3       Satisfactory   \n",
       "\n",
       "   Latitude  Longitude   State Name  Average Data Speed Download  \\\n",
       "0  0.196228   0.325356    Karnataka                     0.271480   \n",
       "1  0.632907   0.135432      Gujarat                     0.211519   \n",
       "2  0.127093   0.290671   Tamil Nadu                     0.036321   \n",
       "3  0.580181   0.155327      Gujarat                     0.175517   \n",
       "4  0.425737   0.180503  Maharashtra                     0.333021   \n",
       "\n",
       "   Average Data Speed Upload  Population  Literacy Rate  Rainfall  \\\n",
       "0                   0.197512           2              7         3   \n",
       "1                   0.370879           2              8         2   \n",
       "2                   0.062303           2              8         2   \n",
       "3                   0.191200           2              8         2   \n",
       "4                   0.395612           4              8         4   \n",
       "\n",
       "   Area of the state  Average_Signal  \n",
       "0           0.504087        0.476721  \n",
       "1           0.518040        0.477252  \n",
       "2           0.300607        0.478454  \n",
       "3           0.518040        0.477699  \n",
       "4           0.886194        0.476859  "
      ]
     },
     "execution_count": 2,
     "metadata": {},
     "output_type": "execute_result"
    }
   ],
   "source": [
    "data.head()"
   ]
  },
  {
   "cell_type": "code",
   "execution_count": 3,
   "metadata": {},
   "outputs": [
    {
     "data": {
      "text/plain": [
       "array(['Airtel', 'Vodafone', 'RJio', 'BSNL', 'Idea'], dtype=object)"
      ]
     },
     "execution_count": 3,
     "metadata": {},
     "output_type": "execute_result"
    }
   ],
   "source": [
    "data['Operator'].unique()"
   ]
  },
  {
   "cell_type": "code",
   "execution_count": 4,
   "metadata": {},
   "outputs": [],
   "source": [
    "Idea=data[data['Operator']=='Idea']"
   ]
  },
  {
   "cell_type": "code",
   "execution_count": 5,
   "metadata": {},
   "outputs": [
    {
     "data": {
      "text/plain": [
       "Operator                       2034\n",
       "In Out Travelling              2034\n",
       "Network Type                   2034\n",
       "Rating                         2034\n",
       "Call Drop Category             2034\n",
       "Latitude                       2034\n",
       "Longitude                      2034\n",
       "State Name                     2034\n",
       "Average Data Speed Download    2034\n",
       "Average Data Speed Upload      2034\n",
       "Population                     2034\n",
       "Literacy Rate                  2034\n",
       "Rainfall                       2034\n",
       "Area of the state              2034\n",
       "Average_Signal                 2034\n",
       "dtype: int64"
      ]
     },
     "execution_count": 5,
     "metadata": {},
     "output_type": "execute_result"
    }
   ],
   "source": [
    "Idea.count()"
   ]
  },
  {
   "cell_type": "code",
   "execution_count": 6,
   "metadata": {},
   "outputs": [],
   "source": [
    "from sklearn import preprocessing\n",
    "from numpy.linalg import inv"
   ]
  },
  {
   "cell_type": "code",
   "execution_count": 7,
   "metadata": {},
   "outputs": [],
   "source": [
    "X=Idea[['Average Data Speed Download','Average Data Speed Upload']]"
   ]
  },
  {
   "cell_type": "code",
   "execution_count": 8,
   "metadata": {},
   "outputs": [
    {
     "data": {
      "text/plain": [
       "Average Data Speed Download    2034\n",
       "Average Data Speed Upload      2034\n",
       "dtype: int64"
      ]
     },
     "execution_count": 8,
     "metadata": {},
     "output_type": "execute_result"
    }
   ],
   "source": [
    "X.count()"
   ]
  },
  {
   "cell_type": "code",
   "execution_count": 9,
   "metadata": {},
   "outputs": [],
   "source": [
    "y=Idea['Average_Signal']"
   ]
  },
  {
   "cell_type": "code",
   "execution_count": 11,
   "metadata": {},
   "outputs": [],
   "source": [
    "from sklearn.model_selection import train_test_split \n",
    "x_train, x_test, y_train, y_test = train_test_split(X, y, test_size=0.3, random_state=1) \n",
    "x_train.reset_index(inplace = True, drop = True) \n",
    "x_test.reset_index(inplace = True, drop = True) \n",
    "y_train.reset_index(inplace = True, drop = True) \n",
    "y_test.reset_index(inplace = True, drop = True) \n",
    "#We have used holdout method and 70%of data is taken as training data and rest as testing"
   ]
  },
  {
   "cell_type": "code",
   "execution_count": 12,
   "metadata": {},
   "outputs": [
    {
     "data": {
      "text/html": [
       "<div>\n",
       "<style scoped>\n",
       "    .dataframe tbody tr th:only-of-type {\n",
       "        vertical-align: middle;\n",
       "    }\n",
       "\n",
       "    .dataframe tbody tr th {\n",
       "        vertical-align: top;\n",
       "    }\n",
       "\n",
       "    .dataframe thead th {\n",
       "        text-align: right;\n",
       "    }\n",
       "</style>\n",
       "<table border=\"1\" class=\"dataframe\">\n",
       "  <thead>\n",
       "    <tr style=\"text-align: right;\">\n",
       "      <th></th>\n",
       "      <th>Average Data Speed Download</th>\n",
       "      <th>Average Data Speed Upload</th>\n",
       "    </tr>\n",
       "  </thead>\n",
       "  <tbody>\n",
       "    <tr>\n",
       "      <th>0</th>\n",
       "      <td>0.053707</td>\n",
       "      <td>0.079390</td>\n",
       "    </tr>\n",
       "    <tr>\n",
       "      <th>1</th>\n",
       "      <td>0.177117</td>\n",
       "      <td>0.445744</td>\n",
       "    </tr>\n",
       "    <tr>\n",
       "      <th>2</th>\n",
       "      <td>0.099340</td>\n",
       "      <td>0.149422</td>\n",
       "    </tr>\n",
       "    <tr>\n",
       "      <th>3</th>\n",
       "      <td>0.053707</td>\n",
       "      <td>0.079390</td>\n",
       "    </tr>\n",
       "    <tr>\n",
       "      <th>4</th>\n",
       "      <td>0.053707</td>\n",
       "      <td>0.079390</td>\n",
       "    </tr>\n",
       "  </tbody>\n",
       "</table>\n",
       "</div>"
      ],
      "text/plain": [
       "   Average Data Speed Download  Average Data Speed Upload\n",
       "0                     0.053707                   0.079390\n",
       "1                     0.177117                   0.445744\n",
       "2                     0.099340                   0.149422\n",
       "3                     0.053707                   0.079390\n",
       "4                     0.053707                   0.079390"
      ]
     },
     "execution_count": 12,
     "metadata": {},
     "output_type": "execute_result"
    }
   ],
   "source": [
    "x_train.head()"
   ]
  },
  {
   "cell_type": "code",
   "execution_count": 13,
   "metadata": {},
   "outputs": [],
   "source": [
    "n=x_train.count()[0]"
   ]
  },
  {
   "cell_type": "code",
   "execution_count": 14,
   "metadata": {},
   "outputs": [
    {
     "data": {
      "text/plain": [
       "1423"
      ]
     },
     "execution_count": 14,
     "metadata": {},
     "output_type": "execute_result"
    }
   ],
   "source": [
    "n"
   ]
  },
  {
   "cell_type": "markdown",
   "metadata": {},
   "source": [
    "# Regression Model"
   ]
  },
  {
   "cell_type": "code",
   "execution_count": 15,
   "metadata": {},
   "outputs": [],
   "source": [
    "sum_x1=0\n",
    "sum_x2=0\n",
    "sum_y1=0\n",
    "sum_x1x1=0\n",
    "sum_x1x2=0\n",
    "sum_x2x2=0\n",
    "sum_x1y1=0\n",
    "sum_x2y1=0\n",
    "for i in range(0,n):\n",
    "    sum_x1=sum_x1+x_train['Average Data Speed Download'][i]\n",
    "    sum_x2=sum_x2+x_train['Average Data Speed Upload'][i]\n",
    "    sum_y1=sum_y1+y_train[i]\n",
    "    sum_x1x1=sum_x1x1+x_train['Average Data Speed Download'][i]*x_train['Average Data Speed Download'][i]\n",
    "    sum_x1x2=sum_x1x2+x_train['Average Data Speed Download'][i]*x_train['Average Data Speed Upload'][i]\n",
    "    sum_x2x2=sum_x2x2+x_train['Average Data Speed Upload'][i]*x_train['Average Data Speed Upload'][i]\n",
    "    sum_x1y1=sum_x1y1+x_train['Average Data Speed Download'][i]*y_train[i]\n",
    "    sum_x2y1=sum_x2y1+x_train['Average Data Speed Upload'][i]*y_train[i]\n",
    "A = np.array([[n, sum_x1, sum_x2], [sum_x1, sum_x1x1, sum_x1x2],[sum_x2,sum_x1x2,sum_x2x2]])\n",
    "B=np.array([sum_y1, sum_x1y1, sum_x2y1])\n",
    "#All the sums are used to calculate A and then X is calculated using AX=B so X=Inverse(A)*B \n",
    "#X will give all the parameters(w0,w1,w2)"
   ]
  },
  {
   "cell_type": "code",
   "execution_count": 16,
   "metadata": {},
   "outputs": [
    {
     "data": {
      "text/plain": [
       "array([[1423.        ,  183.70216724,  401.5040905 ],\n",
       "       [ 183.70216724,   29.82983644,   68.91339162],\n",
       "       [ 401.5040905 ,   68.91339162,  164.56474652]])"
      ]
     },
     "execution_count": 16,
     "metadata": {},
     "output_type": "execute_result"
    }
   ],
   "source": [
    "A"
   ]
  },
  {
   "cell_type": "code",
   "execution_count": 17,
   "metadata": {},
   "outputs": [
    {
     "data": {
      "text/plain": [
       "array([679.82767935,  87.70441632, 191.63072536])"
      ]
     },
     "execution_count": 17,
     "metadata": {},
     "output_type": "execute_result"
    }
   ],
   "source": [
    "B"
   ]
  },
  {
   "cell_type": "code",
   "execution_count": 18,
   "metadata": {},
   "outputs": [],
   "source": [
    "Inverse=inv(A)\n",
    "w0=Inverse[0][0]*B[0]+Inverse[0][1]*B[1]+Inverse[0][2]*B[2]\n",
    "w1=Inverse[1][0]*B[0]+Inverse[1][1]*B[1]+Inverse[1][2]*B[2]\n",
    "w2=Inverse[2][0]*B[0]+Inverse[2][1]*B[1]+Inverse[2][2]*B[2]\n",
    "W=np.array([w0,w1,w2])"
   ]
  },
  {
   "cell_type": "code",
   "execution_count": 19,
   "metadata": {},
   "outputs": [
    {
     "data": {
      "text/plain": [
       "array([ 0.47845812,  0.00859258, -0.00646742])"
      ]
     },
     "execution_count": 19,
     "metadata": {},
     "output_type": "execute_result"
    }
   ],
   "source": [
    "W"
   ]
  },
  {
   "cell_type": "code",
   "execution_count": 20,
   "metadata": {},
   "outputs": [
    {
     "data": {
      "text/plain": [
       "0.00041971114219753805"
      ]
     },
     "execution_count": 20,
     "metadata": {},
     "output_type": "execute_result"
    }
   ],
   "source": [
    "y_pred=w0+w1*x_test['Average Data Speed Download']+w2*x_test['Average Data Speed Upload']\n",
    "#y_pred gives the predicted values of y based on the regression model\n",
    "MSE=0\n",
    "for i in range(0,len(y_test)):\n",
    "    MSE=MSE+(y_pred[i]-y_test[i])**2\n",
    "RMSE1=np.sqrt(MSE/len(y_test))\n",
    "RMSE1\n",
    "#RMSE is used to find the goodness of the model and is calacuated as root of sum of square of difference of actual and prediacted values."
   ]
  },
  {
   "cell_type": "code",
   "execution_count": 21,
   "metadata": {},
   "outputs": [
    {
     "data": {
      "text/plain": [
       "0.4777159241260216"
      ]
     },
     "execution_count": 21,
     "metadata": {},
     "output_type": "execute_result"
    }
   ],
   "source": [
    "ybar=y_test.mean()\n",
    "ybar"
   ]
  },
  {
   "cell_type": "code",
   "execution_count": 23,
   "metadata": {},
   "outputs": [
    {
     "data": {
      "text/plain": [
       "611"
      ]
     },
     "execution_count": 23,
     "metadata": {},
     "output_type": "execute_result"
    }
   ],
   "source": [
    "SSR=0\n",
    "SST=0\n",
    "SSE=0\n",
    "y_test.count()\n",
    "#SST is total sum of squares\n",
    "#SSR is sum of squares due to regression\n",
    "#SSE is sum of squares due to error"
   ]
  },
  {
   "cell_type": "code",
   "execution_count": 24,
   "metadata": {},
   "outputs": [],
   "source": [
    "for i in range (0,len(y_test)):\n",
    "    SST=SST+(y_test[i]-ybar)*(y_test[i]-ybar)\n",
    "    SSR=SSR+(y_pred[i]-ybar)*(y_pred[i]-ybar)\n",
    "    SSE=SSE+(y_test[i]-y_pred[i])*(y_test[i]-y_pred[i])  "
   ]
  },
  {
   "cell_type": "code",
   "execution_count": 25,
   "metadata": {},
   "outputs": [
    {
     "name": "stdout",
     "output_type": "stream",
     "text": [
      "Total sum of squares= 0.00040479863709094873\n"
     ]
    }
   ],
   "source": [
    "print(\"Total sum of squares=\", SST )"
   ]
  },
  {
   "cell_type": "code",
   "execution_count": 26,
   "metadata": {},
   "outputs": [
    {
     "name": "stdout",
     "output_type": "stream",
     "text": [
      "Sum of squares due to regression = 0.0002977747738228349\n"
     ]
    }
   ],
   "source": [
    "print(\"Sum of squares due to regression =\", SSR)"
   ]
  },
  {
   "cell_type": "code",
   "execution_count": 27,
   "metadata": {},
   "outputs": [
    {
     "name": "stdout",
     "output_type": "stream",
     "text": [
      "Sum of square due to error= 0.00010763219760258958\n"
     ]
    }
   ],
   "source": [
    "print(\"Sum of square due to error=\", SSE)"
   ]
  },
  {
   "cell_type": "code",
   "execution_count": 28,
   "metadata": {},
   "outputs": [],
   "source": [
    "Rsquare=SSR/SST"
   ]
  },
  {
   "cell_type": "code",
   "execution_count": 29,
   "metadata": {},
   "outputs": [
    {
     "name": "stdout",
     "output_type": "stream",
     "text": [
      "R square value= 0.7356120958379905\n"
     ]
    }
   ],
   "source": [
    "print(\"R square value=\",Rsquare)"
   ]
  },
  {
   "cell_type": "markdown",
   "metadata": {},
   "source": [
    "Since there are 2 independent variable so R square adjusted is also calculated. "
   ]
  },
  {
   "cell_type": "code",
   "execution_count": 30,
   "metadata": {},
   "outputs": [
    {
     "data": {
      "text/plain": [
       "2034"
      ]
     },
     "execution_count": 30,
     "metadata": {},
     "output_type": "execute_result"
    }
   ],
   "source": [
    "p=2\n",
    "n=len(y_test)\n",
    "len(x_train)+len(x_test)"
   ]
  },
  {
   "cell_type": "code",
   "execution_count": 31,
   "metadata": {},
   "outputs": [],
   "source": [
    "Rsquare_adjusted=1-(((1-Rsquare)*(n-1))/(n-p-1))"
   ]
  },
  {
   "cell_type": "code",
   "execution_count": 32,
   "metadata": {},
   "outputs": [
    {
     "data": {
      "text/plain": [
       "0.734742398784826"
      ]
     },
     "execution_count": 32,
     "metadata": {},
     "output_type": "execute_result"
    }
   ],
   "source": [
    "Rsquare_adjusted"
   ]
  },
  {
   "cell_type": "markdown",
   "metadata": {},
   "source": [
    "Significance Test"
   ]
  },
  {
   "cell_type": "markdown",
   "metadata": {},
   "source": [
    "F Test\n"
   ]
  },
  {
   "cell_type": "code",
   "execution_count": 33,
   "metadata": {},
   "outputs": [
    {
     "data": {
      "text/plain": [
       "array([ 0.47845812,  0.00859258, -0.00646742])"
      ]
     },
     "execution_count": 33,
     "metadata": {},
     "output_type": "execute_result"
    }
   ],
   "source": [
    "W"
   ]
  },
  {
   "cell_type": "code",
   "execution_count": 34,
   "metadata": {},
   "outputs": [
    {
     "data": {
      "text/plain": [
       "0.478458115784715"
      ]
     },
     "execution_count": 34,
     "metadata": {},
     "output_type": "execute_result"
    }
   ],
   "source": [
    "w0=W[0]\n",
    "w0"
   ]
  },
  {
   "cell_type": "code",
   "execution_count": 35,
   "metadata": {},
   "outputs": [],
   "source": [
    "w1=W[1]\n",
    "w2=W[2]\n"
   ]
  },
  {
   "cell_type": "markdown",
   "metadata": {},
   "source": [
    "Regression line is y= b0 + b1 * x1 + b2 * x2"
   ]
  },
  {
   "cell_type": "markdown",
   "metadata": {},
   "source": [
    "b1 is coefficient of x1"
   ]
  },
  {
   "cell_type": "markdown",
   "metadata": {},
   "source": [
    "b2 is coefficient of x2"
   ]
  },
  {
   "cell_type": "markdown",
   "metadata": {},
   "source": [
    "H0 : b1=b2=0"
   ]
  },
  {
   "cell_type": "markdown",
   "metadata": {},
   "source": [
    "Ha : One or both parameters not equal to zero"
   ]
  },
  {
   "cell_type": "code",
   "execution_count": 36,
   "metadata": {},
   "outputs": [
    {
     "data": {
      "text/plain": [
       "0.00014888738691141745"
      ]
     },
     "execution_count": 36,
     "metadata": {},
     "output_type": "execute_result"
    }
   ],
   "source": [
    "MSR=SSR/2\n",
    "MSR"
   ]
  },
  {
   "cell_type": "code",
   "execution_count": 37,
   "metadata": {},
   "outputs": [
    {
     "data": {
      "text/plain": [
       "1.7702664079373287e-07"
      ]
     },
     "execution_count": 37,
     "metadata": {},
     "output_type": "execute_result"
    }
   ],
   "source": [
    "MSE=SSE/(len(y_test)-3)\n",
    "MSE"
   ]
  },
  {
   "cell_type": "code",
   "execution_count": 38,
   "metadata": {},
   "outputs": [],
   "source": [
    "F=MSR/MSE\n",
    "#The F test is used to determine whether a significant relationship exists between the dependent variable and the set of all the independent variables; hence F test are referred to as  the test for overall significance"
   ]
  },
  {
   "cell_type": "code",
   "execution_count": 39,
   "metadata": {},
   "outputs": [
    {
     "data": {
      "text/plain": [
       "841.0450892806434"
      ]
     },
     "execution_count": 39,
     "metadata": {},
     "output_type": "execute_result"
    }
   ],
   "source": [
    "F"
   ]
  },
  {
   "cell_type": "code",
   "execution_count": 40,
   "metadata": {},
   "outputs": [
    {
     "data": {
      "text/plain": [
       "611"
      ]
     },
     "execution_count": 40,
     "metadata": {},
     "output_type": "execute_result"
    }
   ],
   "source": [
    "len(y_test)"
   ]
  },
  {
   "cell_type": "markdown",
   "metadata": {},
   "source": [
    "F alpha with numerator dof=2 and denominator dof=n-3 at level of significance=0.05 is equal to 3.01"
   ]
  },
  {
   "cell_type": "code",
   "execution_count": 41,
   "metadata": {},
   "outputs": [],
   "source": [
    "Falpha=3.01054142"
   ]
  },
  {
   "cell_type": "code",
   "execution_count": 42,
   "metadata": {},
   "outputs": [
    {
     "data": {
      "text/plain": [
       "True"
      ]
     },
     "execution_count": 42,
     "metadata": {},
     "output_type": "execute_result"
    }
   ],
   "source": [
    "F>=Falpha"
   ]
  },
  {
   "cell_type": "markdown",
   "metadata": {},
   "source": [
    "So we reject H0. Now for b1 and b2 t tests are performed separately.\n"
   ]
  },
  {
   "cell_type": "markdown",
   "metadata": {},
   "source": [
    "T test for b1"
   ]
  },
  {
   "cell_type": "markdown",
   "metadata": {},
   "source": [
    "H0 : b1=0"
   ]
  },
  {
   "cell_type": "markdown",
   "metadata": {},
   "source": [
    "Ha : b1 is not equal to zero"
   ]
  },
  {
   "cell_type": "code",
   "execution_count": 43,
   "metadata": {},
   "outputs": [
    {
     "data": {
      "text/plain": [
       "2.53502424970822"
      ]
     },
     "execution_count": 43,
     "metadata": {},
     "output_type": "execute_result"
    }
   ],
   "source": [
    "sum=0\n",
    "m=x_test['Average Data Speed Download'].mean()\n",
    "for i in range(0,len(x_test)):\n",
    "    sum=sum+((x_test['Average Data Speed Download'][i]-m)**2)\n",
    "sum"
   ]
  },
  {
   "cell_type": "code",
   "execution_count": 44,
   "metadata": {},
   "outputs": [],
   "source": [
    "import math\n",
    "x=math.sqrt(sum)\n",
    "z=SSE/(len(y_test)-3)\n",
    "s=math.sqrt(z)\n",
    "sb1=s/x"
   ]
  },
  {
   "cell_type": "code",
   "execution_count": 45,
   "metadata": {},
   "outputs": [],
   "source": [
    "t=w1/sb1"
   ]
  },
  {
   "cell_type": "code",
   "execution_count": 46,
   "metadata": {},
   "outputs": [
    {
     "data": {
      "text/plain": [
       "32.51586883164612"
      ]
     },
     "execution_count": 46,
     "metadata": {},
     "output_type": "execute_result"
    }
   ],
   "source": [
    "t\n",
    "#t distribution with n − p − 1 degrees of freedom.\n",
    "#The t test is used to determine whether each of the individual independent variables is significant. A separate t test is conducted for each of the independent variables in the model; hence t tests are called as the test for individual significance. "
   ]
  },
  {
   "cell_type": "code",
   "execution_count": 47,
   "metadata": {},
   "outputs": [
    {
     "data": {
      "text/plain": [
       "608"
      ]
     },
     "execution_count": 47,
     "metadata": {},
     "output_type": "execute_result"
    }
   ],
   "source": [
    "len(y_test)-3"
   ]
  },
  {
   "cell_type": "markdown",
   "metadata": {},
   "source": [
    "So talpha=2.246 at dof=len(y_test)-3 and alpha=0.025"
   ]
  },
  {
   "cell_type": "code",
   "execution_count": 48,
   "metadata": {},
   "outputs": [
    {
     "data": {
      "text/plain": [
       "True"
      ]
     },
     "execution_count": 48,
     "metadata": {},
     "output_type": "execute_result"
    }
   ],
   "source": [
    "talpha=2.246968\n",
    "t>=talpha"
   ]
  },
  {
   "cell_type": "markdown",
   "metadata": {},
   "source": [
    "Hence we reject null hypothesis"
   ]
  },
  {
   "cell_type": "markdown",
   "metadata": {},
   "source": [
    "T Test for b2"
   ]
  },
  {
   "cell_type": "markdown",
   "metadata": {},
   "source": [
    "H0 : b2=0"
   ]
  },
  {
   "cell_type": "markdown",
   "metadata": {},
   "source": [
    "Ha : b2 not equal to zero"
   ]
  },
  {
   "cell_type": "code",
   "execution_count": 49,
   "metadata": {},
   "outputs": [],
   "source": [
    "sum=0\n",
    "m=x_test['Average Data Speed Upload'].mean()\n",
    "for i in range(0,len(x_test)):\n",
    "    sum=sum+((x_test['Average Data Speed Upload'][i]-m)**2)\n",
    "x=math.sqrt(sum)\n",
    "z=SSE/(len(y_test)-3)\n",
    "s=math.sqrt(z)\n",
    "sb2=s/x"
   ]
  },
  {
   "cell_type": "code",
   "execution_count": 50,
   "metadata": {},
   "outputs": [],
   "source": [
    "t=w2/sb2"
   ]
  },
  {
   "cell_type": "code",
   "execution_count": 51,
   "metadata": {},
   "outputs": [
    {
     "data": {
      "text/plain": [
       "-71.39298724481023"
      ]
     },
     "execution_count": 51,
     "metadata": {},
     "output_type": "execute_result"
    }
   ],
   "source": [
    "t"
   ]
  },
  {
   "cell_type": "code",
   "execution_count": 52,
   "metadata": {},
   "outputs": [
    {
     "data": {
      "text/plain": [
       "True"
      ]
     },
     "execution_count": 52,
     "metadata": {},
     "output_type": "execute_result"
    }
   ],
   "source": [
    "t<=-talpha"
   ]
  },
  {
   "cell_type": "markdown",
   "metadata": {},
   "source": [
    "Hence we reject null hypothesis"
   ]
  },
  {
   "cell_type": "markdown",
   "metadata": {},
   "source": [
    "# So we can conclude that Signal Strength does depend on Download and Upload Speed significantly for Airtel."
   ]
  }
 ],
 "metadata": {
  "kernelspec": {
   "display_name": "Python 3",
   "language": "python",
   "name": "python3"
  },
  "language_info": {
   "codemirror_mode": {
    "name": "ipython",
    "version": 3
   },
   "file_extension": ".py",
   "mimetype": "text/x-python",
   "name": "python",
   "nbconvert_exporter": "python",
   "pygments_lexer": "ipython3",
   "version": "3.7.3"
  }
 },
 "nbformat": 4,
 "nbformat_minor": 2
}
