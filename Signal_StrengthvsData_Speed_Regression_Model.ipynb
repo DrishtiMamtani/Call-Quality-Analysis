{
 "cells": [
  {
   "cell_type": "code",
   "execution_count": 63,
   "metadata": {},
   "outputs": [],
   "source": [
    "import pandas as pd \n",
    "import numpy as np\n",
    "from sklearn import preprocessing\n",
    "data=pd.read_csv(\"final_data.csv\")\n",
    "#final_data is the final pre processed data"
   ]
  },
  {
   "cell_type": "code",
   "execution_count": 64,
   "metadata": {},
   "outputs": [
    {
     "data": {
      "text/html": [
       "<div>\n",
       "<style scoped>\n",
       "    .dataframe tbody tr th:only-of-type {\n",
       "        vertical-align: middle;\n",
       "    }\n",
       "\n",
       "    .dataframe tbody tr th {\n",
       "        vertical-align: top;\n",
       "    }\n",
       "\n",
       "    .dataframe thead th {\n",
       "        text-align: right;\n",
       "    }\n",
       "</style>\n",
       "<table border=\"1\" class=\"dataframe\">\n",
       "  <thead>\n",
       "    <tr style=\"text-align: right;\">\n",
       "      <th></th>\n",
       "      <th>Operator</th>\n",
       "      <th>In Out Travelling</th>\n",
       "      <th>Network Type</th>\n",
       "      <th>Rating</th>\n",
       "      <th>Call Drop Category</th>\n",
       "      <th>Latitude</th>\n",
       "      <th>Longitude</th>\n",
       "      <th>State Name</th>\n",
       "      <th>Average Data Speed Download</th>\n",
       "      <th>Average Data Speed Upload</th>\n",
       "      <th>Population</th>\n",
       "      <th>Literacy Rate</th>\n",
       "      <th>Rainfall</th>\n",
       "      <th>Area of the state</th>\n",
       "      <th>Average_Signal</th>\n",
       "    </tr>\n",
       "  </thead>\n",
       "  <tbody>\n",
       "    <tr>\n",
       "      <th>0</th>\n",
       "      <td>Airtel</td>\n",
       "      <td>Indoor</td>\n",
       "      <td>4G</td>\n",
       "      <td>3</td>\n",
       "      <td>Satisfactory</td>\n",
       "      <td>0.196228</td>\n",
       "      <td>0.325356</td>\n",
       "      <td>Karnataka</td>\n",
       "      <td>0.271480</td>\n",
       "      <td>0.197512</td>\n",
       "      <td>2</td>\n",
       "      <td>7</td>\n",
       "      <td>3</td>\n",
       "      <td>0.504087</td>\n",
       "      <td>0.476721</td>\n",
       "    </tr>\n",
       "    <tr>\n",
       "      <th>1</th>\n",
       "      <td>Vodafone</td>\n",
       "      <td>Indoor</td>\n",
       "      <td>4G</td>\n",
       "      <td>1</td>\n",
       "      <td>Call Dropped</td>\n",
       "      <td>0.632907</td>\n",
       "      <td>0.135432</td>\n",
       "      <td>Gujarat</td>\n",
       "      <td>0.211519</td>\n",
       "      <td>0.370879</td>\n",
       "      <td>2</td>\n",
       "      <td>8</td>\n",
       "      <td>2</td>\n",
       "      <td>0.518040</td>\n",
       "      <td>0.477252</td>\n",
       "    </tr>\n",
       "    <tr>\n",
       "      <th>2</th>\n",
       "      <td>Airtel</td>\n",
       "      <td>Indoor</td>\n",
       "      <td>3G</td>\n",
       "      <td>1</td>\n",
       "      <td>Call Dropped</td>\n",
       "      <td>0.127093</td>\n",
       "      <td>0.290671</td>\n",
       "      <td>Tamil Nadu</td>\n",
       "      <td>0.036321</td>\n",
       "      <td>0.062303</td>\n",
       "      <td>2</td>\n",
       "      <td>8</td>\n",
       "      <td>2</td>\n",
       "      <td>0.300607</td>\n",
       "      <td>0.478454</td>\n",
       "    </tr>\n",
       "    <tr>\n",
       "      <th>3</th>\n",
       "      <td>Airtel</td>\n",
       "      <td>Indoor</td>\n",
       "      <td>4G</td>\n",
       "      <td>3</td>\n",
       "      <td>Satisfactory</td>\n",
       "      <td>0.580181</td>\n",
       "      <td>0.155327</td>\n",
       "      <td>Gujarat</td>\n",
       "      <td>0.175517</td>\n",
       "      <td>0.191200</td>\n",
       "      <td>2</td>\n",
       "      <td>8</td>\n",
       "      <td>2</td>\n",
       "      <td>0.518040</td>\n",
       "      <td>0.477699</td>\n",
       "    </tr>\n",
       "    <tr>\n",
       "      <th>4</th>\n",
       "      <td>Airtel</td>\n",
       "      <td>Travelling</td>\n",
       "      <td>4G</td>\n",
       "      <td>3</td>\n",
       "      <td>Satisfactory</td>\n",
       "      <td>0.425737</td>\n",
       "      <td>0.180503</td>\n",
       "      <td>Maharashtra</td>\n",
       "      <td>0.333021</td>\n",
       "      <td>0.395612</td>\n",
       "      <td>4</td>\n",
       "      <td>8</td>\n",
       "      <td>4</td>\n",
       "      <td>0.886194</td>\n",
       "      <td>0.476859</td>\n",
       "    </tr>\n",
       "  </tbody>\n",
       "</table>\n",
       "</div>"
      ],
      "text/plain": [
       "   Operator In Out Travelling Network Type  Rating Call Drop Category  \\\n",
       "0    Airtel            Indoor           4G       3       Satisfactory   \n",
       "1  Vodafone            Indoor           4G       1       Call Dropped   \n",
       "2    Airtel            Indoor           3G       1       Call Dropped   \n",
       "3    Airtel            Indoor           4G       3       Satisfactory   \n",
       "4    Airtel        Travelling           4G       3       Satisfactory   \n",
       "\n",
       "   Latitude  Longitude   State Name  Average Data Speed Download  \\\n",
       "0  0.196228   0.325356    Karnataka                     0.271480   \n",
       "1  0.632907   0.135432      Gujarat                     0.211519   \n",
       "2  0.127093   0.290671   Tamil Nadu                     0.036321   \n",
       "3  0.580181   0.155327      Gujarat                     0.175517   \n",
       "4  0.425737   0.180503  Maharashtra                     0.333021   \n",
       "\n",
       "   Average Data Speed Upload  Population  Literacy Rate  Rainfall  \\\n",
       "0                   0.197512           2              7         3   \n",
       "1                   0.370879           2              8         2   \n",
       "2                   0.062303           2              8         2   \n",
       "3                   0.191200           2              8         2   \n",
       "4                   0.395612           4              8         4   \n",
       "\n",
       "   Area of the state  Average_Signal  \n",
       "0           0.504087        0.476721  \n",
       "1           0.518040        0.477252  \n",
       "2           0.300607        0.478454  \n",
       "3           0.518040        0.477699  \n",
       "4           0.886194        0.476859  "
      ]
     },
     "execution_count": 64,
     "metadata": {},
     "output_type": "execute_result"
    }
   ],
   "source": [
    "data.head(5)"
   ]
  },
  {
   "cell_type": "code",
   "execution_count": 65,
   "metadata": {},
   "outputs": [
    {
     "data": {
      "text/plain": [
       "30715"
      ]
     },
     "execution_count": 65,
     "metadata": {},
     "output_type": "execute_result"
    }
   ],
   "source": [
    "data.count()[0]"
   ]
  },
  {
   "cell_type": "code",
   "execution_count": 66,
   "metadata": {},
   "outputs": [],
   "source": [
    "from sklearn import preprocessing\n",
    "from numpy.linalg import inv\n",
    "from sklearn.linear_model import LinearRegression"
   ]
  },
  {
   "cell_type": "code",
   "execution_count": 67,
   "metadata": {},
   "outputs": [],
   "source": [
    "X=data[['Average Data Speed Download','Average Data Speed Upload']]"
   ]
  },
  {
   "cell_type": "code",
   "execution_count": 68,
   "metadata": {},
   "outputs": [
    {
     "data": {
      "text/plain": [
       "Average Data Speed Download    30715\n",
       "Average Data Speed Upload      30715\n",
       "dtype: int64"
      ]
     },
     "execution_count": 68,
     "metadata": {},
     "output_type": "execute_result"
    }
   ],
   "source": [
    "X.count()"
   ]
  },
  {
   "cell_type": "code",
   "execution_count": 69,
   "metadata": {},
   "outputs": [],
   "source": [
    "y=data['Average_Signal']"
   ]
  },
  {
   "cell_type": "code",
   "execution_count": 70,
   "metadata": {},
   "outputs": [],
   "source": [
    "from sklearn.model_selection import train_test_split \n",
    "x_train, x_test, y_train, y_test = train_test_split(X, y, test_size=0.3, random_state=1) \n",
    "x_train.reset_index(inplace = True, drop = True) \n",
    "x_test.reset_index(inplace = True, drop = True) \n",
    "y_train.reset_index(inplace = True, drop = True) \n",
    "y_test.reset_index(inplace = True, drop = True) \n",
    "#We have used holdout method and 70%of data is taken as training data and rest as testing "
   ]
  },
  {
   "cell_type": "code",
   "execution_count": 71,
   "metadata": {},
   "outputs": [
    {
     "data": {
      "text/html": [
       "<div>\n",
       "<style scoped>\n",
       "    .dataframe tbody tr th:only-of-type {\n",
       "        vertical-align: middle;\n",
       "    }\n",
       "\n",
       "    .dataframe tbody tr th {\n",
       "        vertical-align: top;\n",
       "    }\n",
       "\n",
       "    .dataframe thead th {\n",
       "        text-align: right;\n",
       "    }\n",
       "</style>\n",
       "<table border=\"1\" class=\"dataframe\">\n",
       "  <thead>\n",
       "    <tr style=\"text-align: right;\">\n",
       "      <th></th>\n",
       "      <th>Average Data Speed Download</th>\n",
       "      <th>Average Data Speed Upload</th>\n",
       "    </tr>\n",
       "  </thead>\n",
       "  <tbody>\n",
       "    <tr>\n",
       "      <th>0</th>\n",
       "      <td>0.970965</td>\n",
       "      <td>0.556211</td>\n",
       "    </tr>\n",
       "    <tr>\n",
       "      <th>1</th>\n",
       "      <td>0.333021</td>\n",
       "      <td>0.395612</td>\n",
       "    </tr>\n",
       "    <tr>\n",
       "      <th>2</th>\n",
       "      <td>0.077017</td>\n",
       "      <td>0.105498</td>\n",
       "    </tr>\n",
       "    <tr>\n",
       "      <th>3</th>\n",
       "      <td>0.058113</td>\n",
       "      <td>0.079079</td>\n",
       "    </tr>\n",
       "    <tr>\n",
       "      <th>4</th>\n",
       "      <td>0.036321</td>\n",
       "      <td>0.062303</td>\n",
       "    </tr>\n",
       "  </tbody>\n",
       "</table>\n",
       "</div>"
      ],
      "text/plain": [
       "   Average Data Speed Download  Average Data Speed Upload\n",
       "0                     0.970965                   0.556211\n",
       "1                     0.333021                   0.395612\n",
       "2                     0.077017                   0.105498\n",
       "3                     0.058113                   0.079079\n",
       "4                     0.036321                   0.062303"
      ]
     },
     "execution_count": 71,
     "metadata": {},
     "output_type": "execute_result"
    }
   ],
   "source": [
    "x_train.head()"
   ]
  },
  {
   "cell_type": "code",
   "execution_count": 72,
   "metadata": {},
   "outputs": [],
   "source": [
    "n=x_train.count()[0]"
   ]
  },
  {
   "cell_type": "code",
   "execution_count": 73,
   "metadata": {},
   "outputs": [
    {
     "data": {
      "text/plain": [
       "21500"
      ]
     },
     "execution_count": 73,
     "metadata": {},
     "output_type": "execute_result"
    }
   ],
   "source": [
    "n"
   ]
  },
  {
   "cell_type": "markdown",
   "metadata": {},
   "source": [
    "# Regression of degree 1"
   ]
  },
  {
   "cell_type": "code",
   "execution_count": 79,
   "metadata": {},
   "outputs": [],
   "source": [
    "sum_x1=0\n",
    "#sum_x1 means summation of x1 for all objects\n",
    "sum_x2=0\n",
    "#sum_x2 means summation of x2 for all objects\n",
    "sum_y1=0\n",
    "sum_x1x1=0\n",
    "sum_x1x2=0\n",
    "sum_x2x2=0\n",
    "sum_x1y1=0\n",
    "sum_x2y1=0\n",
    "#The sums act as accumulator\n",
    "for i in range(0,n):\n",
    "    sum_x1=sum_x1+x_train['Average Data Speed Download'][i]\n",
    "    sum_x2=sum_x2+x_train['Average Data Speed Upload'][i]\n",
    "    sum_y1=sum_y1+y_train[i]\n",
    "    sum_x1x1=sum_x1x1+x_train['Average Data Speed Download'][i]*x_train['Average Data Speed Download'][i]\n",
    "    sum_x1x2=sum_x1x2+x_train['Average Data Speed Download'][i]*x_train['Average Data Speed Upload'][i]\n",
    "    sum_x2x2=sum_x2x2+x_train['Average Data Speed Upload'][i]*x_train['Average Data Speed Upload'][i]\n",
    "    sum_x1y1=sum_x1y1+x_train['Average Data Speed Download'][i]*y_train[i]\n",
    "    sum_x2y1=sum_x2y1+x_train['Average Data Speed Upload'][i]*y_train[i]\n",
    "A = np.array([[n, sum_x1, sum_x2], [sum_x1, sum_x1x1, sum_x1x2],[sum_x2,sum_x1x2,sum_x2x2]])\n",
    "B=np.array([sum_y1, sum_x1y1, sum_x2y1])\n",
    "#All the sums are used to calculate A and then X is calculated using AX=B so X=Inverse(A)*B \n",
    "#X will give all the parameters(w0,w1,w2)"
   ]
  },
  {
   "cell_type": "code",
   "execution_count": 80,
   "metadata": {},
   "outputs": [
    {
     "data": {
      "text/plain": [
       "array([[21500.        ,  8869.84387229,  6666.07773408],\n",
       "       [ 8869.84387229,  5563.8053476 ,  3501.17154422],\n",
       "       [ 6666.07773408,  3501.17154422,  2675.80122501]])"
      ]
     },
     "execution_count": 80,
     "metadata": {},
     "output_type": "execute_result"
    }
   ],
   "source": [
    "A"
   ]
  },
  {
   "cell_type": "code",
   "execution_count": 81,
   "metadata": {},
   "outputs": [
    {
     "data": {
      "text/plain": [
       "array([10277.11947448,  4242.56826363,  3186.33117946])"
      ]
     },
     "execution_count": 81,
     "metadata": {},
     "output_type": "execute_result"
    }
   ],
   "source": [
    "B"
   ]
  },
  {
   "cell_type": "code",
   "execution_count": 82,
   "metadata": {},
   "outputs": [],
   "source": [
    "Inverse=inv(A)\n",
    "w0=Inverse[0][0]*B[0]+Inverse[0][1]*B[1]+Inverse[0][2]*B[2]\n",
    "w1=Inverse[1][0]*B[0]+Inverse[1][1]*B[1]+Inverse[1][2]*B[2]\n",
    "w2=Inverse[2][0]*B[0]+Inverse[2][1]*B[1]+Inverse[2][2]*B[2]\n",
    "W=np.array([w0,w1,w2])"
   ]
  },
  {
   "cell_type": "code",
   "execution_count": 83,
   "metadata": {},
   "outputs": [
    {
     "data": {
      "text/plain": [
       "array([ 0.47796416,  0.00290922, -0.00373748])"
      ]
     },
     "execution_count": 83,
     "metadata": {},
     "output_type": "execute_result"
    }
   ],
   "source": [
    "W"
   ]
  },
  {
   "cell_type": "code",
   "execution_count": 85,
   "metadata": {},
   "outputs": [
    {
     "data": {
      "text/plain": [
       "0.0008458361122832141"
      ]
     },
     "execution_count": 85,
     "metadata": {},
     "output_type": "execute_result"
    }
   ],
   "source": [
    "y_pred=w0+w1*x_test['Average Data Speed Download']+w2*x_test['Average Data Speed Upload']\n",
    "#y_pred gives the predicted values of y based on the regression model\n",
    "MSE=0\n",
    "for i in range(0,len(y_test)):\n",
    "    MSE=MSE+(y_pred[i]-y_test[i])**2\n",
    "RMSE1=np.sqrt(MSE/len(y_test))\n",
    "RMSE1\n",
    "#RMSE is used to find the goodness of the model and is calacuated as root of sum of square of difference of actual and prediacted values."
   ]
  },
  {
   "cell_type": "code",
   "execution_count": 86,
   "metadata": {},
   "outputs": [
    {
     "data": {
      "text/plain": [
       "0.4780193570691356"
      ]
     },
     "execution_count": 86,
     "metadata": {},
     "output_type": "execute_result"
    }
   ],
   "source": [
    "ybar=y_test.mean()\n",
    "ybar"
   ]
  },
  {
   "cell_type": "code",
   "execution_count": 87,
   "metadata": {},
   "outputs": [
    {
     "data": {
      "text/plain": [
       "9215"
      ]
     },
     "execution_count": 87,
     "metadata": {},
     "output_type": "execute_result"
    }
   ],
   "source": [
    "SSR=0\n",
    "SST=0\n",
    "SSE=0\n",
    "y_test.count()"
   ]
  },
  {
   "cell_type": "code",
   "execution_count": 88,
   "metadata": {},
   "outputs": [],
   "source": [
    "for i in range (0,len(y_test)):\n",
    "    SST=SST+(y_test[i]-ybar)*(y_test[i]-ybar)\n",
    "    SSR=SSR+(y_pred[i]-ybar)*(y_pred[i]-ybar)\n",
    "    SSE=SSE+(y_test[i]-y_pred[i])*(y_test[i]-y_pred[i])  "
   ]
  },
  {
   "cell_type": "code",
   "execution_count": 89,
   "metadata": {},
   "outputs": [
    {
     "name": "stdout",
     "output_type": "stream",
     "text": [
      "Total sum of squares= 0.010176870687435726\n"
     ]
    }
   ],
   "source": [
    "print(\"Total sum of squares=\", SST )"
   ]
  },
  {
   "cell_type": "code",
   "execution_count": 90,
   "metadata": {},
   "outputs": [
    {
     "name": "stdout",
     "output_type": "stream",
     "text": [
      "Sum of squares due to regression = 0.0035240283138003882\n"
     ]
    }
   ],
   "source": [
    "print(\"Sum of squares due to regression =\", SSR)"
   ]
  },
  {
   "cell_type": "code",
   "execution_count": 91,
   "metadata": {},
   "outputs": [
    {
     "name": "stdout",
     "output_type": "stream",
     "text": [
      "Sum of square due to error= 0.006592767886282549\n"
     ]
    }
   ],
   "source": [
    "print(\"Sum of square due to error=\", SSE)"
   ]
  },
  {
   "cell_type": "code",
   "execution_count": 92,
   "metadata": {},
   "outputs": [],
   "source": [
    "Rsquare=SSR/SST"
   ]
  },
  {
   "cell_type": "code",
   "execution_count": 93,
   "metadata": {},
   "outputs": [
    {
     "name": "stdout",
     "output_type": "stream",
     "text": [
      "R square value= 0.3462781853120255\n"
     ]
    }
   ],
   "source": [
    "print(\"R square value=\",Rsquare)"
   ]
  },
  {
   "cell_type": "markdown",
   "metadata": {},
   "source": [
    "Since there are 2 independent variable so R square adjusted is also calculated. "
   ]
  },
  {
   "cell_type": "code",
   "execution_count": 95,
   "metadata": {},
   "outputs": [
    {
     "data": {
      "text/plain": [
       "0.3461362569979378"
      ]
     },
     "execution_count": 95,
     "metadata": {},
     "output_type": "execute_result"
    }
   ],
   "source": [
    "p=2\n",
    "n=len(y_test)\n",
    "len(x_train)+len(x_test)\n",
    "Rsquare_adjusted=1-(((1-Rsquare)*(n-1))/(n-p-1))\n",
    "Rsquare_adjusted"
   ]
  },
  {
   "cell_type": "markdown",
   "metadata": {},
   "source": [
    "# Regression of degree 2\n"
   ]
  },
  {
   "cell_type": "code",
   "execution_count": 43,
   "metadata": {},
   "outputs": [],
   "source": [
    "sum_x1x1=0\n",
    "sum_x2x2=0\n",
    "sum_x1x2=0\n",
    "sum_x1=0\n",
    "sum_x2=0\n",
    "sum_x1x1x1x1=0\n",
    "sum_x1x1x2x2=0\n",
    "sum_x1x1x1x2=0\n",
    "sum_x1x1x1=0\n",
    "sum_x1x1x2=0\n",
    "sum_x2x2=0\n",
    "sum_x2x2x2x2=0\n",
    "sum_x1x2x2x2=0\n",
    "sum_x1x2x2=0\n",
    "sum_x2x2x2=0\n",
    "sum_y1=0\n",
    "sum_x1x1y1=0\n",
    "sum_x2x2y1=0\n",
    "sum_x1x2y1=0\n",
    "sum_x1y1=0\n",
    "sum_x2y1=0\n",
    "for i in range(0,n):\n",
    "    sum_y1=sum_y1+y_train[i]\n",
    "    sum_x1y1=sum_x1y1+x_train['Average Data Speed Download'][i]*y_train[i]\n",
    "    sum_x2y1=sum_x2y1+x_train['Average Data Speed Upload'][i]*y_train[i]\n",
    "    sum_x1x1y1=sum_x1x1y1+(x_train['Average Data Speed Download'][i]**2)*y_train[i]\n",
    "    sum_x2x2y1=sum_x2x2y1+(x_train['Average Data Speed Upload'][i]**2)*y_train[i]\n",
    "    sum_x1x2y1=sum_x1x2y1+x_train['Average Data Speed Download'][i]*x_train['Average Data Speed Upload'][i]*y_train[i]\n",
    "    sum_x1=sum_x1+x_train['Average Data Speed Download'][i]\n",
    "    sum_x2=sum_x2+x_train['Average Data Speed Upload'][i]\n",
    "    sum_x1x1=sum_x1x1+x_train['Average Data Speed Download'][i]*x_train['Average Data Speed Download'][i]\n",
    "    sum_x1x2=sum_x1x2+x_train['Average Data Speed Download'][i]*x_train['Average Data Speed Upload'][i]\n",
    "    sum_x2x2=sum_x2x2+x_train['Average Data Speed Upload'][i]*x_train['Average Data Speed Upload'][i]\n",
    "    sum_x1x1x1=sum_x1x1x1+(x_train['Average Data Speed Download'][i])**3\n",
    "    sum_x2x2x2=sum_x2x2x2+(x_train['Average Data Speed Upload'][i])**3\n",
    "    sum_x1x1x2=sum_x1x1x2+((x_train['Average Data Speed Download'][i])**2)*x_train['Average Data Speed Upload'][i]\n",
    "    sum_x1x2x2=sum_x1x2x2+x_train['Average Data Speed Download'][i]*(x_train['Average Data Speed Upload'][i])**2\n",
    "    sum_x1x1x1x1=sum_x1x1x1x1+x_train['Average Data Speed Download'][i]**4\n",
    "    sum_x2x2x2x2=sum_x2x2x2x2+x_train['Average Data Speed Upload'][i]**4\n",
    "    sum_x1x1x2x2=sum_x1x1x2x2+(x_train['Average Data Speed Download'][i]*x_train['Average Data Speed Upload'][i])**2\n",
    "    sum_x1x1x1x2=sum_x1x1x1x2+(x_train['Average Data Speed Download'][i]**3)*x_train['Average Data Speed Upload'][i]\n",
    "    sum_x1x2x2x2=sum_x1x2x2x2+x_train['Average Data Speed Download'][i]*(x_train['Average Data Speed Upload'][i])**3\n",
    "#All the sums are used to calculate A and then X is calculated using AX=B so X=Inverse(A)*B \n",
    "#X will give all the parameters(w0,w1,w2,w3,w4,w5)"
   ]
  },
  {
   "cell_type": "code",
   "execution_count": 44,
   "metadata": {},
   "outputs": [],
   "source": [
    "A = np.array([[n, sum_x1x1, sum_x2x2,sum_x1x2,sum_x1,sum_x2], [sum_x1x1, sum_x1x1x1x1, sum_x1x1x2x2,sum_x1x1x1x2,sum_x1x1x1,sum_x1x1x2],[sum_x2x2,sum_x1x1x2x2,sum_x2x2x2x2,sum_x1x2x2x2,sum_x1x2x2,sum_x2x2x2],[sum_x1x2,sum_x1x1x1x2,sum_x1x2x2x2,sum_x1x1x2x2,sum_x1x1x2,sum_x1x2x2],[sum_x1,sum_x1x1x1,sum_x1x2x2,sum_x1x1x2,sum_x1x1,sum_x1x2],[sum_x2,sum_x1x1x2,sum_x2x2x2,sum_x1x2x2,sum_x1x2,sum_x2x2]]                                   )\n",
    "B=np.array([sum_y1, sum_x1x1y1, sum_x2x2y1,sum_x1x2y1,sum_x1y1,sum_x2y1])"
   ]
  },
  {
   "cell_type": "code",
   "execution_count": 45,
   "metadata": {},
   "outputs": [
    {
     "data": {
      "text/plain": [
       "array([[9215.        , 2355.7696989 , 1147.49839786, 1489.18632923,\n",
       "        3774.2583066 , 2852.99232028],\n",
       "       [2355.7696989 , 1402.03907431,  471.49306303,  787.38584488,\n",
       "        1739.59139959, 1013.99251932],\n",
       "       [1147.49839786,  471.49306303,  283.0158802 ,  323.79933038,\n",
       "         661.04773487,  536.32903071],\n",
       "       [1489.18632923,  787.38584488,  323.79933038,  471.49306303,\n",
       "        1013.99251932,  661.04773487],\n",
       "       [3774.2583066 , 1739.59139959,  661.04773487, 1013.99251932,\n",
       "        2355.7696989 , 1489.18632923],\n",
       "       [2852.99232028, 1013.99251932,  536.32903071,  661.04773487,\n",
       "        1489.18632923, 1147.49839786]])"
      ]
     },
     "execution_count": 45,
     "metadata": {},
     "output_type": "execute_result"
    }
   ],
   "source": [
    "A"
   ]
  },
  {
   "cell_type": "code",
   "execution_count": 46,
   "metadata": {},
   "outputs": [
    {
     "data": {
      "text/plain": [
       "array([4404.79482412, 1127.57293896,  548.54268934,  712.46696396,\n",
       "       1805.24294288, 1363.67644629])"
      ]
     },
     "execution_count": 46,
     "metadata": {},
     "output_type": "execute_result"
    }
   ],
   "source": [
    "B"
   ]
  },
  {
   "cell_type": "code",
   "execution_count": 47,
   "metadata": {},
   "outputs": [],
   "source": [
    "Inverse=inv(A)"
   ]
  },
  {
   "cell_type": "code",
   "execution_count": 48,
   "metadata": {},
   "outputs": [
    {
     "data": {
      "text/plain": [
       "array([[ 1.02722270e-03,  1.52647733e-03,  6.38398881e-03,\n",
       "        -1.90413471e-03, -4.72236994e-04, -5.17686194e-03],\n",
       "       [ 1.52647733e-03,  1.30172521e-01,  1.49244936e-01,\n",
       "        -3.01479905e-01, -7.03091415e-03, -5.77816275e-03],\n",
       "       [ 6.38398881e-03,  1.49244936e-01,  3.53760386e-01,\n",
       "        -4.73440414e-01,  5.33961687e-02, -1.09654894e-01],\n",
       "       [-1.90413471e-03, -3.01479905e-01, -4.73440414e-01,\n",
       "         8.44487248e-01, -4.85142691e-02,  6.88899368e-02],\n",
       "       [-4.72236994e-04, -7.03091415e-03,  5.33961687e-02,\n",
       "        -4.85142691e-02,  3.17946091e-02, -3.08838618e-02],\n",
       "       [-5.17686194e-03, -5.77816275e-03, -1.09654894e-01,\n",
       "         6.88899368e-02, -3.08838618e-02,  7.04941748e-02]])"
      ]
     },
     "execution_count": 48,
     "metadata": {},
     "output_type": "execute_result"
    }
   ],
   "source": [
    "Inverse"
   ]
  },
  {
   "cell_type": "code",
   "execution_count": 49,
   "metadata": {},
   "outputs": [],
   "source": [
    "w0=Inverse[0][0]*B[0]+Inverse[0][1]*B[1]+Inverse[0][2]*B[2]+Inverse[0][3]*B[3]+Inverse[0][4]*B[4]+Inverse[0][5]*B[5]\n",
    "w1=Inverse[1][0]*B[0]+Inverse[1][1]*B[1]+Inverse[1][2]*B[2]+Inverse[1][3]*B[3]+Inverse[1][4]*B[4]+Inverse[1][5]*B[5]\n",
    "w2=Inverse[2][0]*B[0]+Inverse[2][1]*B[1]+Inverse[2][2]*B[2]+Inverse[2][3]*B[3]+Inverse[2][4]*B[4]+Inverse[2][5]*B[5]\n",
    "w3=Inverse[3][0]*B[0]+Inverse[3][1]*B[1]+Inverse[3][2]*B[2]+Inverse[3][3]*B[3]+Inverse[3][4]*B[4]+Inverse[3][5]*B[5]\n",
    "w4=Inverse[4][0]*B[0]+Inverse[4][1]*B[1]+Inverse[4][2]*B[2]+Inverse[4][3]*B[3]+Inverse[4][4]*B[4]+Inverse[4][5]*B[5]\n",
    "w5=Inverse[5][0]*B[0]+Inverse[5][1]*B[1]+Inverse[5][2]*B[2]+Inverse[5][3]*B[3]+Inverse[5][4]*B[4]+Inverse[5][5]*B[5]\n",
    "W=np.array([w0,w1,w2,w3,w4,w5])"
   ]
  },
  {
   "cell_type": "code",
   "execution_count": 50,
   "metadata": {},
   "outputs": [
    {
     "data": {
      "text/plain": [
       "array([ 0.47910987,  0.0035244 ,  0.00599093,  0.00262503, -0.00131297,\n",
       "       -0.00852914])"
      ]
     },
     "execution_count": 50,
     "metadata": {},
     "output_type": "execute_result"
    }
   ],
   "source": [
    "W"
   ]
  },
  {
   "cell_type": "code",
   "execution_count": 58,
   "metadata": {},
   "outputs": [
    {
     "data": {
      "text/plain": [
       "0.0006381727077724021"
      ]
     },
     "execution_count": 58,
     "metadata": {},
     "output_type": "execute_result"
    }
   ],
   "source": [
    "y_pred=w0+w1*x_test['Average Data Speed Download']**2+w2*x_test['Average Data Speed Upload']**2+w3*x_test['Average Data Speed Download']*x_test['Average Data Speed Upload']+w4*x_test['Average Data Speed Download']+w5*x_test['Average Data Speed Upload']\n",
    "#y_pred gives the predicted values of y based on the regression model\n",
    "MSE=0\n",
    "for i in range(0,len(y_test)):\n",
    "    MSE=MSE+(y_pred[i]-y_test[i])**2\n",
    "RMSE2=np.sqrt(MSE/len(y_test))\n",
    "RMSE2\n",
    "#RMSE value for model 2 is also found"
   ]
  },
  {
   "cell_type": "code",
   "execution_count": 60,
   "metadata": {},
   "outputs": [
    {
     "data": {
      "text/plain": [
       "0.000814128804272984"
      ]
     },
     "execution_count": 60,
     "metadata": {},
     "output_type": "execute_result"
    }
   ],
   "source": [
    "RMSE1-RMSE2"
   ]
  }
 ],
 "metadata": {
  "kernelspec": {
   "display_name": "Python 3",
   "language": "python",
   "name": "python3"
  },
  "language_info": {
   "codemirror_mode": {
    "name": "ipython",
    "version": 3
   },
   "file_extension": ".py",
   "mimetype": "text/x-python",
   "name": "python",
   "nbconvert_exporter": "python",
   "pygments_lexer": "ipython3",
   "version": "3.7.3"
  }
 },
 "nbformat": 4,
 "nbformat_minor": 2
}
