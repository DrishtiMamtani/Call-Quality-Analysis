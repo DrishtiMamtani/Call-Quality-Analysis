{
 "cells": [
  {
   "cell_type": "code",
   "execution_count": 143,
   "metadata": {},
   "outputs": [],
   "source": [
    "import pandas as pd \n",
    "import numpy as np\n",
    "from sklearn import preprocessing\n",
    "data=pd.read_csv(\"final_data.csv\")\n",
    "#final preprocessed data"
   ]
  },
  {
   "cell_type": "code",
   "execution_count": 144,
   "metadata": {},
   "outputs": [
    {
     "data": {
      "text/html": [
       "<div>\n",
       "<style scoped>\n",
       "    .dataframe tbody tr th:only-of-type {\n",
       "        vertical-align: middle;\n",
       "    }\n",
       "\n",
       "    .dataframe tbody tr th {\n",
       "        vertical-align: top;\n",
       "    }\n",
       "\n",
       "    .dataframe thead th {\n",
       "        text-align: right;\n",
       "    }\n",
       "</style>\n",
       "<table border=\"1\" class=\"dataframe\">\n",
       "  <thead>\n",
       "    <tr style=\"text-align: right;\">\n",
       "      <th></th>\n",
       "      <th>Operator</th>\n",
       "      <th>In Out Travelling</th>\n",
       "      <th>Network Type</th>\n",
       "      <th>Rating</th>\n",
       "      <th>Call Drop Category</th>\n",
       "      <th>Latitude</th>\n",
       "      <th>Longitude</th>\n",
       "      <th>State Name</th>\n",
       "      <th>Average Data Speed Download</th>\n",
       "      <th>Average Data Speed Upload</th>\n",
       "      <th>Population</th>\n",
       "      <th>Literacy Rate</th>\n",
       "      <th>Rainfall</th>\n",
       "      <th>Area of the state</th>\n",
       "      <th>Average_Signal</th>\n",
       "    </tr>\n",
       "  </thead>\n",
       "  <tbody>\n",
       "    <tr>\n",
       "      <th>0</th>\n",
       "      <td>Airtel</td>\n",
       "      <td>Indoor</td>\n",
       "      <td>4G</td>\n",
       "      <td>3</td>\n",
       "      <td>Satisfactory</td>\n",
       "      <td>0.196228</td>\n",
       "      <td>0.325356</td>\n",
       "      <td>Karnataka</td>\n",
       "      <td>0.271480</td>\n",
       "      <td>0.197512</td>\n",
       "      <td>2</td>\n",
       "      <td>7</td>\n",
       "      <td>3</td>\n",
       "      <td>0.504087</td>\n",
       "      <td>0.476721</td>\n",
       "    </tr>\n",
       "    <tr>\n",
       "      <th>1</th>\n",
       "      <td>Vodafone</td>\n",
       "      <td>Indoor</td>\n",
       "      <td>4G</td>\n",
       "      <td>1</td>\n",
       "      <td>Call Dropped</td>\n",
       "      <td>0.632907</td>\n",
       "      <td>0.135432</td>\n",
       "      <td>Gujarat</td>\n",
       "      <td>0.211519</td>\n",
       "      <td>0.370879</td>\n",
       "      <td>2</td>\n",
       "      <td>8</td>\n",
       "      <td>2</td>\n",
       "      <td>0.518040</td>\n",
       "      <td>0.477252</td>\n",
       "    </tr>\n",
       "    <tr>\n",
       "      <th>2</th>\n",
       "      <td>Airtel</td>\n",
       "      <td>Indoor</td>\n",
       "      <td>3G</td>\n",
       "      <td>1</td>\n",
       "      <td>Call Dropped</td>\n",
       "      <td>0.127093</td>\n",
       "      <td>0.290671</td>\n",
       "      <td>Tamil Nadu</td>\n",
       "      <td>0.036321</td>\n",
       "      <td>0.062303</td>\n",
       "      <td>2</td>\n",
       "      <td>8</td>\n",
       "      <td>2</td>\n",
       "      <td>0.300607</td>\n",
       "      <td>0.478454</td>\n",
       "    </tr>\n",
       "    <tr>\n",
       "      <th>3</th>\n",
       "      <td>Airtel</td>\n",
       "      <td>Indoor</td>\n",
       "      <td>4G</td>\n",
       "      <td>3</td>\n",
       "      <td>Satisfactory</td>\n",
       "      <td>0.580181</td>\n",
       "      <td>0.155327</td>\n",
       "      <td>Gujarat</td>\n",
       "      <td>0.175517</td>\n",
       "      <td>0.191200</td>\n",
       "      <td>2</td>\n",
       "      <td>8</td>\n",
       "      <td>2</td>\n",
       "      <td>0.518040</td>\n",
       "      <td>0.477699</td>\n",
       "    </tr>\n",
       "    <tr>\n",
       "      <th>4</th>\n",
       "      <td>Airtel</td>\n",
       "      <td>Travelling</td>\n",
       "      <td>4G</td>\n",
       "      <td>3</td>\n",
       "      <td>Satisfactory</td>\n",
       "      <td>0.425737</td>\n",
       "      <td>0.180503</td>\n",
       "      <td>Maharashtra</td>\n",
       "      <td>0.333021</td>\n",
       "      <td>0.395612</td>\n",
       "      <td>4</td>\n",
       "      <td>8</td>\n",
       "      <td>4</td>\n",
       "      <td>0.886194</td>\n",
       "      <td>0.476859</td>\n",
       "    </tr>\n",
       "  </tbody>\n",
       "</table>\n",
       "</div>"
      ],
      "text/plain": [
       "   Operator In Out Travelling Network Type  Rating Call Drop Category  \\\n",
       "0    Airtel            Indoor           4G       3       Satisfactory   \n",
       "1  Vodafone            Indoor           4G       1       Call Dropped   \n",
       "2    Airtel            Indoor           3G       1       Call Dropped   \n",
       "3    Airtel            Indoor           4G       3       Satisfactory   \n",
       "4    Airtel        Travelling           4G       3       Satisfactory   \n",
       "\n",
       "   Latitude  Longitude   State Name  Average Data Speed Download  \\\n",
       "0  0.196228   0.325356    Karnataka                     0.271480   \n",
       "1  0.632907   0.135432      Gujarat                     0.211519   \n",
       "2  0.127093   0.290671   Tamil Nadu                     0.036321   \n",
       "3  0.580181   0.155327      Gujarat                     0.175517   \n",
       "4  0.425737   0.180503  Maharashtra                     0.333021   \n",
       "\n",
       "   Average Data Speed Upload  Population  Literacy Rate  Rainfall  \\\n",
       "0                   0.197512           2              7         3   \n",
       "1                   0.370879           2              8         2   \n",
       "2                   0.062303           2              8         2   \n",
       "3                   0.191200           2              8         2   \n",
       "4                   0.395612           4              8         4   \n",
       "\n",
       "   Area of the state  Average_Signal  \n",
       "0           0.504087        0.476721  \n",
       "1           0.518040        0.477252  \n",
       "2           0.300607        0.478454  \n",
       "3           0.518040        0.477699  \n",
       "4           0.886194        0.476859  "
      ]
     },
     "execution_count": 144,
     "metadata": {},
     "output_type": "execute_result"
    }
   ],
   "source": [
    "data.head()"
   ]
  },
  {
   "cell_type": "markdown",
   "metadata": {},
   "source": [
    "Finding out if Technology is related to Literacy Rate using chi square test.  It is believed that as the literacy rate is high, people tend to use more of internet and hence go for 4G instead of 3G.\n"
   ]
  },
  {
   "cell_type": "markdown",
   "metadata": {},
   "source": [
    "H0: Network Type and Literacy Rate are independent of each other\n"
   ]
  },
  {
   "cell_type": "markdown",
   "metadata": {},
   "source": [
    "HA: Network Type and Literacy Rate are dependent of each other"
   ]
  },
  {
   "cell_type": "code",
   "execution_count": 145,
   "metadata": {},
   "outputs": [],
   "source": [
    "tgtotal=data[data['Network Type']=='3G'].count()[0]\n",
    "#total number of objects with network type as 3G"
   ]
  },
  {
   "cell_type": "code",
   "execution_count": 146,
   "metadata": {},
   "outputs": [],
   "source": [
    "fgtotal=data[data['Network Type']=='4G'].count()[0]\n",
    "#total number of objects with network type as 4G"
   ]
  },
  {
   "cell_type": "code",
   "execution_count": 147,
   "metadata": {},
   "outputs": [],
   "source": [
    "total=data.count()[0]\n",
    "#total number of objects"
   ]
  },
  {
   "cell_type": "code",
   "execution_count": 148,
   "metadata": {},
   "outputs": [
    {
     "data": {
      "text/plain": [
       "True"
      ]
     },
     "execution_count": 148,
     "metadata": {},
     "output_type": "execute_result"
    }
   ],
   "source": [
    "fgtotal+tgtotal==total"
   ]
  },
  {
   "cell_type": "code",
   "execution_count": 149,
   "metadata": {},
   "outputs": [
    {
     "name": "stdout",
     "output_type": "stream",
     "text": [
      "681.720679497605\n"
     ]
    }
   ],
   "source": [
    "sum=0\n",
    "threeg=[]\n",
    "fourg=[]\n",
    "for i in range(0,10):\n",
    "    x=data[data['Literacy Rate']==i].count()[0]\n",
    "    #x represents number of objects with i value \n",
    "    z=(data[data['Network Type']=='4G']['Literacy Rate']==i).sum()\n",
    "    #z represents number of objects with Literacy Rate as i value and network type as 4G\n",
    "    y=(data[data['Network Type']=='3G']['Literacy Rate']==i).sum()\n",
    "    #z represents number of objects with Literacy Rate as i value and network type as 4G\n",
    "    threeg.append(y)\n",
    "    #threeg is list consisting of all x values\n",
    "    fourg.append(z)\n",
    "    #fourg is list consisting of all z values\n",
    "    if(x!=0):\n",
    "        #this condition is used so that e1 and e2 donot become equal to zero and make sum as Nan \n",
    "        e1=(x*tgtotal)/total\n",
    "        e2=(x*fgtotal)/total\n",
    "        sum=sum+((y-e1)**2)/e1+((z-e2)**2)/e2\n",
    "print(sum)  \n",
    "#sum is the chi square statistic"
   ]
  },
  {
   "cell_type": "code",
   "execution_count": 150,
   "metadata": {},
   "outputs": [
    {
     "data": {
      "image/png": "[encoded data removed]",
      "text/plain": [
       "<Figure size 432x288 with 1 Axes>"
      ]
     },
     "metadata": {
      "needs_background": "light"
     },
     "output_type": "display_data"
    }
   ],
   "source": [
    "#Plotting the observed frequencies\n",
    "import matplotlib.pyplot as plt\n",
    "import seaborn as sns\n",
    "%matplotlib inline\n",
    "fig = plt.figure()\n",
    "ax = fig.add_axes([0,0,1,1])\n",
    "#sets the axes for the figure\n",
    "ax.set_ylabel('Frequency')\n",
    "#sets the y label as Frequency\n",
    "ax.set_xlabel('Literacy Discrete Levels')\n",
    "#sets the x label as Literacy Discrete Levels\n",
    "ax.set_title('Literacy Rate vs Network Type')\n",
    "#sets the title\n",
    "ax.bar(X + 0.00, threeg, color = 'b', width = 0.25)\n",
    "#plots the bargraph for 3G Network\n",
    "ax.bar(X + 0.25, fourg, color = 'r', width = 0.25)\n",
    "#plots the bargraph for 4G Network\n",
    "ax.legend(labels=['3G', '4G'])\n",
    "#adds the legend to the plot\n",
    "ax.set_facecolor(\"snow\")\n",
    "bars = ('0', '1', '2', '3', '4','5','6','7','8','9')\n",
    "y_pos = np.arange(len(bars))\n",
    "plt.xticks(y_pos, bars)\n",
    "plt.grid(True, linewidth=0.5, color='#ff0000', linestyle='-')\n",
    "#sets x ticks to the graph\n",
    "ax.grid(False)\n",
    "#removing the grids from the plot\n",
    "plt.savefig('Literacy Rate vs Network Type.png',bbox_inches='tight')"
   ]
  },
  {
   "cell_type": "code",
   "execution_count": 151,
   "metadata": {},
   "outputs": [],
   "source": [
    "r=2\n",
    "c=10\n",
    "dof=(r-1)*(c-1)"
   ]
  },
  {
   "cell_type": "code",
   "execution_count": 152,
   "metadata": {},
   "outputs": [
    {
     "data": {
      "text/plain": [
       "9"
      ]
     },
     "execution_count": 152,
     "metadata": {},
     "output_type": "execute_result"
    }
   ],
   "source": [
    "dof"
   ]
  },
  {
   "cell_type": "markdown",
   "metadata": {},
   "source": [
    "From chi square table chi square value at 0.05 significance level=16.91897760\n",
    "Hence sum>16.91897760 so we reject null hypothesis and hence there is significant relation between Network Type and Literacy rate.\n"
   ]
  },
  {
   "cell_type": "markdown",
   "metadata": {},
   "source": [
    "Now we try to find if Rainfall affect the Rating. It can be assumed that increase in rainfall can decrease connectivity and hence decrese the rating."
   ]
  },
  {
   "cell_type": "markdown",
   "metadata": {},
   "source": [
    "H0: Rainfall and rating are independent of each other"
   ]
  },
  {
   "cell_type": "markdown",
   "metadata": {},
   "source": [
    "H0: Rainfall and rating are dependent on each other"
   ]
  },
  {
   "cell_type": "code",
   "execution_count": 153,
   "metadata": {},
   "outputs": [
    {
     "data": {
      "text/plain": [
       "array([3, 1, 5, 4, 2], dtype=int64)"
      ]
     },
     "execution_count": 153,
     "metadata": {},
     "output_type": "execute_result"
    }
   ],
   "source": [
    "data['Rating'].unique()\n",
    "#Ratings are in the range 1-5"
   ]
  },
  {
   "cell_type": "code",
   "execution_count": 154,
   "metadata": {},
   "outputs": [],
   "source": [
    "a1=data[data['Rating']==1].count()[0]\n",
    "#a1 is the count of objects with Rating=1\n",
    "a2=data[data['Rating']==2].count()[0]\n",
    "#a2 is the count of objects with Rating=2\n",
    "a3=data[data['Rating']==3].count()[0]\n",
    "#a3 is the count of objects with Rating=3\n",
    "a4=data[data['Rating']==4].count()[0]\n",
    "#a4 is the count of objects with Rating=4\n",
    "a5=data[data['Rating']==5].count()[0]\n",
    "#a5 is the count of objects with Rating=5"
   ]
  },
  {
   "cell_type": "code",
   "execution_count": 155,
   "metadata": {},
   "outputs": [
    {
     "data": {
      "text/plain": [
       "True"
      ]
     },
     "execution_count": 155,
     "metadata": {},
     "output_type": "execute_result"
    }
   ],
   "source": [
    "a1+a2+a3+a4+a5==total\n",
    "#verification"
   ]
  },
  {
   "cell_type": "code",
   "execution_count": 156,
   "metadata": {},
   "outputs": [
    {
     "name": "stdout",
     "output_type": "stream",
     "text": [
      "2089.447885965678\n"
     ]
    }
   ],
   "source": [
    "sum=0\n",
    "r1=[]\n",
    "r2=[]\n",
    "r3=[]\n",
    "r4=[]\n",
    "r5=[]\n",
    "for i in range(0,10):\n",
    "    x=data[data['Rainfall']==i].count()[0]\n",
    "    #x represents number of objects with i value \n",
    "    v1=(data[data['Rating']==1]['Rainfall']==i).sum()\n",
    "    #v1 represents number of objects with Rainfall as i and Rating=1 \n",
    "    v2=(data[data['Rating']==2]['Rainfall']==i).sum()\n",
    "    #v2 represents number of objects with Rainfall as i and Rating=2 \n",
    "    v3=(data[data['Rating']==3]['Rainfall']==i).sum()\n",
    "    #v3 represents number of objects with Rainfall as i and Rating=3 \n",
    "    v4=(data[data['Rating']==4]['Rainfall']==i).sum()\n",
    "    #v4 represents number of objects with Rainfall as i and Rating=4 \n",
    "    v5=(data[data['Rating']==5]['Rainfall']==i).sum()\n",
    "    #v5 represents number of objects with Rainfall as i and Rating=5 \n",
    "    r1.append(v1)\n",
    "    r2.append(v2)\n",
    "    r3.append(v3)\n",
    "    r4.append(v4)\n",
    "    r5.append(v5)\n",
    "    if(x!=0):\n",
    "        #this condition is used so that sum does not become Nan \n",
    "        e1=(x*a1)/total\n",
    "        e2=(x*a2)/total\n",
    "        e3=(x*a3)/total\n",
    "        e4=(x*a4)/total\n",
    "        e5=(x*a5)/total\n",
    "        sum=sum+((v1-e1)**2)/e1+((v2-e2)**2)/e2+((v3-e3)**2)/e3+((v4-e4)**2)/e4+((v5-e5)**2)/e5\n",
    "print(sum) \n",
    "#sum is the chi square statistic"
   ]
  },
  {
   "cell_type": "code",
   "execution_count": 157,
   "metadata": {},
   "outputs": [
    {
     "data": {
      "image/png": "[encoded data removed]",
      "text/plain": [
       "<Figure size 432x288 with 1 Axes>"
      ]
     },
     "metadata": {
      "needs_background": "light"
     },
     "output_type": "display_data"
    }
   ],
   "source": [
    "#Plotting the observed frequencies\n",
    "fig = plt.figure()\n",
    "ax = fig.add_axes([0,0,1,1])\n",
    "#sets the axes for the figure\n",
    "ax.set_ylabel('Frequency')\n",
    "#sets the y label as Frequency\n",
    "ax.set_xlabel('Rainfall Discrete Levels')\n",
    "#sets the x label as Rainfall Discrete Levels\n",
    "ax.set_title('Rainfall vs Rating')\n",
    "#sets the title\n",
    "ax.bar(X + 0.00, r1, color = 'r', width = 0.1)\n",
    "#plots the bargraph for Rating=1\n",
    "ax.bar(X + 0.1, r2, color = 'b', width = 0.1)\n",
    "#plots the bargraph for Rating=2\n",
    "ax.bar(X + 0.2, r3, color = 'g', width = 0.1)\n",
    "#plots the bargraph for Rating=3\n",
    "ax.bar(X + 0.3, r4, color = 'm', width = 0.1)\n",
    "#plots the bargraph for Rating=4\n",
    "ax.bar(X + 0.4, r4, color = 'c', width = 0.1)\n",
    "#plots the bargraph for Rating=5\n",
    "ax.legend(labels=['1', '2','3','4','5'])\n",
    "#adds the legend to the plot\n",
    "ax.set_facecolor(\"snow\")\n",
    "bars = ('0', '1', '2', '3', '4','5','6','7','8','9')\n",
    "y_pos = np.arange(len(bars))\n",
    "plt.xticks(y_pos, bars)\n",
    "#sets x ticks to the graph\n",
    "ax.grid(False)\n",
    "#removing the grids from the plot\n",
    "plt.savefig('Rainfall vs Rating.png',bbox_inches='tight')"
   ]
  },
  {
   "cell_type": "code",
   "execution_count": 158,
   "metadata": {},
   "outputs": [],
   "source": [
    "r=5\n",
    "c=10\n",
    "dof=(r-1)*(c-1)"
   ]
  },
  {
   "cell_type": "code",
   "execution_count": 159,
   "metadata": {},
   "outputs": [
    {
     "data": {
      "text/plain": [
       "36"
      ]
     },
     "execution_count": 159,
     "metadata": {},
     "output_type": "execute_result"
    }
   ],
   "source": [
    "dof"
   ]
  },
  {
   "cell_type": "markdown",
   "metadata": {},
   "source": [
    "From chi square table chi square value at 0.05 significance level=50.99846017\n",
    "Hence sum>50.99846017 so we reject null hypothesis and hence there is significant relation between Rating and Rainfall."
   ]
  },
  {
   "cell_type": "markdown",
   "metadata": {},
   "source": [
    "Now we try to find if Population affect the Rating. It can be assumed that where population is more, towers will be more and hence rating will be more"
   ]
  },
  {
   "cell_type": "markdown",
   "metadata": {},
   "source": [
    "H0: Population and rating are independent of each other"
   ]
  },
  {
   "cell_type": "markdown",
   "metadata": {},
   "source": [
    "H0: Population and rating are independent of each other"
   ]
  },
  {
   "cell_type": "code",
   "execution_count": 160,
   "metadata": {},
   "outputs": [
    {
     "name": "stdout",
     "output_type": "stream",
     "text": [
      "3132.818801519578\n"
     ]
    }
   ],
   "source": [
    "sum=0\n",
    "r1=[]\n",
    "r2=[]\n",
    "r3=[]\n",
    "r4=[]\n",
    "r5=[]\n",
    "for i in range(0,10):\n",
    "    x=data[data['Population']==i].count()[0]\n",
    "    #x represents number of objects with i value\n",
    "    v1=(data[data['Rating']==1]['Population']==i).sum()\n",
    "    #v1 represents number of objects with Rainfall as i and Rating=1\n",
    "    v2=(data[data['Rating']==2]['Population']==i).sum()\n",
    "    #v2 represents number of objects with Rainfall as i and Rating=2\n",
    "    v3=(data[data['Rating']==3]['Population']==i).sum()\n",
    "    #v3 represents number of objects with Rainfall as i and Rating=3\n",
    "    v4=(data[data['Rating']==4]['Population']==i).sum()\n",
    "    #v4 represents number of objects with Rainfall as i and Rating=4\n",
    "    v5=(data[data['Rating']==5]['Population']==i).sum()\n",
    "    #v5 represents number of objects with Rainfall as i and Rating=5\n",
    "    r1.append(v1)\n",
    "    r2.append(v2)\n",
    "    r3.append(v3)\n",
    "    r4.append(v4)\n",
    "    r5.append(v5)\n",
    "    if(x!=0):\n",
    "        #this condition is used so that sum does not become Nan\n",
    "        e1=(x*a1)/total\n",
    "        e2=(x*a2)/total\n",
    "        e3=(x*a3)/total\n",
    "        e4=(x*a4)/total\n",
    "        e5=(x*a5)/total\n",
    "        sum=sum+((v1-e1)**2)/e1+((v2-e2)**2)/e2+((v3-e3)**2)/e3+((v4-e4)**2)/e4+((v5-e5)**2)/e5\n",
    "print(sum) \n",
    "#sum is the chi square statistic"
   ]
  },
  {
   "cell_type": "code",
   "execution_count": 161,
   "metadata": {},
   "outputs": [
    {
     "data": {
      "image/png": "[encoded data removed]",
      "text/plain": [
       "<Figure size 432x288 with 1 Axes>"
      ]
     },
     "metadata": {
      "needs_background": "light"
     },
     "output_type": "display_data"
    }
   ],
   "source": [
    "#Plotting the observed frequencies\n",
    "fig = plt.figure()\n",
    "ax = fig.add_axes([0,0,1,1])\n",
    "#sets the axes for the figure\n",
    "ax.set_ylabel('Frequency')\n",
    "#sets the y label as Frequency\n",
    "ax.set_xlabel('Population Discrete Levels')\n",
    "#sets the x label as Rainfall Discrete Levels\n",
    "ax.set_title('Population vs Rating')\n",
    "#sets the title\n",
    "ax.bar(X + 0.00, r1, color = 'r', width = 0.1)\n",
    "#plots the bargraph for Rating=1\n",
    "ax.bar(X + 0.1, r2, color = 'b', width = 0.1)\n",
    "#plots the bargraph for Rating=2\n",
    "ax.bar(X + 0.2, r3, color = 'g', width = 0.1)\n",
    "#plots the bargraph for Rating=3\n",
    "ax.bar(X + 0.3, r4, color = 'm', width = 0.1)\n",
    "#plots the bargraph for Rating=4\n",
    "ax.bar(X + 0.4, r4, color = 'c', width = 0.1)\n",
    "#plots the bargraph for Rating=5\n",
    "ax.legend(labels=['1', '2','3','4','5'])\n",
    "#adds the legend to the plot\n",
    "ax.set_facecolor(\"snow\")\n",
    "bars = ('0', '1', '2', '3', '4','5','6','7','8','9')\n",
    "y_pos = np.arange(len(bars))\n",
    "plt.xticks(y_pos, bars)\n",
    "#sets x ticks to the graph\n",
    "ax.grid(False)\n",
    "#removing the grids from the plot\n",
    "plt.savefig('Population vs Rating.png',bbox_inches='tight')"
   ]
  },
  {
   "cell_type": "code",
   "execution_count": 162,
   "metadata": {},
   "outputs": [],
   "source": [
    "r=5\n",
    "c=10\n",
    "dof=(r-1)*(c-1)"
   ]
  },
  {
   "cell_type": "code",
   "execution_count": 163,
   "metadata": {},
   "outputs": [
    {
     "data": {
      "text/plain": [
       "36"
      ]
     },
     "execution_count": 163,
     "metadata": {},
     "output_type": "execute_result"
    }
   ],
   "source": [
    "dof"
   ]
  },
  {
   "cell_type": "markdown",
   "metadata": {},
   "source": [
    "From chi square table chi square value at 0.05 significance level=50.99846017\n",
    "Hence sum>50.99846017 so we reject null hypothesis and hence there is significant relation between Rating and Population."
   ]
  }
 ],
 "metadata": {
  "kernelspec": {
   "display_name": "Python 3",
   "language": "python",
   "name": "python3"
  },
  "language_info": {
   "codemirror_mode": {
    "name": "ipython",
    "version": 3
   },
   "file_extension": ".py",
   "mimetype": "text/x-python",
   "name": "python",
   "nbconvert_exporter": "python",
   "pygments_lexer": "ipython3",
   "version": "3.7.3"
  }
 },
 "nbformat": 4,
 "nbformat_minor": 2
}
