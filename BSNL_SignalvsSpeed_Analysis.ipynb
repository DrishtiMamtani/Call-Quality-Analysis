{
 "cells": [
  {
   "cell_type": "code",
   "execution_count": 12,
   "metadata": {},
   "outputs": [],
   "source": [
    "import pandas as pd \n",
    "import numpy as np\n",
    "from sklearn import preprocessing\n",
    "data=pd.read_csv(\"final_data.csv\")\n",
    "#final_data is the final pre processed data"
   ]
  },
  {
   "cell_type": "code",
   "execution_count": 13,
   "metadata": {},
   "outputs": [
    {
     "data": {
      "text/html": [
       "<div>\n",
       "<style scoped>\n",
       "    .dataframe tbody tr th:only-of-type {\n",
       "        vertical-align: middle;\n",
       "    }\n",
       "\n",
       "    .dataframe tbody tr th {\n",
       "        vertical-align: top;\n",
       "    }\n",
       "\n",
       "    .dataframe thead th {\n",
       "        text-align: right;\n",
       "    }\n",
       "</style>\n",
       "<table border=\"1\" class=\"dataframe\">\n",
       "  <thead>\n",
       "    <tr style=\"text-align: right;\">\n",
       "      <th></th>\n",
       "      <th>Operator</th>\n",
       "      <th>In Out Travelling</th>\n",
       "      <th>Network Type</th>\n",
       "      <th>Rating</th>\n",
       "      <th>Call Drop Category</th>\n",
       "      <th>Latitude</th>\n",
       "      <th>Longitude</th>\n",
       "      <th>State Name</th>\n",
       "      <th>Average Data Speed Download</th>\n",
       "      <th>Average Data Speed Upload</th>\n",
       "      <th>Population</th>\n",
       "      <th>Literacy Rate</th>\n",
       "      <th>Rainfall</th>\n",
       "      <th>Area of the state</th>\n",
       "      <th>Average_Signal</th>\n",
       "    </tr>\n",
       "  </thead>\n",
       "  <tbody>\n",
       "    <tr>\n",
       "      <th>0</th>\n",
       "      <td>Airtel</td>\n",
       "      <td>Indoor</td>\n",
       "      <td>4G</td>\n",
       "      <td>3</td>\n",
       "      <td>Satisfactory</td>\n",
       "      <td>0.196228</td>\n",
       "      <td>0.325356</td>\n",
       "      <td>Karnataka</td>\n",
       "      <td>0.271480</td>\n",
       "      <td>0.197512</td>\n",
       "      <td>2</td>\n",
       "      <td>7</td>\n",
       "      <td>3</td>\n",
       "      <td>0.504087</td>\n",
       "      <td>0.476721</td>\n",
       "    </tr>\n",
       "    <tr>\n",
       "      <th>1</th>\n",
       "      <td>Vodafone</td>\n",
       "      <td>Indoor</td>\n",
       "      <td>4G</td>\n",
       "      <td>1</td>\n",
       "      <td>Call Dropped</td>\n",
       "      <td>0.632907</td>\n",
       "      <td>0.135432</td>\n",
       "      <td>Gujarat</td>\n",
       "      <td>0.211519</td>\n",
       "      <td>0.370879</td>\n",
       "      <td>2</td>\n",
       "      <td>8</td>\n",
       "      <td>2</td>\n",
       "      <td>0.518040</td>\n",
       "      <td>0.477252</td>\n",
       "    </tr>\n",
       "    <tr>\n",
       "      <th>2</th>\n",
       "      <td>Airtel</td>\n",
       "      <td>Indoor</td>\n",
       "      <td>3G</td>\n",
       "      <td>1</td>\n",
       "      <td>Call Dropped</td>\n",
       "      <td>0.127093</td>\n",
       "      <td>0.290671</td>\n",
       "      <td>Tamil Nadu</td>\n",
       "      <td>0.036321</td>\n",
       "      <td>0.062303</td>\n",
       "      <td>2</td>\n",
       "      <td>8</td>\n",
       "      <td>2</td>\n",
       "      <td>0.300607</td>\n",
       "      <td>0.478454</td>\n",
       "    </tr>\n",
       "    <tr>\n",
       "      <th>3</th>\n",
       "      <td>Airtel</td>\n",
       "      <td>Indoor</td>\n",
       "      <td>4G</td>\n",
       "      <td>3</td>\n",
       "      <td>Satisfactory</td>\n",
       "      <td>0.580181</td>\n",
       "      <td>0.155327</td>\n",
       "      <td>Gujarat</td>\n",
       "      <td>0.175517</td>\n",
       "      <td>0.191200</td>\n",
       "      <td>2</td>\n",
       "      <td>8</td>\n",
       "      <td>2</td>\n",
       "      <td>0.518040</td>\n",
       "      <td>0.477699</td>\n",
       "    </tr>\n",
       "    <tr>\n",
       "      <th>4</th>\n",
       "      <td>Airtel</td>\n",
       "      <td>Travelling</td>\n",
       "      <td>4G</td>\n",
       "      <td>3</td>\n",
       "      <td>Satisfactory</td>\n",
       "      <td>0.425737</td>\n",
       "      <td>0.180503</td>\n",
       "      <td>Maharashtra</td>\n",
       "      <td>0.333021</td>\n",
       "      <td>0.395612</td>\n",
       "      <td>4</td>\n",
       "      <td>8</td>\n",
       "      <td>4</td>\n",
       "      <td>0.886194</td>\n",
       "      <td>0.476859</td>\n",
       "    </tr>\n",
       "  </tbody>\n",
       "</table>\n",
       "</div>"
      ],
      "text/plain": [
       "   Operator In Out Travelling Network Type  Rating Call Drop Category  \\\n",
       "0    Airtel            Indoor           4G       3       Satisfactory   \n",
       "1  Vodafone            Indoor           4G       1       Call Dropped   \n",
       "2    Airtel            Indoor           3G       1       Call Dropped   \n",
       "3    Airtel            Indoor           4G       3       Satisfactory   \n",
       "4    Airtel        Travelling           4G       3       Satisfactory   \n",
       "\n",
       "   Latitude  Longitude   State Name  Average Data Speed Download  \\\n",
       "0  0.196228   0.325356    Karnataka                     0.271480   \n",
       "1  0.632907   0.135432      Gujarat                     0.211519   \n",
       "2  0.127093   0.290671   Tamil Nadu                     0.036321   \n",
       "3  0.580181   0.155327      Gujarat                     0.175517   \n",
       "4  0.425737   0.180503  Maharashtra                     0.333021   \n",
       "\n",
       "   Average Data Speed Upload  Population  Literacy Rate  Rainfall  \\\n",
       "0                   0.197512           2              7         3   \n",
       "1                   0.370879           2              8         2   \n",
       "2                   0.062303           2              8         2   \n",
       "3                   0.191200           2              8         2   \n",
       "4                   0.395612           4              8         4   \n",
       "\n",
       "   Area of the state  Average_Signal  \n",
       "0           0.504087        0.476721  \n",
       "1           0.518040        0.477252  \n",
       "2           0.300607        0.478454  \n",
       "3           0.518040        0.477699  \n",
       "4           0.886194        0.476859  "
      ]
     },
     "execution_count": 13,
     "metadata": {},
     "output_type": "execute_result"
    }
   ],
   "source": [
    "data.head()"
   ]
  },
  {
   "cell_type": "code",
   "execution_count": 14,
   "metadata": {},
   "outputs": [
    {
     "data": {
      "text/plain": [
       "array(['Airtel', 'Vodafone', 'RJio', 'BSNL', 'Idea'], dtype=object)"
      ]
     },
     "execution_count": 14,
     "metadata": {},
     "output_type": "execute_result"
    }
   ],
   "source": [
    "data['Operator'].unique()"
   ]
  },
  {
   "cell_type": "code",
   "execution_count": 15,
   "metadata": {},
   "outputs": [],
   "source": [
    "BSNL=data[data['Operator']=='BSNL']"
   ]
  },
  {
   "cell_type": "code",
   "execution_count": 16,
   "metadata": {},
   "outputs": [
    {
     "data": {
      "text/plain": [
       "Operator                       609\n",
       "In Out Travelling              609\n",
       "Network Type                   609\n",
       "Rating                         609\n",
       "Call Drop Category             609\n",
       "Latitude                       609\n",
       "Longitude                      609\n",
       "State Name                     609\n",
       "Average Data Speed Download    609\n",
       "Average Data Speed Upload      609\n",
       "Population                     609\n",
       "Literacy Rate                  609\n",
       "Rainfall                       609\n",
       "Area of the state              609\n",
       "Average_Signal                 609\n",
       "dtype: int64"
      ]
     },
     "execution_count": 16,
     "metadata": {},
     "output_type": "execute_result"
    }
   ],
   "source": [
    "BSNL.count()"
   ]
  },
  {
   "cell_type": "code",
   "execution_count": 19,
   "metadata": {},
   "outputs": [],
   "source": [
    "from sklearn import preprocessing\n",
    "from numpy.linalg import inv"
   ]
  },
  {
   "cell_type": "code",
   "execution_count": 20,
   "metadata": {},
   "outputs": [],
   "source": [
    "X=BSNL[['Average Data Speed Download','Average Data Speed Upload']]"
   ]
  },
  {
   "cell_type": "code",
   "execution_count": 21,
   "metadata": {},
   "outputs": [
    {
     "data": {
      "text/plain": [
       "Average Data Speed Download    609\n",
       "Average Data Speed Upload      609\n",
       "dtype: int64"
      ]
     },
     "execution_count": 21,
     "metadata": {},
     "output_type": "execute_result"
    }
   ],
   "source": [
    "X.count()"
   ]
  },
  {
   "cell_type": "code",
   "execution_count": 22,
   "metadata": {},
   "outputs": [],
   "source": [
    "y=BSNL['Average_Signal']"
   ]
  },
  {
   "cell_type": "code",
   "execution_count": 24,
   "metadata": {},
   "outputs": [],
   "source": [
    "from sklearn.model_selection import train_test_split \n",
    "x_train, x_test, y_train, y_test = train_test_split(X, y, test_size=0.3, random_state=1) \n",
    "x_train.reset_index(inplace = True, drop = True) \n",
    "x_test.reset_index(inplace = True, drop = True) \n",
    "y_train.reset_index(inplace = True, drop = True) \n",
    "y_test.reset_index(inplace = True, drop = True) \n",
    "#We have used holdout method and 70%of data is taken as training data and rest as testing "
   ]
  },
  {
   "cell_type": "code",
   "execution_count": 25,
   "metadata": {},
   "outputs": [
    {
     "data": {
      "text/html": [
       "<div>\n",
       "<style scoped>\n",
       "    .dataframe tbody tr th:only-of-type {\n",
       "        vertical-align: middle;\n",
       "    }\n",
       "\n",
       "    .dataframe tbody tr th {\n",
       "        vertical-align: top;\n",
       "    }\n",
       "\n",
       "    .dataframe thead th {\n",
       "        text-align: right;\n",
       "    }\n",
       "</style>\n",
       "<table border=\"1\" class=\"dataframe\">\n",
       "  <thead>\n",
       "    <tr style=\"text-align: right;\">\n",
       "      <th></th>\n",
       "      <th>Average Data Speed Download</th>\n",
       "      <th>Average Data Speed Upload</th>\n",
       "    </tr>\n",
       "  </thead>\n",
       "  <tbody>\n",
       "    <tr>\n",
       "      <th>0</th>\n",
       "      <td>0.070379</td>\n",
       "      <td>0.074957</td>\n",
       "    </tr>\n",
       "    <tr>\n",
       "      <th>1</th>\n",
       "      <td>0.070379</td>\n",
       "      <td>0.074957</td>\n",
       "    </tr>\n",
       "    <tr>\n",
       "      <th>2</th>\n",
       "      <td>0.098693</td>\n",
       "      <td>0.108892</td>\n",
       "    </tr>\n",
       "    <tr>\n",
       "      <th>3</th>\n",
       "      <td>0.298309</td>\n",
       "      <td>0.266938</td>\n",
       "    </tr>\n",
       "    <tr>\n",
       "      <th>4</th>\n",
       "      <td>0.098693</td>\n",
       "      <td>0.108892</td>\n",
       "    </tr>\n",
       "  </tbody>\n",
       "</table>\n",
       "</div>"
      ],
      "text/plain": [
       "   Average Data Speed Download  Average Data Speed Upload\n",
       "0                     0.070379                   0.074957\n",
       "1                     0.070379                   0.074957\n",
       "2                     0.098693                   0.108892\n",
       "3                     0.298309                   0.266938\n",
       "4                     0.098693                   0.108892"
      ]
     },
     "execution_count": 25,
     "metadata": {},
     "output_type": "execute_result"
    }
   ],
   "source": [
    "x_train.head()"
   ]
  },
  {
   "cell_type": "code",
   "execution_count": 26,
   "metadata": {},
   "outputs": [],
   "source": [
    "n=x_train.count()[0]"
   ]
  },
  {
   "cell_type": "code",
   "execution_count": 27,
   "metadata": {},
   "outputs": [
    {
     "data": {
      "text/plain": [
       "426"
      ]
     },
     "execution_count": 27,
     "metadata": {},
     "output_type": "execute_result"
    }
   ],
   "source": [
    "n"
   ]
  },
  {
   "cell_type": "markdown",
   "metadata": {},
   "source": [
    "# Regression model of degree 1"
   ]
  },
  {
   "cell_type": "code",
   "execution_count": 28,
   "metadata": {},
   "outputs": [],
   "source": [
    "sum_x1=0\n",
    "sum_x2=0\n",
    "sum_y1=0\n",
    "sum_x1x1=0\n",
    "sum_x1x2=0\n",
    "sum_x2x2=0\n",
    "sum_x1y1=0\n",
    "sum_x2y1=0\n",
    "for i in range(0,n):\n",
    "    sum_x1=sum_x1+x_train['Average Data Speed Download'][i]\n",
    "    sum_x2=sum_x2+x_train['Average Data Speed Upload'][i]\n",
    "    sum_y1=sum_y1+y_train[i]\n",
    "    sum_x1x1=sum_x1x1+x_train['Average Data Speed Download'][i]*x_train['Average Data Speed Download'][i]\n",
    "    sum_x1x2=sum_x1x2+x_train['Average Data Speed Download'][i]*x_train['Average Data Speed Upload'][i]\n",
    "    sum_x2x2=sum_x2x2+x_train['Average Data Speed Upload'][i]*x_train['Average Data Speed Upload'][i]\n",
    "    sum_x1y1=sum_x1y1+x_train['Average Data Speed Download'][i]*y_train[i]\n",
    "    sum_x2y1=sum_x2y1+x_train['Average Data Speed Upload'][i]*y_train[i]\n",
    "A = np.array([[n, sum_x1, sum_x2], [sum_x1, sum_x1x1, sum_x1x2],[sum_x2,sum_x1x2,sum_x2x2]])\n",
    "B=np.array([sum_y1, sum_x1y1, sum_x2y1])\n",
    "#All the sums are used to calculate A and then X is calculated using AX=B so X=Inverse(A)*B \n",
    "#X will give all the parameters(w0,w1,w2)"
   ]
  },
  {
   "cell_type": "code",
   "execution_count": 29,
   "metadata": {},
   "outputs": [
    {
     "data": {
      "text/plain": [
       "array([[426.        ,  34.1635188 ,  45.59298679],\n",
       "       [ 34.1635188 ,   4.27197393,   4.76631905],\n",
       "       [ 45.59298679,   4.76631905,   7.16973132]])"
      ]
     },
     "execution_count": 29,
     "metadata": {},
     "output_type": "execute_result"
    }
   ],
   "source": [
    "A"
   ]
  },
  {
   "cell_type": "code",
   "execution_count": 30,
   "metadata": {},
   "outputs": [
    {
     "data": {
      "text/plain": [
       "array([203.97253781,  16.35883236,  21.81456585])"
      ]
     },
     "execution_count": 30,
     "metadata": {},
     "output_type": "execute_result"
    }
   ],
   "source": [
    "B"
   ]
  },
  {
   "cell_type": "code",
   "execution_count": 31,
   "metadata": {},
   "outputs": [],
   "source": [
    "Inverse=inv(A)\n",
    "w0=Inverse[0][0]*B[0]+Inverse[0][1]*B[1]+Inverse[0][2]*B[2]\n",
    "w1=Inverse[1][0]*B[0]+Inverse[1][1]*B[1]+Inverse[1][2]*B[2]\n",
    "w2=Inverse[2][0]*B[0]+Inverse[2][1]*B[1]+Inverse[2][2]*B[2]\n",
    "W=np.array([w0,w1,w2])"
   ]
  },
  {
   "cell_type": "code",
   "execution_count": 32,
   "metadata": {},
   "outputs": [
    {
     "data": {
      "text/plain": [
       "array([ 0.47929795,  0.00872661, -0.01110966])"
      ]
     },
     "execution_count": 32,
     "metadata": {},
     "output_type": "execute_result"
    }
   ],
   "source": [
    "W"
   ]
  },
  {
   "cell_type": "code",
   "execution_count": 34,
   "metadata": {},
   "outputs": [
    {
     "data": {
      "text/plain": [
       "0.000732876687258436"
      ]
     },
     "execution_count": 34,
     "metadata": {},
     "output_type": "execute_result"
    }
   ],
   "source": [
    "y_pred=w0+w1*x_test['Average Data Speed Download']+w2*x_test['Average Data Speed Upload']\n",
    "#y_pred gives the predicted values of y based on the regression model\n",
    "MSE=0\n",
    "for i in range(0,len(y_test)):\n",
    "    MSE=MSE+(y_pred[i]-y_test[i])**2\n",
    "RMSE1=np.sqrt(MSE/len(y_test))\n",
    "RMSE1\n",
    "#RMSE is used to find the goodness of the model and is calacuated as root of sum of square of difference of actual and prediacted values."
   ]
  },
  {
   "cell_type": "code",
   "execution_count": 35,
   "metadata": {},
   "outputs": [
    {
     "data": {
      "text/plain": [
       "0.4789277980273223"
      ]
     },
     "execution_count": 35,
     "metadata": {},
     "output_type": "execute_result"
    }
   ],
   "source": [
    "ybar=y_test.mean()\n",
    "ybar"
   ]
  },
  {
   "cell_type": "code",
   "execution_count": 37,
   "metadata": {},
   "outputs": [
    {
     "data": {
      "text/plain": [
       "183"
      ]
     },
     "execution_count": 37,
     "metadata": {},
     "output_type": "execute_result"
    }
   ],
   "source": [
    "SSR=0\n",
    "SST=0\n",
    "SSE=0\n",
    "y_test.count()\n",
    "#SST is total sum of squares\n",
    "#SSR is sum of squares due to regression\n",
    "#SSE is sum of squares due to error"
   ]
  },
  {
   "cell_type": "code",
   "execution_count": 38,
   "metadata": {},
   "outputs": [],
   "source": [
    "for i in range (0,len(y_test)):\n",
    "    SST=SST+(y_test[i]-ybar)*(y_test[i]-ybar)\n",
    "    SSR=SSR+(y_pred[i]-ybar)*(y_pred[i]-ybar)\n",
    "    SSE=SSE+(y_test[i]-y_pred[i])*(y_test[i]-y_pred[i])    "
   ]
  },
  {
   "cell_type": "code",
   "execution_count": 39,
   "metadata": {},
   "outputs": [
    {
     "name": "stdout",
     "output_type": "stream",
     "text": [
      "Total sum of squares= 0.0001557397741875759\n"
     ]
    }
   ],
   "source": [
    "print(\"Total sum of squares=\", SST )"
   ]
  },
  {
   "cell_type": "code",
   "execution_count": 40,
   "metadata": {},
   "outputs": [
    {
     "name": "stdout",
     "output_type": "stream",
     "text": [
      "Sum of squares due to regression = 5.7863937255452094e-05\n"
     ]
    }
   ],
   "source": [
    "print(\"Sum of squares due to regression =\", SSR)"
   ]
  },
  {
   "cell_type": "code",
   "execution_count": 41,
   "metadata": {},
   "outputs": [
    {
     "name": "stdout",
     "output_type": "stream",
     "text": [
      "Sum of square due to error= 9.829080768702258e-05\n"
     ]
    }
   ],
   "source": [
    "print(\"Sum of square due to error=\", SSE)"
   ]
  },
  {
   "cell_type": "code",
   "execution_count": 42,
   "metadata": {},
   "outputs": [],
   "source": [
    "Rsquare=SSR/SST"
   ]
  },
  {
   "cell_type": "code",
   "execution_count": 43,
   "metadata": {},
   "outputs": [
    {
     "name": "stdout",
     "output_type": "stream",
     "text": [
      "R square value= 0.3715424499444804\n"
     ]
    }
   ],
   "source": [
    "print(\"R square value=\",Rsquare)"
   ]
  },
  {
   "cell_type": "markdown",
   "metadata": {},
   "source": [
    "Since there are 2 independent variable so R square adjusted is also calculated. "
   ]
  },
  {
   "cell_type": "code",
   "execution_count": 44,
   "metadata": {},
   "outputs": [
    {
     "data": {
      "text/plain": [
       "609"
      ]
     },
     "execution_count": 44,
     "metadata": {},
     "output_type": "execute_result"
    }
   ],
   "source": [
    "p=2\n",
    "n=len(y_test)\n",
    "len(x_train)+len(x_test)"
   ]
  },
  {
   "cell_type": "code",
   "execution_count": 45,
   "metadata": {},
   "outputs": [],
   "source": [
    "Rsquare_adjusted=1-(((1-Rsquare)*(n-1))/(n-p-1))"
   ]
  },
  {
   "cell_type": "code",
   "execution_count": 46,
   "metadata": {},
   "outputs": [
    {
     "data": {
      "text/plain": [
       "0.3645595882771968"
      ]
     },
     "execution_count": 46,
     "metadata": {},
     "output_type": "execute_result"
    }
   ],
   "source": [
    "Rsquare_adjusted"
   ]
  },
  {
   "cell_type": "markdown",
   "metadata": {},
   "source": [
    "Significance Test"
   ]
  },
  {
   "cell_type": "markdown",
   "metadata": {},
   "source": [
    "F Test\n"
   ]
  },
  {
   "cell_type": "code",
   "execution_count": 47,
   "metadata": {},
   "outputs": [
    {
     "data": {
      "text/plain": [
       "array([ 0.47929795,  0.00872661, -0.01110966])"
      ]
     },
     "execution_count": 47,
     "metadata": {},
     "output_type": "execute_result"
    }
   ],
   "source": [
    "W"
   ]
  },
  {
   "cell_type": "code",
   "execution_count": 48,
   "metadata": {},
   "outputs": [
    {
     "data": {
      "text/plain": [
       "0.47929795451696366"
      ]
     },
     "execution_count": 48,
     "metadata": {},
     "output_type": "execute_result"
    }
   ],
   "source": [
    "w0=W[0]\n",
    "w0"
   ]
  },
  {
   "cell_type": "code",
   "execution_count": 49,
   "metadata": {},
   "outputs": [],
   "source": [
    "w1=W[1]\n",
    "w2=W[2]\n"
   ]
  },
  {
   "cell_type": "markdown",
   "metadata": {},
   "source": [
    "Regression line is y= b0 + b1 * x1 + b2 * x2"
   ]
  },
  {
   "cell_type": "markdown",
   "metadata": {},
   "source": [
    "b1 is coefficient of x1"
   ]
  },
  {
   "cell_type": "markdown",
   "metadata": {},
   "source": [
    "b2 is coefficient of x2"
   ]
  },
  {
   "cell_type": "markdown",
   "metadata": {},
   "source": [
    "H0 : b1=b2=0"
   ]
  },
  {
   "cell_type": "markdown",
   "metadata": {},
   "source": [
    "Ha : One or both parameters not equal to zero"
   ]
  },
  {
   "cell_type": "code",
   "execution_count": 50,
   "metadata": {},
   "outputs": [
    {
     "data": {
      "text/plain": [
       "2.8931968627726047e-05"
      ]
     },
     "execution_count": 50,
     "metadata": {},
     "output_type": "execute_result"
    }
   ],
   "source": [
    "MSR=SSR/2\n",
    "MSR"
   ]
  },
  {
   "cell_type": "code",
   "execution_count": 51,
   "metadata": {},
   "outputs": [
    {
     "data": {
      "text/plain": [
       "5.46060042705681e-07"
      ]
     },
     "execution_count": 51,
     "metadata": {},
     "output_type": "execute_result"
    }
   ],
   "source": [
    "MSE=SSE/(len(y_test)-3)\n",
    "MSE"
   ]
  },
  {
   "cell_type": "code",
   "execution_count": 53,
   "metadata": {},
   "outputs": [],
   "source": [
    "F=MSR/MSE\n",
    "#The F test is used to determine whether a significant relationship exists between the dependent variable and the set of all the independent variables; hence F test are referred to as  the test for overall significance"
   ]
  },
  {
   "cell_type": "code",
   "execution_count": 54,
   "metadata": {},
   "outputs": [
    {
     "data": {
      "text/plain": [
       "52.983127064874786"
      ]
     },
     "execution_count": 54,
     "metadata": {},
     "output_type": "execute_result"
    }
   ],
   "source": [
    "F"
   ]
  },
  {
   "cell_type": "code",
   "execution_count": 55,
   "metadata": {},
   "outputs": [
    {
     "data": {
      "text/plain": [
       "180"
      ]
     },
     "execution_count": 55,
     "metadata": {},
     "output_type": "execute_result"
    }
   ],
   "source": [
    "len(y_test)-3"
   ]
  },
  {
   "cell_type": "markdown",
   "metadata": {},
   "source": [
    "F alpha with numerator dof=2 and denominator dof=n-3 at level of significance=0.05"
   ]
  },
  {
   "cell_type": "code",
   "execution_count": 56,
   "metadata": {},
   "outputs": [],
   "source": [
    "Falpha=3.04614794"
   ]
  },
  {
   "cell_type": "code",
   "execution_count": 57,
   "metadata": {},
   "outputs": [
    {
     "data": {
      "text/plain": [
       "True"
      ]
     },
     "execution_count": 57,
     "metadata": {},
     "output_type": "execute_result"
    }
   ],
   "source": [
    "F>=Falpha"
   ]
  },
  {
   "cell_type": "markdown",
   "metadata": {},
   "source": [
    "So we reject H0. Now for b1 and b2 t tests are performed separately.\n"
   ]
  },
  {
   "cell_type": "markdown",
   "metadata": {},
   "source": [
    "T test for b1"
   ]
  },
  {
   "cell_type": "markdown",
   "metadata": {},
   "source": [
    "H0 : b1=0"
   ]
  },
  {
   "cell_type": "markdown",
   "metadata": {},
   "source": [
    "Ha : b1 is not equal to zero"
   ]
  },
  {
   "cell_type": "code",
   "execution_count": 58,
   "metadata": {},
   "outputs": [
    {
     "data": {
      "text/plain": [
       "0.4759943130771605"
      ]
     },
     "execution_count": 58,
     "metadata": {},
     "output_type": "execute_result"
    }
   ],
   "source": [
    "sum=0\n",
    "m=x_test['Average Data Speed Download'].mean()\n",
    "for i in range(0,len(x_test)):\n",
    "    sum=sum+((x_test['Average Data Speed Download'][i]-m)**2)\n",
    "sum"
   ]
  },
  {
   "cell_type": "code",
   "execution_count": 59,
   "metadata": {},
   "outputs": [],
   "source": [
    "import math\n",
    "x=math.sqrt(sum)\n",
    "z=SSE/(len(y_test)-3)\n",
    "s=math.sqrt(z)\n",
    "sb1=s/x"
   ]
  },
  {
   "cell_type": "code",
   "execution_count": 60,
   "metadata": {},
   "outputs": [],
   "source": [
    "t=w1/sb1"
   ]
  },
  {
   "cell_type": "code",
   "execution_count": 63,
   "metadata": {},
   "outputs": [
    {
     "data": {
      "text/plain": [
       "8.147538549465246"
      ]
     },
     "execution_count": 63,
     "metadata": {},
     "output_type": "execute_result"
    }
   ],
   "source": [
    "t\n",
    "#t distribution with n − p − 1 degrees of freedom.\n",
    "#The t test is used to determine whether each of the individual independent variables is significant. A separate t test is conducted for each of the independent variables in the model; hence t tests are called as the test for individual significance. "
   ]
  },
  {
   "cell_type": "code",
   "execution_count": 64,
   "metadata": {},
   "outputs": [
    {
     "data": {
      "text/plain": [
       "180"
      ]
     },
     "execution_count": 64,
     "metadata": {},
     "output_type": "execute_result"
    }
   ],
   "source": [
    "len(y_test)-3"
   ]
  },
  {
   "cell_type": "markdown",
   "metadata": {},
   "source": [
    "So talpha=2.26 at dof=len(y_test)-3 and alpha=0.025"
   ]
  },
  {
   "cell_type": "code",
   "execution_count": 65,
   "metadata": {},
   "outputs": [
    {
     "data": {
      "text/plain": [
       "True"
      ]
     },
     "execution_count": 65,
     "metadata": {},
     "output_type": "execute_result"
    }
   ],
   "source": [
    "talpha=2.260307\n",
    "t>=talpha"
   ]
  },
  {
   "cell_type": "markdown",
   "metadata": {},
   "source": [
    "Hence we reject null hypothesis"
   ]
  },
  {
   "cell_type": "markdown",
   "metadata": {},
   "source": [
    "T Test for b2"
   ]
  },
  {
   "cell_type": "markdown",
   "metadata": {},
   "source": [
    "H0 : b2=0"
   ]
  },
  {
   "cell_type": "markdown",
   "metadata": {},
   "source": [
    "Ha : b2 not equal to zero"
   ]
  },
  {
   "cell_type": "code",
   "execution_count": 66,
   "metadata": {},
   "outputs": [],
   "source": [
    "sum=0\n",
    "m=x_test['Average Data Speed Upload'].mean()\n",
    "for i in range(0,len(x_test)):\n",
    "    sum=sum+((x_test['Average Data Speed Upload'][i]-m)**2)\n",
    "x=math.sqrt(sum)\n",
    "z=SSE/(len(y_test)-3)\n",
    "s=math.sqrt(z)\n",
    "sb2=s/x"
   ]
  },
  {
   "cell_type": "code",
   "execution_count": 67,
   "metadata": {},
   "outputs": [],
   "source": [
    "t=w2/sb2"
   ]
  },
  {
   "cell_type": "code",
   "execution_count": 68,
   "metadata": {},
   "outputs": [
    {
     "data": {
      "text/plain": [
       "-12.85838911765779"
      ]
     },
     "execution_count": 68,
     "metadata": {},
     "output_type": "execute_result"
    }
   ],
   "source": [
    "t"
   ]
  },
  {
   "cell_type": "code",
   "execution_count": 69,
   "metadata": {},
   "outputs": [
    {
     "data": {
      "text/plain": [
       "True"
      ]
     },
     "execution_count": 69,
     "metadata": {},
     "output_type": "execute_result"
    }
   ],
   "source": [
    "t<=-talpha"
   ]
  },
  {
   "cell_type": "markdown",
   "metadata": {},
   "source": [
    "Hence we reject null hypothesis"
   ]
  },
  {
   "cell_type": "markdown",
   "metadata": {},
   "source": [
    "# Hence we can conclude that Signal Strength does depend on Download and Upload Speed significantly for BSNL"
   ]
  }
 ],
 "metadata": {
  "kernelspec": {
   "display_name": "Python 3",
   "language": "python",
   "name": "python3"
  },
  "language_info": {
   "codemirror_mode": {
    "name": "ipython",
    "version": 3
   },
   "file_extension": ".py",
   "mimetype": "text/x-python",
   "name": "python",
   "nbconvert_exporter": "python",
   "pygments_lexer": "ipython3",
   "version": "3.7.3"
  }
 },
 "nbformat": 4,
 "nbformat_minor": 2
}
