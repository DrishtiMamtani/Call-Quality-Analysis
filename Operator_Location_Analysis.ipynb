{
 "cells": [
  {
   "cell_type": "code",
   "execution_count": 275,
   "metadata": {},
   "outputs": [],
   "source": [
    "import pandas as pd \n",
    "import numpy as np\n",
    "from sklearn import preprocessing\n",
    "data=pd.read_csv(\"final_data.csv\")\n",
    "#final_data is the final pre processed data"
   ]
  },
  {
   "cell_type": "code",
   "execution_count": 276,
   "metadata": {},
   "outputs": [
    {
     "data": {
      "text/html": [
       "<div>\n",
       "<style scoped>\n",
       "    .dataframe tbody tr th:only-of-type {\n",
       "        vertical-align: middle;\n",
       "    }\n",
       "\n",
       "    .dataframe tbody tr th {\n",
       "        vertical-align: top;\n",
       "    }\n",
       "\n",
       "    .dataframe thead th {\n",
       "        text-align: right;\n",
       "    }\n",
       "</style>\n",
       "<table border=\"1\" class=\"dataframe\">\n",
       "  <thead>\n",
       "    <tr style=\"text-align: right;\">\n",
       "      <th></th>\n",
       "      <th>Operator</th>\n",
       "      <th>In Out Travelling</th>\n",
       "      <th>Network Type</th>\n",
       "      <th>Rating</th>\n",
       "      <th>Call Drop Category</th>\n",
       "      <th>Latitude</th>\n",
       "      <th>Longitude</th>\n",
       "      <th>State Name</th>\n",
       "      <th>Average Data Speed Download</th>\n",
       "      <th>Average Data Speed Upload</th>\n",
       "      <th>Population</th>\n",
       "      <th>Literacy Rate</th>\n",
       "      <th>Rainfall</th>\n",
       "      <th>Area of the state</th>\n",
       "      <th>Average_Signal</th>\n",
       "    </tr>\n",
       "  </thead>\n",
       "  <tbody>\n",
       "    <tr>\n",
       "      <th>0</th>\n",
       "      <td>Airtel</td>\n",
       "      <td>Indoor</td>\n",
       "      <td>4G</td>\n",
       "      <td>3</td>\n",
       "      <td>Satisfactory</td>\n",
       "      <td>0.196228</td>\n",
       "      <td>0.325356</td>\n",
       "      <td>Karnataka</td>\n",
       "      <td>0.271480</td>\n",
       "      <td>0.197512</td>\n",
       "      <td>2</td>\n",
       "      <td>7</td>\n",
       "      <td>3</td>\n",
       "      <td>0.504087</td>\n",
       "      <td>0.476721</td>\n",
       "    </tr>\n",
       "    <tr>\n",
       "      <th>1</th>\n",
       "      <td>Vodafone</td>\n",
       "      <td>Indoor</td>\n",
       "      <td>4G</td>\n",
       "      <td>1</td>\n",
       "      <td>Call Dropped</td>\n",
       "      <td>0.632907</td>\n",
       "      <td>0.135432</td>\n",
       "      <td>Gujarat</td>\n",
       "      <td>0.211519</td>\n",
       "      <td>0.370879</td>\n",
       "      <td>2</td>\n",
       "      <td>8</td>\n",
       "      <td>2</td>\n",
       "      <td>0.518040</td>\n",
       "      <td>0.477252</td>\n",
       "    </tr>\n",
       "    <tr>\n",
       "      <th>2</th>\n",
       "      <td>Airtel</td>\n",
       "      <td>Indoor</td>\n",
       "      <td>3G</td>\n",
       "      <td>1</td>\n",
       "      <td>Call Dropped</td>\n",
       "      <td>0.127093</td>\n",
       "      <td>0.290671</td>\n",
       "      <td>Tamil Nadu</td>\n",
       "      <td>0.036321</td>\n",
       "      <td>0.062303</td>\n",
       "      <td>2</td>\n",
       "      <td>8</td>\n",
       "      <td>2</td>\n",
       "      <td>0.300607</td>\n",
       "      <td>0.478454</td>\n",
       "    </tr>\n",
       "    <tr>\n",
       "      <th>3</th>\n",
       "      <td>Airtel</td>\n",
       "      <td>Indoor</td>\n",
       "      <td>4G</td>\n",
       "      <td>3</td>\n",
       "      <td>Satisfactory</td>\n",
       "      <td>0.580181</td>\n",
       "      <td>0.155327</td>\n",
       "      <td>Gujarat</td>\n",
       "      <td>0.175517</td>\n",
       "      <td>0.191200</td>\n",
       "      <td>2</td>\n",
       "      <td>8</td>\n",
       "      <td>2</td>\n",
       "      <td>0.518040</td>\n",
       "      <td>0.477699</td>\n",
       "    </tr>\n",
       "    <tr>\n",
       "      <th>4</th>\n",
       "      <td>Airtel</td>\n",
       "      <td>Travelling</td>\n",
       "      <td>4G</td>\n",
       "      <td>3</td>\n",
       "      <td>Satisfactory</td>\n",
       "      <td>0.425737</td>\n",
       "      <td>0.180503</td>\n",
       "      <td>Maharashtra</td>\n",
       "      <td>0.333021</td>\n",
       "      <td>0.395612</td>\n",
       "      <td>4</td>\n",
       "      <td>8</td>\n",
       "      <td>4</td>\n",
       "      <td>0.886194</td>\n",
       "      <td>0.476859</td>\n",
       "    </tr>\n",
       "  </tbody>\n",
       "</table>\n",
       "</div>"
      ],
      "text/plain": [
       "   Operator In Out Travelling Network Type  Rating Call Drop Category  \\\n",
       "0    Airtel            Indoor           4G       3       Satisfactory   \n",
       "1  Vodafone            Indoor           4G       1       Call Dropped   \n",
       "2    Airtel            Indoor           3G       1       Call Dropped   \n",
       "3    Airtel            Indoor           4G       3       Satisfactory   \n",
       "4    Airtel        Travelling           4G       3       Satisfactory   \n",
       "\n",
       "   Latitude  Longitude   State Name  Average Data Speed Download  \\\n",
       "0  0.196228   0.325356    Karnataka                     0.271480   \n",
       "1  0.632907   0.135432      Gujarat                     0.211519   \n",
       "2  0.127093   0.290671   Tamil Nadu                     0.036321   \n",
       "3  0.580181   0.155327      Gujarat                     0.175517   \n",
       "4  0.425737   0.180503  Maharashtra                     0.333021   \n",
       "\n",
       "   Average Data Speed Upload  Population  Literacy Rate  Rainfall  \\\n",
       "0                   0.197512           2              7         3   \n",
       "1                   0.370879           2              8         2   \n",
       "2                   0.062303           2              8         2   \n",
       "3                   0.191200           2              8         2   \n",
       "4                   0.395612           4              8         4   \n",
       "\n",
       "   Area of the state  Average_Signal  \n",
       "0           0.504087        0.476721  \n",
       "1           0.518040        0.477252  \n",
       "2           0.300607        0.478454  \n",
       "3           0.518040        0.477699  \n",
       "4           0.886194        0.476859  "
      ]
     },
     "execution_count": 276,
     "metadata": {},
     "output_type": "execute_result"
    }
   ],
   "source": [
    "data.head(5)"
   ]
  },
  {
   "cell_type": "code",
   "execution_count": 277,
   "metadata": {},
   "outputs": [
    {
     "data": {
      "text/plain": [
       "30715"
      ]
     },
     "execution_count": 277,
     "metadata": {},
     "output_type": "execute_result"
    }
   ],
   "source": [
    "data.count()[0]"
   ]
  },
  {
   "cell_type": "code",
   "execution_count": 195,
   "metadata": {},
   "outputs": [],
   "source": [
    "from sklearn import preprocessing\n",
    "from numpy.linalg import inv\n",
    "from sklearn.linear_model import LinearRegression"
   ]
  },
  {
   "cell_type": "code",
   "execution_count": 196,
   "metadata": {},
   "outputs": [],
   "source": [
    "X=data[['Latitude','Longitude']]"
   ]
  },
  {
   "cell_type": "code",
   "execution_count": 197,
   "metadata": {},
   "outputs": [
    {
     "data": {
      "text/plain": [
       "Latitude     30715\n",
       "Longitude    30715\n",
       "dtype: int64"
      ]
     },
     "execution_count": 197,
     "metadata": {},
     "output_type": "execute_result"
    }
   ],
   "source": [
    "X.count()"
   ]
  },
  {
   "cell_type": "code",
   "execution_count": 198,
   "metadata": {},
   "outputs": [],
   "source": [
    "y=data['Average Data Speed Download']"
   ]
  },
  {
   "cell_type": "code",
   "execution_count": 199,
   "metadata": {},
   "outputs": [],
   "source": [
    "from sklearn.model_selection import train_test_split \n",
    "x_train, x_test, y_train, y_test = train_test_split(X, y, test_size=0.3, random_state=1) \n",
    "x_train.reset_index(inplace = True, drop = True) \n",
    "x_test.reset_index(inplace = True, drop = True) \n",
    "y_train.reset_index(inplace = True, drop = True) \n",
    "y_test.reset_index(inplace = True, drop = True) \n",
    "#We have used holdout method and 70%of data is taken as training data and rest as testing "
   ]
  },
  {
   "cell_type": "code",
   "execution_count": 200,
   "metadata": {},
   "outputs": [
    {
     "data": {
      "text/html": [
       "<div>\n",
       "<style scoped>\n",
       "    .dataframe tbody tr th:only-of-type {\n",
       "        vertical-align: middle;\n",
       "    }\n",
       "\n",
       "    .dataframe tbody tr th {\n",
       "        vertical-align: top;\n",
       "    }\n",
       "\n",
       "    .dataframe thead th {\n",
       "        text-align: right;\n",
       "    }\n",
       "</style>\n",
       "<table border=\"1\" class=\"dataframe\">\n",
       "  <thead>\n",
       "    <tr style=\"text-align: right;\">\n",
       "      <th></th>\n",
       "      <th>Latitude</th>\n",
       "      <th>Longitude</th>\n",
       "    </tr>\n",
       "  </thead>\n",
       "  <tbody>\n",
       "    <tr>\n",
       "      <th>0</th>\n",
       "      <td>0.498700</td>\n",
       "      <td>0.631606</td>\n",
       "    </tr>\n",
       "    <tr>\n",
       "      <th>1</th>\n",
       "      <td>0.451912</td>\n",
       "      <td>0.143607</td>\n",
       "    </tr>\n",
       "    <tr>\n",
       "      <th>2</th>\n",
       "      <td>0.871258</td>\n",
       "      <td>0.274259</td>\n",
       "    </tr>\n",
       "    <tr>\n",
       "      <th>3</th>\n",
       "      <td>0.594659</td>\n",
       "      <td>0.729902</td>\n",
       "    </tr>\n",
       "    <tr>\n",
       "      <th>4</th>\n",
       "      <td>0.193572</td>\n",
       "      <td>0.417718</td>\n",
       "    </tr>\n",
       "  </tbody>\n",
       "</table>\n",
       "</div>"
      ],
      "text/plain": [
       "   Latitude  Longitude\n",
       "0  0.498700   0.631606\n",
       "1  0.451912   0.143607\n",
       "2  0.871258   0.274259\n",
       "3  0.594659   0.729902\n",
       "4  0.193572   0.417718"
      ]
     },
     "execution_count": 200,
     "metadata": {},
     "output_type": "execute_result"
    }
   ],
   "source": [
    "x_train.head()"
   ]
  },
  {
   "cell_type": "code",
   "execution_count": 201,
   "metadata": {},
   "outputs": [],
   "source": [
    "n=x_train.count()[0]"
   ]
  },
  {
   "cell_type": "code",
   "execution_count": 202,
   "metadata": {},
   "outputs": [
    {
     "data": {
      "text/plain": [
       "21500"
      ]
     },
     "execution_count": 202,
     "metadata": {},
     "output_type": "execute_result"
    }
   ],
   "source": [
    "n"
   ]
  },
  {
   "cell_type": "markdown",
   "metadata": {},
   "source": [
    "# Download Data Speed Latitude Longitude"
   ]
  },
  {
   "cell_type": "code",
   "execution_count": 203,
   "metadata": {},
   "outputs": [],
   "source": [
    "sum_x1=0\n",
    "#sum_x1x1 means summation of x1 for all objects\n",
    "sum_x2=0\n",
    "#sum_x2 means summation of x2 for all objects\n",
    "sum_y1=0\n",
    "sum_x1x1=0\n",
    "sum_x1x2=0\n",
    "sum_x2x2=0\n",
    "sum_x1y1=0\n",
    "sum_x2y1=0\n",
    "#The sums act as accumulator\n",
    "for i in range(0,n):\n",
    "    sum_x1=sum_x1+x_train['Latitude'][i]\n",
    "    sum_x2=sum_x2+x_train['Longitude'][i]\n",
    "    sum_y1=sum_y1+y_train[i]\n",
    "    sum_x1x1=sum_x1x1+x_train['Latitude'][i]*x_train['Latitude'][i]\n",
    "    sum_x1x2=sum_x1x2+x_train['Latitude'][i]*x_train['Longitude'][i]\n",
    "    sum_x2x2=sum_x2x2+x_train['Longitude'][i]*x_train['Longitude'][i]\n",
    "    sum_x1y1=sum_x1y1+x_train['Latitude'][i]*y_train[i]\n",
    "    sum_x2y1=sum_x2y1+x_train['Longitude'][i]*y_train[i]\n",
    "A = np.array([[n, sum_x1, sum_x2], [sum_x1, sum_x1x1, sum_x1x2],[sum_x2,sum_x1x2,sum_x2x2]])\n",
    "B=np.array([sum_y1, sum_x1y1, sum_x2y1])\n",
    "#All the sums are used to calculate A and then X is calculated using AX=B so X=Inverse(A)*B \n",
    "#X will give all the parameters(w0,w1,w2)"
   ]
  },
  {
   "cell_type": "code",
   "execution_count": 204,
   "metadata": {},
   "outputs": [
    {
     "data": {
      "text/plain": [
       "array([[21500.        , 11305.59854537,  6946.46140205],\n",
       "       [11305.59854537,  6825.95490532,  3754.38127528],\n",
       "       [ 6946.46140205,  3754.38127528,  2972.37613929]])"
      ]
     },
     "execution_count": 204,
     "metadata": {},
     "output_type": "execute_result"
    }
   ],
   "source": [
    "A"
   ]
  },
  {
   "cell_type": "code",
   "execution_count": 205,
   "metadata": {},
   "outputs": [
    {
     "data": {
      "text/plain": [
       "array([8869.84387229, 4671.89409607, 3171.58142257])"
      ]
     },
     "execution_count": 205,
     "metadata": {},
     "output_type": "execute_result"
    }
   ],
   "source": [
    "B"
   ]
  },
  {
   "cell_type": "code",
   "execution_count": 206,
   "metadata": {},
   "outputs": [],
   "source": [
    "Inverse=inv(A)\n",
    "w0=Inverse[0][0]*B[0]+Inverse[0][1]*B[1]+Inverse[0][2]*B[2]\n",
    "w1=Inverse[1][0]*B[0]+Inverse[1][1]*B[1]+Inverse[1][2]*B[2]\n",
    "w2=Inverse[2][0]*B[0]+Inverse[2][1]*B[1]+Inverse[2][2]*B[2]\n",
    "W=np.array([w0,w1,w2])"
   ]
  },
  {
   "cell_type": "code",
   "execution_count": 207,
   "metadata": {},
   "outputs": [
    {
     "data": {
      "text/plain": [
       "array([ 0.29621098, -0.0403033 ,  0.4256787 ])"
      ]
     },
     "execution_count": 207,
     "metadata": {},
     "output_type": "execute_result"
    }
   ],
   "source": [
    "W\n",
    "#W is the parameter array"
   ]
  },
  {
   "cell_type": "code",
   "execution_count": 208,
   "metadata": {},
   "outputs": [
    {
     "data": {
      "text/plain": [
       "0.2869590015313743"
      ]
     },
     "execution_count": 208,
     "metadata": {},
     "output_type": "execute_result"
    }
   ],
   "source": [
    "y_pred=w0+w1*x_test['Latitude']+w2*x_test['Longitude']\n",
    "#y_pred gives the predicted values of y based on the regression model\n",
    "MSE=0\n",
    "for i in range(0,len(y_test)):\n",
    "    MSE=MSE+(y_pred[i]-y_test[i])**2\n",
    "RMSE=np.sqrt(MSE/len(y_test))\n",
    "RMSE\n",
    "#RMSE is used to find the goodness of the model and is calacuated as root of sum of square of difference of actual and prediacted values."
   ]
  },
  {
   "cell_type": "code",
   "execution_count": 209,
   "metadata": {},
   "outputs": [
    {
     "data": {
      "text/plain": [
       "0.4148969246526277"
      ]
     },
     "execution_count": 209,
     "metadata": {},
     "output_type": "execute_result"
    }
   ],
   "source": [
    "ybar=y_test.mean()\n",
    "ybar"
   ]
  },
  {
   "cell_type": "code",
   "execution_count": 210,
   "metadata": {},
   "outputs": [
    {
     "data": {
      "text/plain": [
       "9215"
      ]
     },
     "execution_count": 210,
     "metadata": {},
     "output_type": "execute_result"
    }
   ],
   "source": [
    "SSR=0\n",
    "SST=0\n",
    "SSE=0\n",
    "y_test.count()\n",
    "#SST is total sum of squares\n",
    "#SSR is sum of squares due to regression\n",
    "#SSE is sum of squares due to error"
   ]
  },
  {
   "cell_type": "code",
   "execution_count": 211,
   "metadata": {},
   "outputs": [],
   "source": [
    "for i in range (0,len(y_test)):\n",
    "    SST=SST+(y_test[i]-ybar)*(y_test[i]-ybar)\n",
    "    SSR=SSR+(y_pred[i]-ybar)*(y_pred[i]-ybar)\n",
    "    SSE=SSE+(y_test[i]-y_pred[i])*(y_test[i]-y_pred[i])  "
   ]
  },
  {
   "cell_type": "code",
   "execution_count": 212,
   "metadata": {},
   "outputs": [
    {
     "name": "stdout",
     "output_type": "stream",
     "text": [
      "Total sum of squares= 812.4571737593313\n"
     ]
    }
   ],
   "source": [
    "print(\"Total sum of squares=\", SST )"
   ]
  },
  {
   "cell_type": "code",
   "execution_count": 213,
   "metadata": {},
   "outputs": [
    {
     "name": "stdout",
     "output_type": "stream",
     "text": [
      "Sum of squares due to regression = 55.71173645743418\n"
     ]
    }
   ],
   "source": [
    "print(\"Sum of squares due to regression =\", SSR)"
   ]
  },
  {
   "cell_type": "code",
   "execution_count": 214,
   "metadata": {},
   "outputs": [
    {
     "name": "stdout",
     "output_type": "stream",
     "text": [
      "Sum of square due to error= 758.8134927793246\n"
     ]
    }
   ],
   "source": [
    "print(\"Sum of square due to error=\", SSE)"
   ]
  },
  {
   "cell_type": "code",
   "execution_count": 215,
   "metadata": {},
   "outputs": [
    {
     "data": {
      "text/plain": [
       "30715"
      ]
     },
     "execution_count": 215,
     "metadata": {},
     "output_type": "execute_result"
    }
   ],
   "source": [
    "p=2\n",
    "n=len(y_test)\n",
    "len(x_train)+len(x_test)"
   ]
  },
  {
   "cell_type": "markdown",
   "metadata": {},
   "source": [
    "Significance Test"
   ]
  },
  {
   "cell_type": "markdown",
   "metadata": {},
   "source": [
    "F Test\n"
   ]
  },
  {
   "cell_type": "code",
   "execution_count": 216,
   "metadata": {},
   "outputs": [
    {
     "data": {
      "text/plain": [
       "array([ 0.29621098, -0.0403033 ,  0.4256787 ])"
      ]
     },
     "execution_count": 216,
     "metadata": {},
     "output_type": "execute_result"
    }
   ],
   "source": [
    "W"
   ]
  },
  {
   "cell_type": "code",
   "execution_count": 217,
   "metadata": {},
   "outputs": [
    {
     "data": {
      "text/plain": [
       "0.2962109816026024"
      ]
     },
     "execution_count": 217,
     "metadata": {},
     "output_type": "execute_result"
    }
   ],
   "source": [
    "w0=W[0]\n",
    "w0"
   ]
  },
  {
   "cell_type": "code",
   "execution_count": 218,
   "metadata": {},
   "outputs": [],
   "source": [
    "w1=W[1]\n",
    "w2=W[2]"
   ]
  },
  {
   "cell_type": "markdown",
   "metadata": {},
   "source": [
    "Regression line is y= b0 + b1 * x1 + b2 * x2"
   ]
  },
  {
   "cell_type": "markdown",
   "metadata": {},
   "source": [
    "b1 is coefficient of x1"
   ]
  },
  {
   "cell_type": "markdown",
   "metadata": {},
   "source": [
    "b2 is coefficient of x2"
   ]
  },
  {
   "cell_type": "markdown",
   "metadata": {},
   "source": [
    "H0 : b1=b2=0"
   ]
  },
  {
   "cell_type": "markdown",
   "metadata": {},
   "source": [
    "Ha : One or both parameters not equal to zero"
   ]
  },
  {
   "cell_type": "code",
   "execution_count": 219,
   "metadata": {},
   "outputs": [
    {
     "data": {
      "text/plain": [
       "27.85586822871709"
      ]
     },
     "execution_count": 219,
     "metadata": {},
     "output_type": "execute_result"
    }
   ],
   "source": [
    "MSR=SSR/2\n",
    "MSR"
   ]
  },
  {
   "cell_type": "code",
   "execution_count": 220,
   "metadata": {},
   "outputs": [
    {
     "data": {
      "text/plain": [
       "0.08237228536466833"
      ]
     },
     "execution_count": 220,
     "metadata": {},
     "output_type": "execute_result"
    }
   ],
   "source": [
    "MSE=SSE/(len(y_test)-3)\n",
    "MSE"
   ]
  },
  {
   "cell_type": "code",
   "execution_count": 221,
   "metadata": {},
   "outputs": [],
   "source": [
    "F=MSR/MSE\n",
    "#The F test is used to determine whether a significant relationship exists between the dependent variable and the set of all the independent variables; hence F test are referred to as  the test for overall significance"
   ]
  },
  {
   "cell_type": "code",
   "execution_count": 222,
   "metadata": {},
   "outputs": [
    {
     "data": {
      "text/plain": [
       "338.17039439171873"
      ]
     },
     "execution_count": 222,
     "metadata": {},
     "output_type": "execute_result"
    }
   ],
   "source": [
    "F"
   ]
  },
  {
   "cell_type": "code",
   "execution_count": 223,
   "metadata": {},
   "outputs": [
    {
     "data": {
      "text/plain": [
       "9212"
      ]
     },
     "execution_count": 223,
     "metadata": {},
     "output_type": "execute_result"
    }
   ],
   "source": [
    "len(y_test)-3"
   ]
  },
  {
   "cell_type": "markdown",
   "metadata": {},
   "source": [
    "F alpha with numerator dof=2 and denominator dof=n-3 at level of significance=0.05 is equal to 2.998"
   ]
  },
  {
   "cell_type": "code",
   "execution_count": 224,
   "metadata": {},
   "outputs": [],
   "source": [
    "Falpha=2.99670669"
   ]
  },
  {
   "cell_type": "code",
   "execution_count": 225,
   "metadata": {},
   "outputs": [
    {
     "data": {
      "text/plain": [
       "True"
      ]
     },
     "execution_count": 225,
     "metadata": {},
     "output_type": "execute_result"
    }
   ],
   "source": [
    "F>=Falpha\n",
    "#F distribution with p degrees of freedom in the numerator\n",
    "#and n − p − 1 degrees of freedom in the denominator"
   ]
  },
  {
   "cell_type": "markdown",
   "metadata": {},
   "source": [
    "So we reject H0. Now for b1 and b2 t tests are performed separately.\n"
   ]
  },
  {
   "cell_type": "markdown",
   "metadata": {},
   "source": [
    "T test for b1"
   ]
  },
  {
   "cell_type": "markdown",
   "metadata": {},
   "source": [
    "H0 : b1=0"
   ]
  },
  {
   "cell_type": "markdown",
   "metadata": {},
   "source": [
    "Ha : b1 is not equal to zero"
   ]
  },
  {
   "cell_type": "code",
   "execution_count": 226,
   "metadata": {},
   "outputs": [
    {
     "data": {
      "text/plain": [
       "380.06632619565886"
      ]
     },
     "execution_count": 226,
     "metadata": {},
     "output_type": "execute_result"
    }
   ],
   "source": [
    "sum=0\n",
    "m=x_test['Latitude'].mean()\n",
    "for i in range(0,len(x_test)):\n",
    "    sum=sum+((x_test['Latitude'][i]-m)**2)\n",
    "sum"
   ]
  },
  {
   "cell_type": "code",
   "execution_count": 227,
   "metadata": {},
   "outputs": [],
   "source": [
    "import math\n",
    "x=math.sqrt(sum)\n",
    "z=SSE/(len(y_test)-3)\n",
    "s=math.sqrt(z)\n",
    "sb1=s/x"
   ]
  },
  {
   "cell_type": "code",
   "execution_count": 228,
   "metadata": {},
   "outputs": [],
   "source": [
    "t=w1/sb1"
   ]
  },
  {
   "cell_type": "code",
   "execution_count": 229,
   "metadata": {},
   "outputs": [
    {
     "data": {
      "text/plain": [
       "-2.737661453786502"
      ]
     },
     "execution_count": 229,
     "metadata": {},
     "output_type": "execute_result"
    }
   ],
   "source": [
    "t"
   ]
  },
  {
   "cell_type": "code",
   "execution_count": 230,
   "metadata": {},
   "outputs": [
    {
     "data": {
      "text/plain": [
       "9212"
      ]
     },
     "execution_count": 230,
     "metadata": {},
     "output_type": "execute_result"
    }
   ],
   "source": [
    "len(y_test)-3"
   ]
  },
  {
   "cell_type": "markdown",
   "metadata": {},
   "source": [
    "So talpha=2.242 at dof=len(y_test)-3 and alpha=0.025"
   ]
  },
  {
   "cell_type": "code",
   "execution_count": 231,
   "metadata": {},
   "outputs": [
    {
     "data": {
      "text/plain": [
       "True"
      ]
     },
     "execution_count": 231,
     "metadata": {},
     "output_type": "execute_result"
    }
   ],
   "source": [
    "talpha=2.241769\n",
    "t<=-talpha\n",
    "#t distribution with n − p − 1 degrees of freedom.\n",
    "#The t test is used to determine whether each of the individual independent variables is significant. A separate t test is conducted for each of the independent variables in the model; hence t tests are called as the test for individual significance. "
   ]
  },
  {
   "cell_type": "markdown",
   "metadata": {},
   "source": [
    "Hence we reject null hypothesis"
   ]
  },
  {
   "cell_type": "markdown",
   "metadata": {},
   "source": [
    "T Test for b2"
   ]
  },
  {
   "cell_type": "markdown",
   "metadata": {},
   "source": [
    "H0 : b2=0"
   ]
  },
  {
   "cell_type": "markdown",
   "metadata": {},
   "source": [
    "Ha : b2 not equal to zero"
   ]
  },
  {
   "cell_type": "code",
   "execution_count": 232,
   "metadata": {},
   "outputs": [],
   "source": [
    "sum=0\n",
    "m=x_test['Longitude'].mean()\n",
    "for i in range(0,len(x_test)):\n",
    "    sum=sum+((x_test['Longitude'][i]-m)**2)\n",
    "x=math.sqrt(sum)\n",
    "z=SSE/(len(y_test)-3)\n",
    "s=math.sqrt(z)\n",
    "sb2=s/x"
   ]
  },
  {
   "cell_type": "code",
   "execution_count": 233,
   "metadata": {},
   "outputs": [],
   "source": [
    "t=w2/sb2"
   ]
  },
  {
   "cell_type": "code",
   "execution_count": 234,
   "metadata": {},
   "outputs": [
    {
     "data": {
      "text/plain": [
       "26.181276051419292"
      ]
     },
     "execution_count": 234,
     "metadata": {},
     "output_type": "execute_result"
    }
   ],
   "source": [
    "t\n",
    "#The t test is used to determine whether each of the individual independent variables is significant. A separate t test is conducted for each of the independent variables in the model; hence t tests are called as the test for individual significance. \n"
   ]
  },
  {
   "cell_type": "code",
   "execution_count": 235,
   "metadata": {},
   "outputs": [
    {
     "data": {
      "text/plain": [
       "True"
      ]
     },
     "execution_count": 235,
     "metadata": {},
     "output_type": "execute_result"
    }
   ],
   "source": [
    "t>=talpha"
   ]
  },
  {
   "cell_type": "markdown",
   "metadata": {},
   "source": [
    "Hence we reject null hypothesis"
   ]
  },
  {
   "cell_type": "markdown",
   "metadata": {},
   "source": [
    "# Hence we can conclude that Download data speed does depend on Latitude and Longitude significantly"
   ]
  },
  {
   "cell_type": "markdown",
   "metadata": {},
   "source": [
    "# Upload Data Speed Latitude Longitude"
   ]
  },
  {
   "cell_type": "markdown",
   "metadata": {},
   "source": [
    "Now doing the same for Data Speed Upload"
   ]
  },
  {
   "cell_type": "code",
   "execution_count": 236,
   "metadata": {},
   "outputs": [],
   "source": [
    "n=x_train.count()[0]\n",
    "y=data['Average Data Speed Upload']\n",
    "X=data[['Latitude','Longitude']]"
   ]
  },
  {
   "cell_type": "code",
   "execution_count": 237,
   "metadata": {},
   "outputs": [],
   "source": [
    "from sklearn.model_selection import train_test_split \n",
    "x_train, x_test, y_train, y_test = train_test_split(X, y, test_size=0.3, random_state=1) \n",
    "x_train.reset_index(inplace = True, drop = True) \n",
    "x_test.reset_index(inplace = True, drop = True) \n",
    "y_train.reset_index(inplace = True, drop = True) \n",
    "y_test.reset_index(inplace = True, drop = True) "
   ]
  },
  {
   "cell_type": "code",
   "execution_count": 238,
   "metadata": {},
   "outputs": [],
   "source": [
    "sum_x1=0\n",
    "sum_x2=0\n",
    "sum_y1=0\n",
    "sum_x1x1=0\n",
    "sum_x1x2=0\n",
    "sum_x2x2=0\n",
    "sum_x1y1=0\n",
    "sum_x2y1=0\n",
    "for i in range(0,n):\n",
    "    sum_x1=sum_x1+x_train['Latitude'][i]\n",
    "    sum_x2=sum_x2+x_train['Longitude'][i]\n",
    "    sum_y1=sum_y1+y_train[i]\n",
    "    sum_x1x1=sum_x1x1+x_train['Latitude'][i]*x_train['Latitude'][i]\n",
    "    sum_x1x2=sum_x1x2+x_train['Latitude'][i]*x_train['Longitude'][i]\n",
    "    sum_x2x2=sum_x2x2+x_train['Longitude'][i]*x_train['Longitude'][i]\n",
    "    sum_x1y1=sum_x1y1+x_train['Latitude'][i]*y_train[i]\n",
    "    sum_x2y1=sum_x2y1+x_train['Longitude'][i]*y_train[i]\n",
    "A = np.array([[n, sum_x1, sum_x2], [sum_x1, sum_x1x1, sum_x1x2],[sum_x2,sum_x1x2,sum_x2x2]])\n",
    "B=np.array([sum_y1, sum_x1y1, sum_x2y1])\n",
    "Inverse=inv(A)\n",
    "w0=Inverse[0][0]*B[0]+Inverse[0][1]*B[1]+Inverse[0][2]*B[2]\n",
    "w1=Inverse[1][0]*B[0]+Inverse[1][1]*B[1]+Inverse[1][2]*B[2]\n",
    "w2=Inverse[2][0]*B[0]+Inverse[2][1]*B[1]+Inverse[2][2]*B[2]\n",
    "W=np.array([w0,w1,w2])\n",
    "#All the sums are used to calculate A and then X is calculated using AX=B so X=Inverse(A)*B \n",
    "#X will give all the parameters(w0,w1,w2)"
   ]
  },
  {
   "cell_type": "code",
   "execution_count": 239,
   "metadata": {},
   "outputs": [
    {
     "data": {
      "text/plain": [
       "array([ 0.26739609, -0.05137202,  0.21562823])"
      ]
     },
     "execution_count": 239,
     "metadata": {},
     "output_type": "execute_result"
    }
   ],
   "source": [
    "W\n"
   ]
  },
  {
   "cell_type": "code",
   "execution_count": 240,
   "metadata": {},
   "outputs": [
    {
     "data": {
      "text/plain": [
       "0.16377595747275991"
      ]
     },
     "execution_count": 240,
     "metadata": {},
     "output_type": "execute_result"
    }
   ],
   "source": [
    "y_pred=w0+w1*x_test['Latitude']+w2*x_test['Longitude']\n",
    "#y_pred gives the predicted values of y based on the regression model\n",
    "MSE=0\n",
    "for i in range(0,len(y_test)):\n",
    "    MSE=MSE+(y_pred[i]-y_test[i])**2\n",
    "RMSE=np.sqrt(MSE/len(y_test))\n",
    "RMSE\n",
    "#RMSE is used to find the goodness of the model and is calacuated as root of sum of square of difference of actual and prediacted values."
   ]
  },
  {
   "cell_type": "code",
   "execution_count": 241,
   "metadata": {},
   "outputs": [
    {
     "name": "stdout",
     "output_type": "stream",
     "text": [
      "Total sum of squares= 261.24187992204867\n",
      "Sum of squares due to regression = 14.580896230678366\n",
      "Sum of square due to error= 247.16992952798898\n"
     ]
    }
   ],
   "source": [
    "ybar=y_test.mean()\n",
    "SSR=0\n",
    "SST=0\n",
    "SSE=0\n",
    "for i in range (0,len(y_test)):\n",
    "    SST=SST+(y_test[i]-ybar)*(y_test[i]-ybar)\n",
    "    SSR=SSR+(y_pred[i]-ybar)*(y_pred[i]-ybar)\n",
    "    SSE=SSE+(y_test[i]-y_pred[i])*(y_test[i]-y_pred[i])\n",
    "print(\"Total sum of squares=\", SST )\n",
    "print(\"Sum of squares due to regression =\", SSR)\n",
    "print(\"Sum of square due to error=\", SSE)"
   ]
  },
  {
   "cell_type": "code",
   "execution_count": 242,
   "metadata": {},
   "outputs": [
    {
     "data": {
      "text/plain": [
       "0.2673960910338645"
      ]
     },
     "execution_count": 242,
     "metadata": {},
     "output_type": "execute_result"
    }
   ],
   "source": [
    "w0"
   ]
  },
  {
   "cell_type": "code",
   "execution_count": 243,
   "metadata": {},
   "outputs": [
    {
     "data": {
      "text/plain": [
       "-0.051372018209086934"
      ]
     },
     "execution_count": 243,
     "metadata": {},
     "output_type": "execute_result"
    }
   ],
   "source": [
    "w1"
   ]
  },
  {
   "cell_type": "code",
   "execution_count": 244,
   "metadata": {},
   "outputs": [
    {
     "data": {
      "text/plain": [
       "0.21562823205907344"
      ]
     },
     "execution_count": 244,
     "metadata": {},
     "output_type": "execute_result"
    }
   ],
   "source": [
    "w2"
   ]
  },
  {
   "cell_type": "markdown",
   "metadata": {},
   "source": [
    "So linear regression line is y=b0 + b1 * x1 + b2 * x2"
   ]
  },
  {
   "cell_type": "markdown",
   "metadata": {},
   "source": [
    "b1 is coefficient of x1\n"
   ]
  },
  {
   "cell_type": "markdown",
   "metadata": {},
   "source": [
    "b2 is coefficient of x2"
   ]
  },
  {
   "cell_type": "markdown",
   "metadata": {},
   "source": [
    "H0 : b1=b2=0\n"
   ]
  },
  {
   "cell_type": "markdown",
   "metadata": {},
   "source": [
    "Ha : One or both parameters not equal to zero"
   ]
  },
  {
   "cell_type": "code",
   "execution_count": 245,
   "metadata": {},
   "outputs": [
    {
     "data": {
      "text/plain": [
       "271.714314790463"
      ]
     },
     "execution_count": 245,
     "metadata": {},
     "output_type": "execute_result"
    }
   ],
   "source": [
    "MSR=SSR/2\n",
    "MSE=SSE/(len(y_test)-3)\n",
    "F=MSR/MSE\n",
    "Falpha=2.99670669\n",
    "F"
   ]
  },
  {
   "cell_type": "code",
   "execution_count": 246,
   "metadata": {},
   "outputs": [
    {
     "data": {
      "text/plain": [
       "True"
      ]
     },
     "execution_count": 246,
     "metadata": {},
     "output_type": "execute_result"
    }
   ],
   "source": [
    "F>=Falpha"
   ]
  },
  {
   "cell_type": "markdown",
   "metadata": {},
   "source": [
    "Hence we reject H0. As both parameters are not equal to zero so we will find out individually about each parameter through t test."
   ]
  },
  {
   "cell_type": "markdown",
   "metadata": {},
   "source": [
    "T test for b1"
   ]
  },
  {
   "cell_type": "markdown",
   "metadata": {},
   "source": [
    "H0 : b1=0"
   ]
  },
  {
   "cell_type": "markdown",
   "metadata": {},
   "source": [
    "Ha : b1 is not equal to zero"
   ]
  },
  {
   "cell_type": "code",
   "execution_count": 247,
   "metadata": {},
   "outputs": [
    {
     "data": {
      "text/plain": [
       "380.06632619565886"
      ]
     },
     "execution_count": 247,
     "metadata": {},
     "output_type": "execute_result"
    }
   ],
   "source": [
    "sum=0\n",
    "m=x_test['Latitude'].mean()\n",
    "for i in range(0,len(x_test)):\n",
    "    sum=sum+((x_test['Latitude'][i]-m)**2)\n",
    "sum"
   ]
  },
  {
   "cell_type": "code",
   "execution_count": 248,
   "metadata": {},
   "outputs": [],
   "source": [
    "x=math.sqrt(sum)\n",
    "z=SSE/(len(y_test)-3)\n",
    "s=math.sqrt(z)\n",
    "sb1=s/x"
   ]
  },
  {
   "cell_type": "code",
   "execution_count": 249,
   "metadata": {},
   "outputs": [
    {
     "data": {
      "text/plain": [
       "0.008402164030904512"
      ]
     },
     "execution_count": 249,
     "metadata": {},
     "output_type": "execute_result"
    }
   ],
   "source": [
    "sb1"
   ]
  },
  {
   "cell_type": "code",
   "execution_count": 250,
   "metadata": {},
   "outputs": [],
   "source": [
    "t= w1/sb1"
   ]
  },
  {
   "cell_type": "code",
   "execution_count": 251,
   "metadata": {},
   "outputs": [
    {
     "data": {
      "text/plain": [
       "-6.114141311706411"
      ]
     },
     "execution_count": 251,
     "metadata": {},
     "output_type": "execute_result"
    }
   ],
   "source": [
    "t"
   ]
  },
  {
   "cell_type": "markdown",
   "metadata": {},
   "source": [
    "talpha at dof = n-2 at 0.05/2=0.25 level of significance is 2.24"
   ]
  },
  {
   "cell_type": "code",
   "execution_count": 252,
   "metadata": {},
   "outputs": [],
   "source": [
    "talpha=2.241769"
   ]
  },
  {
   "cell_type": "code",
   "execution_count": 253,
   "metadata": {},
   "outputs": [
    {
     "data": {
      "text/plain": [
       "True"
      ]
     },
     "execution_count": 253,
     "metadata": {},
     "output_type": "execute_result"
    }
   ],
   "source": [
    "t<=-talpha"
   ]
  },
  {
   "cell_type": "markdown",
   "metadata": {},
   "source": [
    "Hence we reject the null hypothesis."
   ]
  },
  {
   "cell_type": "markdown",
   "metadata": {},
   "source": [
    "T test for b2"
   ]
  },
  {
   "cell_type": "markdown",
   "metadata": {},
   "source": [
    "H0 : b2=0"
   ]
  },
  {
   "cell_type": "markdown",
   "metadata": {},
   "source": [
    "Ha : b2 is not equal to zero"
   ]
  },
  {
   "cell_type": "code",
   "execution_count": 254,
   "metadata": {},
   "outputs": [],
   "source": [
    "sum=0\n",
    "m=x_test['Longitude'].mean()\n",
    "for i in range(0,len(x_test)):\n",
    "    sum=sum+((x_test['Longitude'][i]-m)**2)\n",
    "x=math.sqrt(sum)\n",
    "z=SSE/(len(y_test)-3)\n",
    "s=math.sqrt(z)\n",
    "sb2=s/x"
   ]
  },
  {
   "cell_type": "code",
   "execution_count": 255,
   "metadata": {},
   "outputs": [
    {
     "data": {
      "text/plain": [
       "0.009279432333714756"
      ]
     },
     "execution_count": 255,
     "metadata": {},
     "output_type": "execute_result"
    }
   ],
   "source": [
    "sb2"
   ]
  },
  {
   "cell_type": "code",
   "execution_count": 256,
   "metadata": {},
   "outputs": [],
   "source": [
    "t= w2/s"
   ]
  },
  {
   "cell_type": "code",
   "execution_count": 257,
   "metadata": {},
   "outputs": [
    {
     "data": {
      "text/plain": [
       "1.3163905922412844"
      ]
     },
     "execution_count": 257,
     "metadata": {},
     "output_type": "execute_result"
    }
   ],
   "source": [
    "t"
   ]
  },
  {
   "cell_type": "code",
   "execution_count": 258,
   "metadata": {},
   "outputs": [
    {
     "data": {
      "text/plain": [
       "False"
      ]
     },
     "execution_count": 258,
     "metadata": {},
     "output_type": "execute_result"
    }
   ],
   "source": [
    "t>=talpha"
   ]
  },
  {
   "cell_type": "markdown",
   "metadata": {},
   "source": [
    "Hence we accept the null hypothesis."
   ]
  },
  {
   "cell_type": "markdown",
   "metadata": {},
   "source": [
    "# Hence we can conclude that Data Speed Upload does depend on Latitude but not on Longitude significantly."
   ]
  },
  {
   "cell_type": "markdown",
   "metadata": {},
   "source": [
    "# Signal Strength Latitude Longitude"
   ]
  },
  {
   "cell_type": "code",
   "execution_count": 259,
   "metadata": {},
   "outputs": [
    {
     "data": {
      "text/plain": [
       "array([4.77600305e-01, 4.07924288e-04, 5.90384020e-04])"
      ]
     },
     "execution_count": 259,
     "metadata": {},
     "output_type": "execute_result"
    }
   ],
   "source": [
    "n=x_train.count()[0]\n",
    "y=data['Average_Signal']\n",
    "X=data[['Latitude','Longitude']]\n",
    "from sklearn.model_selection import train_test_split \n",
    "x_train, x_test, y_train, y_test = train_test_split(X, y, test_size=0.3, random_state=1) \n",
    "x_train.reset_index(inplace = True, drop = True) \n",
    "x_test.reset_index(inplace = True, drop = True) \n",
    "y_train.reset_index(inplace = True, drop = True) \n",
    "y_test.reset_index(inplace = True, drop = True) \n",
    "sum_x1=0\n",
    "sum_x2=0\n",
    "sum_y1=0\n",
    "sum_x1x1=0\n",
    "sum_x1x2=0\n",
    "sum_x2x2=0\n",
    "sum_x1y1=0\n",
    "sum_x2y1=0\n",
    "for i in range(0,n):\n",
    "    sum_x1=sum_x1+x_train['Latitude'][i]\n",
    "    sum_x2=sum_x2+x_train['Longitude'][i]\n",
    "    sum_y1=sum_y1+y_train[i]\n",
    "    sum_x1x1=sum_x1x1+x_train['Latitude'][i]*x_train['Latitude'][i]\n",
    "    sum_x1x2=sum_x1x2+x_train['Latitude'][i]*x_train['Longitude'][i]\n",
    "    sum_x2x2=sum_x2x2+x_train['Longitude'][i]*x_train['Longitude'][i]\n",
    "    sum_x1y1=sum_x1y1+x_train['Latitude'][i]*y_train[i]\n",
    "    sum_x2y1=sum_x2y1+x_train['Longitude'][i]*y_train[i]\n",
    "A = np.array([[n, sum_x1, sum_x2], [sum_x1, sum_x1x1, sum_x1x2],[sum_x2,sum_x1x2,sum_x2x2]])\n",
    "B=np.array([sum_y1, sum_x1y1, sum_x2y1])\n",
    "Inverse=inv(A)\n",
    "w0=Inverse[0][0]*B[0]+Inverse[0][1]*B[1]+Inverse[0][2]*B[2]\n",
    "w1=Inverse[1][0]*B[0]+Inverse[1][1]*B[1]+Inverse[1][2]*B[2]\n",
    "w2=Inverse[2][0]*B[0]+Inverse[2][1]*B[1]+Inverse[2][2]*B[2]\n",
    "W=np.array([w0,w1,w2])\n",
    "W"
   ]
  },
  {
   "cell_type": "code",
   "execution_count": 260,
   "metadata": {},
   "outputs": [
    {
     "data": {
      "text/plain": [
       "0.001040985302475305"
      ]
     },
     "execution_count": 260,
     "metadata": {},
     "output_type": "execute_result"
    }
   ],
   "source": [
    "y_pred=w0+w1*x_test['Latitude']+w2*x_test['Longitude']\n",
    "#y_pred gives the predicted values of y based on the regression model\n",
    "MSE=0\n",
    "for i in range(0,len(y_test)):\n",
    "    MSE=MSE+(y_pred[i]-y_test[i])**2\n",
    "RMSE=np.sqrt(MSE/len(y_test))\n",
    "RMSE\n",
    "#RMSE is used to find the goodness of the model and is calacuated as root of sum of square of difference of actual and prediacted values."
   ]
  },
  {
   "cell_type": "code",
   "execution_count": 261,
   "metadata": {},
   "outputs": [
    {
     "name": "stdout",
     "output_type": "stream",
     "text": [
      "Total sum of squares= 0.010176870650564574\n",
      "Sum of squares due to regression = 0.00019304058571094498\n",
      "Sum of square due to error= 0.00998583843571988\n"
     ]
    }
   ],
   "source": [
    "ybar=y_test.mean()\n",
    "SSR=0\n",
    "SST=0\n",
    "SSE=0\n",
    "for i in range (0,len(y_test)):\n",
    "    SST=SST+(y_test[i]-ybar)*(y_test[i]-ybar)\n",
    "    SSR=SSR+(y_pred[i]-ybar)*(y_pred[i]-ybar)\n",
    "    SSE=SSE+(y_test[i]-y_pred[i])*(y_test[i]-y_pred[i])\n",
    "print(\"Total sum of squares=\", SST )\n",
    "print(\"Sum of squares due to regression =\", SSR)\n",
    "print(\"Sum of square due to error=\", SSE)\n"
   ]
  },
  {
   "cell_type": "markdown",
   "metadata": {},
   "source": [
    "So linear regression line is y=b0 + b1 * x1 + b2 * x2"
   ]
  },
  {
   "cell_type": "markdown",
   "metadata": {},
   "source": [
    "F test"
   ]
  },
  {
   "cell_type": "markdown",
   "metadata": {},
   "source": [
    "H0 : b1=b2=0\n"
   ]
  },
  {
   "cell_type": "markdown",
   "metadata": {},
   "source": [
    "Ha : One or both parameters not equal to zero"
   ]
  },
  {
   "cell_type": "code",
   "execution_count": 262,
   "metadata": {},
   "outputs": [],
   "source": [
    "MSR=SSR/2\n",
    "MSE=SSE/(len(y_test)-3)\n",
    "F=MSR/MSE\n",
    "Falpha=2.99670669"
   ]
  },
  {
   "cell_type": "code",
   "execution_count": 263,
   "metadata": {},
   "outputs": [
    {
     "data": {
      "text/plain": [
       "89.04058918118415"
      ]
     },
     "execution_count": 263,
     "metadata": {},
     "output_type": "execute_result"
    }
   ],
   "source": [
    "F"
   ]
  },
  {
   "cell_type": "code",
   "execution_count": 264,
   "metadata": {},
   "outputs": [
    {
     "data": {
      "text/plain": [
       "True"
      ]
     },
     "execution_count": 264,
     "metadata": {},
     "output_type": "execute_result"
    }
   ],
   "source": [
    "F>=Falpha"
   ]
  },
  {
   "cell_type": "markdown",
   "metadata": {},
   "source": [
    "Hence we reject H0. As both parameters are not equal to zero so we will find out individually about each parameter through t test."
   ]
  },
  {
   "cell_type": "markdown",
   "metadata": {},
   "source": [
    "T test for b1"
   ]
  },
  {
   "cell_type": "markdown",
   "metadata": {},
   "source": [
    "H0 : b1=0\n"
   ]
  },
  {
   "cell_type": "markdown",
   "metadata": {},
   "source": [
    "Ha : b1 is not equal to zero\n"
   ]
  },
  {
   "cell_type": "code",
   "execution_count": 265,
   "metadata": {},
   "outputs": [
    {
     "data": {
      "text/plain": [
       "380.06632619565886"
      ]
     },
     "execution_count": 265,
     "metadata": {},
     "output_type": "execute_result"
    }
   ],
   "source": [
    "sum=0\n",
    "m=x_test['Latitude'].mean()\n",
    "for i in range(0,len(x_test)):\n",
    "    sum=sum+((x_test['Latitude'][i]-m)**2)\n",
    "sum"
   ]
  },
  {
   "cell_type": "code",
   "execution_count": 266,
   "metadata": {},
   "outputs": [],
   "source": [
    "x=math.sqrt(sum)\n",
    "z=SSE/(len(y_test)-3)\n",
    "s=math.sqrt(z)\n",
    "sb1=s/x"
   ]
  },
  {
   "cell_type": "code",
   "execution_count": 267,
   "metadata": {},
   "outputs": [
    {
     "data": {
      "text/plain": [
       "5.340545340187084e-05"
      ]
     },
     "execution_count": 267,
     "metadata": {},
     "output_type": "execute_result"
    }
   ],
   "source": [
    "sb1"
   ]
  },
  {
   "cell_type": "code",
   "execution_count": 268,
   "metadata": {},
   "outputs": [],
   "source": [
    "t=w1/sb1"
   ]
  },
  {
   "cell_type": "code",
   "execution_count": 269,
   "metadata": {},
   "outputs": [
    {
     "data": {
      "text/plain": [
       "7.63825156157423"
      ]
     },
     "execution_count": 269,
     "metadata": {},
     "output_type": "execute_result"
    }
   ],
   "source": [
    "t"
   ]
  },
  {
   "cell_type": "code",
   "execution_count": 270,
   "metadata": {},
   "outputs": [
    {
     "data": {
      "text/plain": [
       "0.0004079242878434197"
      ]
     },
     "execution_count": 270,
     "metadata": {},
     "output_type": "execute_result"
    }
   ],
   "source": [
    "w1"
   ]
  },
  {
   "cell_type": "code",
   "execution_count": 271,
   "metadata": {},
   "outputs": [
    {
     "data": {
      "text/plain": [
       "True"
      ]
     },
     "execution_count": 271,
     "metadata": {},
     "output_type": "execute_result"
    }
   ],
   "source": [
    "t>=talpha"
   ]
  },
  {
   "cell_type": "markdown",
   "metadata": {},
   "source": [
    "Hence we reject null hypothesis"
   ]
  },
  {
   "cell_type": "markdown",
   "metadata": {},
   "source": [
    "T test for b2"
   ]
  },
  {
   "cell_type": "markdown",
   "metadata": {},
   "source": [
    "H0 : b2=0"
   ]
  },
  {
   "cell_type": "markdown",
   "metadata": {},
   "source": [
    "Ha : b2 is not equal to zero"
   ]
  },
  {
   "cell_type": "code",
   "execution_count": 272,
   "metadata": {},
   "outputs": [],
   "source": [
    "sum=0\n",
    "m=x_test['Longitude'].mean()\n",
    "for i in range(0,len(x_test)):\n",
    "    sum=sum+((x_test['Longitude'][i]-m)**2)\n",
    "x=math.sqrt(sum)\n",
    "z=SSE/(len(y_test)-3)\n",
    "s=math.sqrt(z)\n",
    "sb2=s/x\n",
    "t=w2/sb2"
   ]
  },
  {
   "cell_type": "code",
   "execution_count": 273,
   "metadata": {},
   "outputs": [
    {
     "data": {
      "text/plain": [
       "10.009646350887325"
      ]
     },
     "execution_count": 273,
     "metadata": {},
     "output_type": "execute_result"
    }
   ],
   "source": [
    "t"
   ]
  },
  {
   "cell_type": "code",
   "execution_count": 274,
   "metadata": {},
   "outputs": [
    {
     "data": {
      "text/plain": [
       "True"
      ]
     },
     "execution_count": 274,
     "metadata": {},
     "output_type": "execute_result"
    }
   ],
   "source": [
    "t>=talpha"
   ]
  },
  {
   "cell_type": "markdown",
   "metadata": {},
   "source": [
    "Hence we reject null hypothesis"
   ]
  },
  {
   "cell_type": "markdown",
   "metadata": {},
   "source": [
    "# Hence we can conclude that Signal Strength does depend on Latitude and Longitude significantly."
   ]
  },
  {
   "cell_type": "code",
   "execution_count": 172,
   "metadata": {},
   "outputs": [],
   "source": [
    "#For download data speed there exists a significant relationship with latitude and longitude.\n",
    "#For upload data speed there exists a significant relationship with latitude only.\n",
    "#For signal strength also there exists a significant relationship with latitude and longitude.\n"
   ]
  }
 ],
 "metadata": {
  "kernelspec": {
   "display_name": "Python 3",
   "language": "python",
   "name": "python3"
  },
  "language_info": {
   "codemirror_mode": {
    "name": "ipython",
    "version": 3
   },
   "file_extension": ".py",
   "mimetype": "text/x-python",
   "name": "python",
   "nbconvert_exporter": "python",
   "pygments_lexer": "ipython3",
   "version": "3.7.3"
  }
 },
 "nbformat": 4,
 "nbformat_minor": 2
}
