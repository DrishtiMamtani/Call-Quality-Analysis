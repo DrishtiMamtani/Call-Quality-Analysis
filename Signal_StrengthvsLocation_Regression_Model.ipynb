{
 "cells": [
  {
   "cell_type": "code",
   "execution_count": 1,
   "metadata": {},
   "outputs": [],
   "source": [
    "import pandas as pd \n",
    "import numpy as np\n",
    "from sklearn import preprocessing\n",
    "data=pd.read_csv(\"final_data.csv\")\n",
    "#final_data is the final pre processed data"
   ]
  },
  {
   "cell_type": "code",
   "execution_count": 2,
   "metadata": {},
   "outputs": [
    {
     "data": {
      "text/html": [
       "<div>\n",
       "<style scoped>\n",
       "    .dataframe tbody tr th:only-of-type {\n",
       "        vertical-align: middle;\n",
       "    }\n",
       "\n",
       "    .dataframe tbody tr th {\n",
       "        vertical-align: top;\n",
       "    }\n",
       "\n",
       "    .dataframe thead th {\n",
       "        text-align: right;\n",
       "    }\n",
       "</style>\n",
       "<table border=\"1\" class=\"dataframe\">\n",
       "  <thead>\n",
       "    <tr style=\"text-align: right;\">\n",
       "      <th></th>\n",
       "      <th>Operator</th>\n",
       "      <th>In Out Travelling</th>\n",
       "      <th>Network Type</th>\n",
       "      <th>Rating</th>\n",
       "      <th>Call Drop Category</th>\n",
       "      <th>Latitude</th>\n",
       "      <th>Longitude</th>\n",
       "      <th>State Name</th>\n",
       "      <th>Average Data Speed Download</th>\n",
       "      <th>Average Data Speed Upload</th>\n",
       "      <th>Population</th>\n",
       "      <th>Literacy Rate</th>\n",
       "      <th>Rainfall</th>\n",
       "      <th>Area of the state</th>\n",
       "      <th>Average_Signal</th>\n",
       "    </tr>\n",
       "  </thead>\n",
       "  <tbody>\n",
       "    <tr>\n",
       "      <th>0</th>\n",
       "      <td>Airtel</td>\n",
       "      <td>Indoor</td>\n",
       "      <td>4G</td>\n",
       "      <td>3</td>\n",
       "      <td>Satisfactory</td>\n",
       "      <td>0.196228</td>\n",
       "      <td>0.325356</td>\n",
       "      <td>Karnataka</td>\n",
       "      <td>0.271480</td>\n",
       "      <td>0.197512</td>\n",
       "      <td>2</td>\n",
       "      <td>7</td>\n",
       "      <td>3</td>\n",
       "      <td>0.504087</td>\n",
       "      <td>0.476721</td>\n",
       "    </tr>\n",
       "    <tr>\n",
       "      <th>1</th>\n",
       "      <td>Vodafone</td>\n",
       "      <td>Indoor</td>\n",
       "      <td>4G</td>\n",
       "      <td>1</td>\n",
       "      <td>Call Dropped</td>\n",
       "      <td>0.632907</td>\n",
       "      <td>0.135432</td>\n",
       "      <td>Gujarat</td>\n",
       "      <td>0.211519</td>\n",
       "      <td>0.370879</td>\n",
       "      <td>2</td>\n",
       "      <td>8</td>\n",
       "      <td>2</td>\n",
       "      <td>0.518040</td>\n",
       "      <td>0.477252</td>\n",
       "    </tr>\n",
       "    <tr>\n",
       "      <th>2</th>\n",
       "      <td>Airtel</td>\n",
       "      <td>Indoor</td>\n",
       "      <td>3G</td>\n",
       "      <td>1</td>\n",
       "      <td>Call Dropped</td>\n",
       "      <td>0.127093</td>\n",
       "      <td>0.290671</td>\n",
       "      <td>Tamil Nadu</td>\n",
       "      <td>0.036321</td>\n",
       "      <td>0.062303</td>\n",
       "      <td>2</td>\n",
       "      <td>8</td>\n",
       "      <td>2</td>\n",
       "      <td>0.300607</td>\n",
       "      <td>0.478454</td>\n",
       "    </tr>\n",
       "    <tr>\n",
       "      <th>3</th>\n",
       "      <td>Airtel</td>\n",
       "      <td>Indoor</td>\n",
       "      <td>4G</td>\n",
       "      <td>3</td>\n",
       "      <td>Satisfactory</td>\n",
       "      <td>0.580181</td>\n",
       "      <td>0.155327</td>\n",
       "      <td>Gujarat</td>\n",
       "      <td>0.175517</td>\n",
       "      <td>0.191200</td>\n",
       "      <td>2</td>\n",
       "      <td>8</td>\n",
       "      <td>2</td>\n",
       "      <td>0.518040</td>\n",
       "      <td>0.477699</td>\n",
       "    </tr>\n",
       "    <tr>\n",
       "      <th>4</th>\n",
       "      <td>Airtel</td>\n",
       "      <td>Travelling</td>\n",
       "      <td>4G</td>\n",
       "      <td>3</td>\n",
       "      <td>Satisfactory</td>\n",
       "      <td>0.425737</td>\n",
       "      <td>0.180503</td>\n",
       "      <td>Maharashtra</td>\n",
       "      <td>0.333021</td>\n",
       "      <td>0.395612</td>\n",
       "      <td>4</td>\n",
       "      <td>8</td>\n",
       "      <td>4</td>\n",
       "      <td>0.886194</td>\n",
       "      <td>0.476859</td>\n",
       "    </tr>\n",
       "  </tbody>\n",
       "</table>\n",
       "</div>"
      ],
      "text/plain": [
       "   Operator In Out Travelling Network Type  Rating Call Drop Category  \\\n",
       "0    Airtel            Indoor           4G       3       Satisfactory   \n",
       "1  Vodafone            Indoor           4G       1       Call Dropped   \n",
       "2    Airtel            Indoor           3G       1       Call Dropped   \n",
       "3    Airtel            Indoor           4G       3       Satisfactory   \n",
       "4    Airtel        Travelling           4G       3       Satisfactory   \n",
       "\n",
       "   Latitude  Longitude   State Name  Average Data Speed Download  \\\n",
       "0  0.196228   0.325356    Karnataka                     0.271480   \n",
       "1  0.632907   0.135432      Gujarat                     0.211519   \n",
       "2  0.127093   0.290671   Tamil Nadu                     0.036321   \n",
       "3  0.580181   0.155327      Gujarat                     0.175517   \n",
       "4  0.425737   0.180503  Maharashtra                     0.333021   \n",
       "\n",
       "   Average Data Speed Upload  Population  Literacy Rate  Rainfall  \\\n",
       "0                   0.197512           2              7         3   \n",
       "1                   0.370879           2              8         2   \n",
       "2                   0.062303           2              8         2   \n",
       "3                   0.191200           2              8         2   \n",
       "4                   0.395612           4              8         4   \n",
       "\n",
       "   Area of the state  Average_Signal  \n",
       "0           0.504087        0.476721  \n",
       "1           0.518040        0.477252  \n",
       "2           0.300607        0.478454  \n",
       "3           0.518040        0.477699  \n",
       "4           0.886194        0.476859  "
      ]
     },
     "execution_count": 2,
     "metadata": {},
     "output_type": "execute_result"
    }
   ],
   "source": [
    "data.head(5)"
   ]
  },
  {
   "cell_type": "code",
   "execution_count": 81,
   "metadata": {},
   "outputs": [
    {
     "data": {
      "text/plain": [
       "30715"
      ]
     },
     "execution_count": 81,
     "metadata": {},
     "output_type": "execute_result"
    }
   ],
   "source": [
    "data.count()[0]\n",
    "#This gives the number of obkects in dataset"
   ]
  },
  {
   "cell_type": "code",
   "execution_count": 82,
   "metadata": {},
   "outputs": [],
   "source": [
    "from sklearn import preprocessing\n",
    "from numpy.linalg import inv"
   ]
  },
  {
   "cell_type": "code",
   "execution_count": 83,
   "metadata": {},
   "outputs": [],
   "source": [
    "X=data[['Latitude','Longitude']]\n",
    "#Latitude and Longitude are the independent variables"
   ]
  },
  {
   "cell_type": "code",
   "execution_count": 84,
   "metadata": {},
   "outputs": [
    {
     "data": {
      "text/plain": [
       "Latitude     30715\n",
       "Longitude    30715\n",
       "dtype: int64"
      ]
     },
     "execution_count": 84,
     "metadata": {},
     "output_type": "execute_result"
    }
   ],
   "source": [
    "X.count()"
   ]
  },
  {
   "cell_type": "code",
   "execution_count": 85,
   "metadata": {},
   "outputs": [],
   "source": [
    "y=data['Average_Signal']\n",
    "#Signal Strength is the dependent variable"
   ]
  },
  {
   "cell_type": "code",
   "execution_count": 86,
   "metadata": {},
   "outputs": [],
   "source": [
    "from sklearn.model_selection import train_test_split \n",
    "x_train, x_test, y_train, y_test = train_test_split(X, y, test_size=0.3, random_state=1) \n",
    "x_train.reset_index(inplace = True, drop = True) \n",
    "x_test.reset_index(inplace = True, drop = True) \n",
    "y_train.reset_index(inplace = True, drop = True) \n",
    "y_test.reset_index(inplace = True, drop = True) \n",
    "#We have used holdout method and 70%of data is taken as training data and rest as testing "
   ]
  },
  {
   "cell_type": "code",
   "execution_count": 87,
   "metadata": {},
   "outputs": [
    {
     "data": {
      "text/html": [
       "<div>\n",
       "<style scoped>\n",
       "    .dataframe tbody tr th:only-of-type {\n",
       "        vertical-align: middle;\n",
       "    }\n",
       "\n",
       "    .dataframe tbody tr th {\n",
       "        vertical-align: top;\n",
       "    }\n",
       "\n",
       "    .dataframe thead th {\n",
       "        text-align: right;\n",
       "    }\n",
       "</style>\n",
       "<table border=\"1\" class=\"dataframe\">\n",
       "  <thead>\n",
       "    <tr style=\"text-align: right;\">\n",
       "      <th></th>\n",
       "      <th>Latitude</th>\n",
       "      <th>Longitude</th>\n",
       "    </tr>\n",
       "  </thead>\n",
       "  <tbody>\n",
       "    <tr>\n",
       "      <th>0</th>\n",
       "      <td>0.498700</td>\n",
       "      <td>0.631606</td>\n",
       "    </tr>\n",
       "    <tr>\n",
       "      <th>1</th>\n",
       "      <td>0.451912</td>\n",
       "      <td>0.143607</td>\n",
       "    </tr>\n",
       "    <tr>\n",
       "      <th>2</th>\n",
       "      <td>0.871258</td>\n",
       "      <td>0.274259</td>\n",
       "    </tr>\n",
       "    <tr>\n",
       "      <th>3</th>\n",
       "      <td>0.594659</td>\n",
       "      <td>0.729902</td>\n",
       "    </tr>\n",
       "    <tr>\n",
       "      <th>4</th>\n",
       "      <td>0.193572</td>\n",
       "      <td>0.417718</td>\n",
       "    </tr>\n",
       "  </tbody>\n",
       "</table>\n",
       "</div>"
      ],
      "text/plain": [
       "   Latitude  Longitude\n",
       "0  0.498700   0.631606\n",
       "1  0.451912   0.143607\n",
       "2  0.871258   0.274259\n",
       "3  0.594659   0.729902\n",
       "4  0.193572   0.417718"
      ]
     },
     "execution_count": 87,
     "metadata": {},
     "output_type": "execute_result"
    }
   ],
   "source": [
    "x_train.head()"
   ]
  },
  {
   "cell_type": "code",
   "execution_count": 88,
   "metadata": {},
   "outputs": [],
   "source": [
    "n=x_train.count()[0]"
   ]
  },
  {
   "cell_type": "code",
   "execution_count": 89,
   "metadata": {},
   "outputs": [
    {
     "data": {
      "text/plain": [
       "21500"
      ]
     },
     "execution_count": 89,
     "metadata": {},
     "output_type": "execute_result"
    }
   ],
   "source": [
    "n\n",
    "#This is the number of objects in training data"
   ]
  },
  {
   "cell_type": "markdown",
   "metadata": {},
   "source": [
    "# Signal Strength Latitude Longitude Regression of degree 1"
   ]
  },
  {
   "cell_type": "code",
   "execution_count": 90,
   "metadata": {},
   "outputs": [],
   "source": [
    "sum_x1=0\n",
    "#sum_x1 means summation of x1 for all objects\n",
    "sum_x2=0\n",
    "#sum_x2 means summation of x2 for all objects\n",
    "sum_y1=0\n",
    "sum_x1x1=0\n",
    "sum_x1x2=0\n",
    "sum_x2x2=0\n",
    "sum_x1y1=0\n",
    "sum_x2y1=0\n",
    "#The sums act as accumulator \n",
    "for i in range(0,n):\n",
    "    sum_x1=sum_x1+x_train['Latitude'][i]\n",
    "    sum_x2=sum_x2+x_train['Longitude'][i]\n",
    "    sum_y1=sum_y1+y_train[i]\n",
    "    sum_x1x1=sum_x1x1+x_train['Latitude'][i]*x_train['Latitude'][i]\n",
    "    sum_x1x2=sum_x1x2+x_train['Latitude'][i]*x_train['Longitude'][i]\n",
    "    sum_x2x2=sum_x2x2+x_train['Longitude'][i]*x_train['Longitude'][i]\n",
    "    sum_x1y1=sum_x1y1+x_train['Latitude'][i]*y_train[i]\n",
    "    sum_x2y1=sum_x2y1+x_train['Longitude'][i]*y_train[i]\n",
    "A = np.array([[n, sum_x1, sum_x2], [sum_x1, sum_x1x1, sum_x1x2],[sum_x2,sum_x1x2,sum_x2x2]])\n",
    "B=np.array([sum_y1, sum_x1y1, sum_x2y1])\n",
    "#All the sums are used to calculate A and then X is calculated using AX=B so X=Inverse(A)*B \n",
    "#X will give all the parameters(w0,w1,w2)"
   ]
  },
  {
   "cell_type": "code",
   "execution_count": 91,
   "metadata": {},
   "outputs": [
    {
     "data": {
      "text/plain": [
       "array([[21500.        , 11305.59854537,  6946.46140205],\n",
       "       [11305.59854537,  6825.95490532,  3754.38127528],\n",
       "       [ 6946.46140205,  3754.38127528,  2972.37613929]])"
      ]
     },
     "execution_count": 91,
     "metadata": {},
     "output_type": "execute_result"
    }
   ],
   "source": [
    "A"
   ]
  },
  {
   "cell_type": "code",
   "execution_count": 92,
   "metadata": {},
   "outputs": [
    {
     "data": {
      "text/plain": [
       "array([10277.11947377,  5404.55831731,  3320.91843363])"
      ]
     },
     "execution_count": 92,
     "metadata": {},
     "output_type": "execute_result"
    }
   ],
   "source": [
    "B"
   ]
  },
  {
   "cell_type": "code",
   "execution_count": 93,
   "metadata": {},
   "outputs": [],
   "source": [
    "Inverse=inv(A)\n",
    "w0=Inverse[0][0]*B[0]+Inverse[0][1]*B[1]+Inverse[0][2]*B[2]\n",
    "w1=Inverse[1][0]*B[0]+Inverse[1][1]*B[1]+Inverse[1][2]*B[2]\n",
    "w2=Inverse[2][0]*B[0]+Inverse[2][1]*B[1]+Inverse[2][2]*B[2]\n",
    "W=np.array([w0,w1,w2])"
   ]
  },
  {
   "cell_type": "code",
   "execution_count": 94,
   "metadata": {},
   "outputs": [
    {
     "data": {
      "text/plain": [
       "array([4.77600305e-01, 4.07924288e-04, 5.90384020e-04])"
      ]
     },
     "execution_count": 94,
     "metadata": {},
     "output_type": "execute_result"
    }
   ],
   "source": [
    "W\n",
    "#W is the parameter array"
   ]
  },
  {
   "cell_type": "code",
   "execution_count": 95,
   "metadata": {},
   "outputs": [
    {
     "data": {
      "text/plain": [
       "0.001040985302475305"
      ]
     },
     "execution_count": 95,
     "metadata": {},
     "output_type": "execute_result"
    }
   ],
   "source": [
    "y_pred=w0+w1*x_test['Latitude']+w2*x_test['Longitude']\n",
    "#y_pred gives the predicted values of y based on the regression model\n",
    "MSE=0\n",
    "for i in range(0,len(y_test)):\n",
    "    MSE=MSE+(y_pred[i]-y_test[i])**2\n",
    "RMSE1=np.sqrt(MSE/len(y_test))\n",
    "RMSE1\n",
    "#RMSE is used to find the goodness of the model and is calacuated as root of sum of square of difference of actual and prediacted values."
   ]
  },
  {
   "cell_type": "markdown",
   "metadata": {},
   "source": [
    "# Signal Strength Latitude Longitude Regression of degree 2\n"
   ]
  },
  {
   "cell_type": "code",
   "execution_count": 96,
   "metadata": {},
   "outputs": [],
   "source": [
    "sum_x1x1=0\n",
    "#sum_x1x1 means summation of square of x1 for all objects\n",
    "sum_x2x2=0\n",
    "#sum_x2x2 means summation of square of x2 for all objects\n",
    "sum_x1x2=0\n",
    "#sum_x1x2 means summation of product of x1 and x2 for all objects\n",
    "sum_x1=0\n",
    "sum_x2=0\n",
    "sum_x1x1x1x1=0\n",
    "sum_x1x1x2x2=0\n",
    "sum_x1x1x1x2=0\n",
    "sum_x1x1x1=0\n",
    "sum_x1x1x2=0\n",
    "sum_x2x2=0\n",
    "sum_x2x2x2x2=0\n",
    "sum_x1x2x2x2=0\n",
    "sum_x1x2x2=0\n",
    "sum_x2x2x2=0\n",
    "sum_y1=0\n",
    "sum_x1x1y1=0\n",
    "sum_x2x2y1=0\n",
    "sum_x1x2y1=0\n",
    "sum_x1y1=0\n",
    "sum_x2y1=0\n",
    "for i in range(0,n):\n",
    "    sum_y1=sum_y1+y_train[i]\n",
    "    sum_x1y1=sum_x1y1+x_train['Latitude'][i]*y_train[i]\n",
    "    sum_x2y1=sum_x2y1+x_train['Longitude'][i]*y_train[i]\n",
    "    sum_x1x1y1=sum_x1x1y1+(x_train['Latitude'][i]**2)*y_train[i]\n",
    "    sum_x2x2y1=sum_x2x2y1+(x_train['Longitude'][i]**2)*y_train[i]\n",
    "    sum_x1x2y1=sum_x1x2y1+x_train['Latitude'][i]*x_train['Longitude'][i]*y_train[i]\n",
    "    sum_x1=sum_x1+x_train['Latitude'][i]\n",
    "    sum_x2=sum_x2+x_train['Longitude'][i]\n",
    "    sum_x1x1=sum_x1x1+x_train['Latitude'][i]*x_train['Latitude'][i]\n",
    "    sum_x1x2=sum_x1x2+x_train['Latitude'][i]*x_train['Longitude'][i]\n",
    "    sum_x2x2=sum_x2x2+x_train['Longitude'][i]*x_train['Longitude'][i]\n",
    "    sum_x1x1x1=sum_x1x1x1+(x_train['Latitude'][i])**3\n",
    "    sum_x2x2x2=sum_x2x2x2+(x_train['Longitude'][i])**3\n",
    "    sum_x1x1x2=sum_x1x1x2+((x_train['Latitude'][i])**2)*x_train['Longitude'][i]\n",
    "    sum_x1x2x2=sum_x1x2x2+x_train['Latitude'][i]*(x_train['Longitude'][i])**2\n",
    "    sum_x1x1x1x1=sum_x1x1x1x1+x_train['Latitude'][i]**4\n",
    "    sum_x2x2x2x2=sum_x2x2x2x2+x_train['Longitude'][i]**4\n",
    "    sum_x1x1x2x2=sum_x1x1x2x2+(x_train['Latitude'][i]*x_train['Longitude'][i])**2\n",
    "    sum_x1x1x1x2=sum_x1x1x1x2+(x_train['Latitude'][i]**3)*x_train['Longitude'][i]\n",
    "    sum_x1x2x2x2=sum_x1x2x2x2+x_train['Latitude'][i]*(x_train['Longitude'][i])**3\n",
    "#All the sums are used to calculate A and then X is calculated using AX=B so X=Inverse(A)*B \n",
    "#X will give all the parameters(w0,w1,w2,w3,w4,w5)"
   ]
  },
  {
   "cell_type": "code",
   "execution_count": 97,
   "metadata": {},
   "outputs": [],
   "source": [
    "A = np.array([[n, sum_x1x1, sum_x2x2,sum_x1x2,sum_x1,sum_x2], [sum_x1x1, sum_x1x1x1x1, sum_x1x1x2x2,sum_x1x1x1x2,sum_x1x1x1,sum_x1x1x2],[sum_x2x2,sum_x1x1x2x2,sum_x2x2x2x2,sum_x1x2x2x2,sum_x1x2x2,sum_x2x2x2],[sum_x1x2,sum_x1x1x1x2,sum_x1x2x2x2,sum_x1x1x2x2,sum_x1x1x2,sum_x1x2x2],[sum_x1,sum_x1x1x1,sum_x1x2x2,sum_x1x1x2,sum_x1x1,sum_x1x2],[sum_x2,sum_x1x1x2,sum_x2x2x2,sum_x1x2x2,sum_x1x2,sum_x2x2]]                                   )\n",
    "B=np.array([sum_y1, sum_x1x1y1, sum_x2x2y1,sum_x1x2y1,sum_x1y1,sum_x2y1])"
   ]
  },
  {
   "cell_type": "code",
   "execution_count": 98,
   "metadata": {},
   "outputs": [
    {
     "data": {
      "text/plain": [
       "array([[21500.        ,  6825.95490532,  2972.37613929,  3754.38127528,\n",
       "        11305.59854537,  6946.46140205],\n",
       "       [ 6825.95490532,  3156.62435296,  1027.46998534,  1546.67331952,\n",
       "         4499.52034424,  2319.52019583],\n",
       "       [ 2972.37613929,  1027.46998534,   922.57426515,   892.38862712,\n",
       "         1657.43453661,  1556.96804838],\n",
       "       [ 3754.38127528,  1546.67331952,   892.38862712,  1027.46998534,\n",
       "         2319.52019583,  1657.43453661],\n",
       "       [11305.59854537,  4499.52034424,  1657.43453661,  2319.52019583,\n",
       "         6825.95490532,  3754.38127528],\n",
       "       [ 6946.46140205,  2319.52019583,  1556.96804838,  1657.43453661,\n",
       "         3754.38127528,  2972.37613929]])"
      ]
     },
     "execution_count": 98,
     "metadata": {},
     "output_type": "execute_result"
    }
   ],
   "source": [
    "A"
   ]
  },
  {
   "cell_type": "code",
   "execution_count": 99,
   "metadata": {},
   "outputs": [
    {
     "data": {
      "text/plain": [
       "array([10277.11947377,  3263.02095782,  1421.22439484,  1794.97096953,\n",
       "        5404.55831731,  3320.91843363])"
      ]
     },
     "execution_count": 99,
     "metadata": {},
     "output_type": "execute_result"
    }
   ],
   "source": [
    "B"
   ]
  },
  {
   "cell_type": "code",
   "execution_count": 100,
   "metadata": {},
   "outputs": [],
   "source": [
    "Inverse=inv(A)"
   ]
  },
  {
   "cell_type": "code",
   "execution_count": 101,
   "metadata": {},
   "outputs": [
    {
     "data": {
      "text/plain": [
       "array([[ 0.01004759,  0.01394779,  0.0125862 ,  0.02629619, -0.02369846,\n",
       "        -0.02568816],\n",
       "       [ 0.01394779,  0.03503786,  0.03038474,  0.01051099, -0.03997112,\n",
       "        -0.03122798],\n",
       "       [ 0.0125862 ,  0.03038474,  0.07955316, -0.02744103, -0.02340052,\n",
       "        -0.04993752],\n",
       "       [ 0.02629619,  0.01051099, -0.02744103,  0.15319246, -0.06055217,\n",
       "        -0.06422192],\n",
       "       [-0.02369846, -0.03997112, -0.02340052, -0.06055217,  0.06247713,\n",
       "         0.05368311],\n",
       "       [-0.02568816, -0.03122798, -0.04993752, -0.06422192,  0.05368311,\n",
       "         0.07890105]])"
      ]
     },
     "execution_count": 101,
     "metadata": {},
     "output_type": "execute_result"
    }
   ],
   "source": [
    "Inverse"
   ]
  },
  {
   "cell_type": "code",
   "execution_count": 102,
   "metadata": {},
   "outputs": [],
   "source": [
    "w0=Inverse[0][0]*B[0]+Inverse[0][1]*B[1]+Inverse[0][2]*B[2]+Inverse[0][3]*B[3]+Inverse[0][4]*B[4]+Inverse[0][5]*B[5]\n",
    "w1=Inverse[1][0]*B[0]+Inverse[1][1]*B[1]+Inverse[1][2]*B[2]+Inverse[1][3]*B[3]+Inverse[1][4]*B[4]+Inverse[1][5]*B[5]\n",
    "w2=Inverse[2][0]*B[0]+Inverse[2][1]*B[1]+Inverse[2][2]*B[2]+Inverse[2][3]*B[3]+Inverse[2][4]*B[4]+Inverse[2][5]*B[5]\n",
    "w3=Inverse[3][0]*B[0]+Inverse[3][1]*B[1]+Inverse[3][2]*B[2]+Inverse[3][3]*B[3]+Inverse[3][4]*B[4]+Inverse[3][5]*B[5]\n",
    "w4=Inverse[4][0]*B[0]+Inverse[4][1]*B[1]+Inverse[4][2]*B[2]+Inverse[4][3]*B[3]+Inverse[4][4]*B[4]+Inverse[4][5]*B[5]\n",
    "w5=Inverse[5][0]*B[0]+Inverse[5][1]*B[1]+Inverse[5][2]*B[2]+Inverse[5][3]*B[3]+Inverse[5][4]*B[4]+Inverse[5][5]*B[5]\n",
    "W=np.array([w0,w1,w2,w3,w4,w5])\n",
    "#Matrix multiplication gives w0,w1,w2,w3,w4,w5"
   ]
  },
  {
   "cell_type": "code",
   "execution_count": 103,
   "metadata": {},
   "outputs": [
    {
     "data": {
      "text/plain": [
       "array([ 0.47296749, -0.00903213, -0.00496578, -0.01059884,  0.01325304,\n",
       "        0.01075223])"
      ]
     },
     "execution_count": 103,
     "metadata": {},
     "output_type": "execute_result"
    }
   ],
   "source": [
    "W"
   ]
  },
  {
   "cell_type": "code",
   "execution_count": 110,
   "metadata": {},
   "outputs": [
    {
     "data": {
      "text/plain": [
       "0.0009738926926944041"
      ]
     },
     "execution_count": 110,
     "metadata": {},
     "output_type": "execute_result"
    }
   ],
   "source": [
    "y_pred=w0+w1*x_test['Latitude']**2+w2*x_test['Longitude']**2+w3*x_test['Latitude']*x_test['Longitude']+w4*x_test['Latitude']+w5*x_test['Longitude']\n",
    "#y_pred gives the predicted values of y based on the regression model\n",
    "MSE=0\n",
    "for i in range(0,len(y_test)):\n",
    "    MSE=MSE+(y_pred[i]-y_test[i])**2\n",
    "RMSE2=np.sqrt(MSE/len(y_test))\n",
    "RMSE2\n",
    "#RMSE value for model 2 is also found"
   ]
  },
  {
   "cell_type": "code",
   "execution_count": 111,
   "metadata": {},
   "outputs": [
    {
     "data": {
      "text/plain": [
       "6.709260978090084e-05"
      ]
     },
     "execution_count": 111,
     "metadata": {},
     "output_type": "execute_result"
    }
   ],
   "source": [
    "RMSE1-RMSE2\n",
    "#RMSE value for both models are almost same\n",
    "#RMSE are the root mean square errors for models of degree 1 and degree 2"
   ]
  }
 ],
 "metadata": {
  "kernelspec": {
   "display_name": "Python 3",
   "language": "python",
   "name": "python3"
  },
  "language_info": {
   "codemirror_mode": {
    "name": "ipython",
    "version": 3
   },
   "file_extension": ".py",
   "mimetype": "text/x-python",
   "name": "python",
   "nbconvert_exporter": "python",
   "pygments_lexer": "ipython3",
   "version": "3.7.3"
  }
 },
 "nbformat": 4,
 "nbformat_minor": 2
}
